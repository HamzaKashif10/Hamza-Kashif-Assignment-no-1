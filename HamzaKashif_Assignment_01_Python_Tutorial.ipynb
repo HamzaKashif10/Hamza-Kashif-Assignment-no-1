{
 "cells": [
  {
   "cell_type": "markdown",
   "id": "b30e91c6-5af9-4c96-88a7-df1867799694",
   "metadata": {},
   "source": [
    "---\n",
    "# Introduction to Python\n",
    "\n",
    "Python is a high-level, interpreted programming language known for its simplicity and readability. It is widely used in web development, data analysis, artificial intelligence, automation, and more.\n",
    "\n",
    "Some key features of Python:\n",
    "- Easy to learn and write\n",
    "- Dynamically typed\n",
    "- Large standard library\n",
    "- Supports multiple programming paradigms (procedural, object-oriented, functional)\n",
    "\n",
    "In this assignment, we will explore basic Python concepts using examples like:\n",
    "- Lists and sets\n",
    "- Type conversion\n",
    "- Adding and updating data\n",
    "- Handling errors\n"
   ]
  },
  {
   "cell_type": "markdown",
   "id": "88cd8ce2-4e0d-41a8-87e1-ff9c42cff3d2",
   "metadata": {},
   "source": [
    "### Topic 01:  Printing \"Hello, World!\" using the `print()` function\n",
    "\n",
    "The `print()` function in Python is used to display output on the screen.  \n",
    "It sends the specified message or value to the standard output .\n"
   ]
  },
  {
   "cell_type": "code",
   "execution_count": 1,
   "id": "173ec1fa-f32c-4343-ad7e-eb9747870bed",
   "metadata": {},
   "outputs": [
    {
     "name": "stdout",
     "output_type": "stream",
     "text": [
      "hello world\n"
     ]
    }
   ],
   "source": [
    "print (\"hello world\")"
   ]
  },
  {
   "cell_type": "markdown",
   "id": "28c87207-7e07-4e80-92fe-ff719106ef19",
   "metadata": {},
   "source": [
    "### Variables "
   ]
  },
  {
   "cell_type": "markdown",
   "id": "370bb484-4e5e-460e-bf8b-b9839989d672",
   "metadata": {},
   "source": [
    "A variable is like a container , that stores data in your program.\n",
    "In Python, variables don't need explicit declaration to occupy memory space.\n",
    "The type of the variable will be decided after assigning the value to it."
   ]
  },
  {
   "cell_type": "code",
   "execution_count": 4,
   "id": "7cd94666-72d1-4dc1-9119-87508d078113",
   "metadata": {},
   "outputs": [
    {
     "name": "stdout",
     "output_type": "stream",
     "text": [
      "100.0\n",
      "100\n",
      "Hamza\n"
     ]
    }
   ],
   "source": [
    "counter = 100.00\n",
    "miles = 100\n",
    "name = \"Hamza\"\n",
    "print(counter)\n",
    "print(miles)\n",
    "print(name)"
   ]
  },
  {
   "cell_type": "markdown",
   "id": "0ef8574d-3446-4dde-a1b5-a073de1008a3",
   "metadata": {},
   "source": [
    "### Topic 2: Numbers\n",
    "\n",
    "Python can work with whole numbers (integers) and decimal numbers (floats).  \n",
    "You can do math using operators like `+`, `-`, `*`, `/`, `**`.\n",
    "\n",
    "**What each line does**:\n",
    "- `2` → Just prints the number\n",
    "- `2 + 3` → Adds numbers = 5\n",
    "- `5 - 2` → Subtracts = 3\n",
    "- `10 * 2` → Multiplies = 20\n",
    "- `10 / 2` → Divides = 5.0\n",
    "- `2 ** 3` → 2 raised to power 3 = 8\n"
   ]
  },
  {
   "cell_type": "markdown",
   "id": "c06e3858-e90b-45e6-ba96-212d2cdd538a",
   "metadata": {},
   "source": [
    "### What the Code Shows\n",
    "\n",
    "- `int_num = 10` → This is an integer (whole number)\n",
    "- `float_num = 3.14` → This is a float (decimal number)\n",
    "- `2 ** 3` → Exponentiation: 2 raised to the power 3 = 8\n"
   ]
  },
  {
   "cell_type": "code",
   "execution_count": 3,
   "id": "d325ada2-4d50-436f-9638-084ba0ab839b",
   "metadata": {},
   "outputs": [
    {
     "name": "stdout",
     "output_type": "stream",
     "text": [
      "2\n",
      "5\n",
      "3\n",
      "20\n",
      "5.0\n",
      "8\n"
     ]
    }
   ],
   "source": [
    "print(2)            # Integer\n",
    "print(2 + 3)        # Addition\n",
    "print(5 - 2)        # Subtraction\n",
    "print(10 * 2)       # Multiplication\n",
    "print(10 / 2)       # Division\n",
    "print(2 ** 3)       # Power (2^3)"
   ]
  },
  {
   "cell_type": "markdown",
   "id": "9272bbf8-b2bb-4c1c-8484-6ced7edc78e6",
   "metadata": {},
   "source": [
    "### Topic 3: Strings \n",
    "\n",
    "* String data types are used to store words or combination of words having letters, numbers, special characters etc.\n",
    "* It can be stored by enclosing within single qoutes and double qoutes also.\n",
    "* Python doesn't support char data type. It will be as String of length one in Python.\n"
   ]
  },
  {
   "cell_type": "code",
   "execution_count": 1,
   "id": "4806455d-3095-4416-bcec-4fbb0d1822ac",
   "metadata": {},
   "outputs": [
    {
     "name": "stdout",
     "output_type": "stream",
     "text": [
      "Babar Nust\n"
     ]
    }
   ],
   "source": [
    "name= \"Babar\" \n",
    "University = \"Nust\"\n",
    "print(name,University)"
   ]
  },
  {
   "cell_type": "markdown",
   "id": "ef854b7f-06bc-4fc1-a529-b0bb167a79fb",
   "metadata": {},
   "source": [
    "### Accessing Values in a String\n",
    "\n",
    "In Python, we can access specific characters in a string using **indexing**.\n",
    "\n",
    "- Indexing starts from **0**\n",
    "- `string[0]` → gives the **first character**\n",
    "- `string[1:4]` → gives a **range of characters** from index 1 to 3 (not including 4)\n"
   ]
  },
  {
   "cell_type": "code",
   "execution_count": 12,
   "id": "d5c3ea94-4850-40cc-b348-8e9a73979c10",
   "metadata": {},
   "outputs": [
    {
     "name": "stdout",
     "output_type": "stream",
     "text": [
      "H\n",
      "amz\n"
     ]
    }
   ],
   "source": [
    "name = \"Hamza\"\n",
    "print(name[0])     # H\n",
    "print(name[1:4])   # amz"
   ]
  },
  {
   "cell_type": "markdown",
   "id": "46331b0e-ba6f-46b1-85da-e36be039717d",
   "metadata": {},
   "source": [
    "###  Updating a String \n",
    "\n",
    "Strings in Python are **immutable**, so we cannot change individual characters directly.  \n",
    "However, we can **create a new string** by slicing the old one and adding new text.\n"
   ]
  },
  {
   "cell_type": "code",
   "execution_count": 2,
   "id": "85311861-3a0f-4228-b969-6d66958a43d7",
   "metadata": {},
   "outputs": [
    {
     "name": "stdout",
     "output_type": "stream",
     "text": [
      "Updated string: Hello Python\n"
     ]
    }
   ],
   "source": [
    "stringVariable = \"Hello programmer\"\n",
    "stringVariable = stringVariable[:6] + \"Python\"\n",
    "print(\"Updated string:\", stringVariable)"
   ]
  },
  {
   "cell_type": "markdown",
   "id": "742fe66e-e9e8-4ce2-8138-433da47fea37",
   "metadata": {},
   "source": [
    "###  Deleting a String Variable in Python\n",
    "\n",
    "You can delete an entire string variable using the `del` keyword.\n",
    "\n",
    "####  Example:\n",
    "```python\n",
    "stringVariable = \"Hello World\"\n",
    "del stringVariable\n",
    "print(stringVariable)  # This will give a NameError because you have deleted the string so it is not defined anymore \n"
   ]
  },
  {
   "cell_type": "code",
   "execution_count": 14,
   "id": "93ef4eb8-f8c3-4403-9d76-41e38e48cf0f",
   "metadata": {},
   "outputs": [
    {
     "name": "stdout",
     "output_type": "stream",
     "text": [
      "Hello World\n"
     ]
    },
    {
     "ename": "NameError",
     "evalue": "name 'stringVariable' is not defined",
     "output_type": "error",
     "traceback": [
      "\u001b[1;31m---------------------------------------------------------------------------\u001b[0m",
      "\u001b[1;31mNameError\u001b[0m                                 Traceback (most recent call last)",
      "Cell \u001b[1;32mIn[14], line 6\u001b[0m\n\u001b[0;32m      2\u001b[0m \u001b[38;5;28mprint\u001b[39m(stringVariable)  \u001b[38;5;66;03m# Output: Hello World\u001b[39;00m\n\u001b[0;32m      4\u001b[0m \u001b[38;5;28;01mdel\u001b[39;00m stringVariable     \u001b[38;5;66;03m# Deletes the entire variable\u001b[39;00m\n\u001b[1;32m----> 6\u001b[0m \u001b[38;5;28mprint\u001b[39m(stringVariable)\n",
      "\u001b[1;31mNameError\u001b[0m: name 'stringVariable' is not defined"
     ]
    }
   ],
   "source": [
    "stringVariable = \"Hello World\"\n",
    "print(stringVariable)  # Output: Hello World\n",
    "\n",
    "del stringVariable     # Deletes the entire variable\n",
    "\n",
    "print(stringVariable)  #  This will cause an error\n"
   ]
  },
  {
   "cell_type": "markdown",
   "id": "b5618927-9e2d-4352-9972-49cfab83dddc",
   "metadata": {},
   "source": [
    "###  String Special Operators in Python\n",
    "\n",
    "Python supports special operators to work with strings:\n",
    "\n",
    "####  Examples:\n",
    "\n",
    "- `+` → **Concatenation**: Joins two strings\n",
    "\n",
    "\"Hello\" + \"Hamza\" → \"HelloHamza\"\n"
   ]
  },
  {
   "cell_type": "code",
   "execution_count": 3,
   "id": "3dba20f1-8450-4875-a772-9698d86946f9",
   "metadata": {},
   "outputs": [
    {
     "name": "stdout",
     "output_type": "stream",
     "text": [
      "heypython\n"
     ]
    }
   ],
   "source": [
    "variable = \"hey\"\n",
    "print ( variable + 'python')"
   ]
  },
  {
   "cell_type": "markdown",
   "id": "9e651592-50c0-4db8-9d59-055f0d9c7ce8",
   "metadata": {},
   "source": [
    "***used for repitation**\n",
    "\"Hi\" * 3 → \"HiHiHi\"\n"
   ]
  },
  {
   "cell_type": "code",
   "execution_count": 4,
   "id": "f68520bf-48b2-45e0-871c-194d702675e4",
   "metadata": {},
   "outputs": [
    {
     "name": "stdout",
     "output_type": "stream",
     "text": [
      "hellohellohello\n"
     ]
    }
   ],
   "source": [
    "variable = \"hello\"\n",
    "print(variable *3)"
   ]
  },
  {
   "cell_type": "markdown",
   "id": "dd2552c2-9a38-4747-aacd-53410fe93bc9",
   "metadata": {},
   "source": [
    "**[]** **give the character of string at given index**"
   ]
  },
  {
   "cell_type": "code",
   "execution_count": 17,
   "id": "e9cdd229-4c2e-4f7b-9251-a9cbb33c0f83",
   "metadata": {},
   "outputs": [
    {
     "name": "stdout",
     "output_type": "stream",
     "text": [
      "e\n"
     ]
    }
   ],
   "source": [
    "variable = 'hello'\n",
    "print(variable [1])"
   ]
  },
  {
   "cell_type": "markdown",
   "id": "0b248363-565f-44b2-b1e2-b750146b9849",
   "metadata": {},
   "source": [
    "**[:]** **give the character of string at given index.\n",
    "is used to get a range of characters from string**"
   ]
  },
  {
   "cell_type": "code",
   "execution_count": 18,
   "id": "a2b49b6e-1999-48ed-adc5-ea96c14dd0b2",
   "metadata": {},
   "outputs": [
    {
     "name": "stdout",
     "output_type": "stream",
     "text": [
      "el\n"
     ]
    }
   ],
   "source": [
    "variable = 'hello'\n",
    "print (variable [1:3])"
   ]
  },
  {
   "cell_type": "markdown",
   "id": "7cf363ff-b9a6-444a-b5c6-9376734cfd9d",
   "metadata": {},
   "source": [
    "in \n",
    "**in function check if a substring exists**"
   ]
  },
  {
   "cell_type": "code",
   "execution_count": 20,
   "id": "3fa350a0-5768-4292-b14c-8322ef33fb9c",
   "metadata": {},
   "outputs": [
    {
     "name": "stdout",
     "output_type": "stream",
     "text": [
      "True\n"
     ]
    }
   ],
   "source": [
    "variable= 'hello'\n",
    "print('h'in variable)"
   ]
  },
  {
   "cell_type": "code",
   "execution_count": 21,
   "id": "ac171a18-15df-4e1d-abc0-a5618172f594",
   "metadata": {},
   "outputs": [
    {
     "name": "stdout",
     "output_type": "stream",
     "text": [
      "False\n"
     ]
    }
   ],
   "source": [
    "variable ='hey'\n",
    "print('z' in variable)"
   ]
  },
  {
   "cell_type": "markdown",
   "id": "25ef403d-76a6-4b01-b612-8a17cddff944",
   "metadata": {},
   "source": [
    "###  String Formatting Operator (%)\n",
    "\n",
    "The `%` symbol is used to insert values into a string using placeholders.\n",
    "\n",
    "####  Example:\n",
    "```python\n",
    "name = \"Hamza\"\n",
    "age = 18\n",
    "print(\"My name is %s and I am %d years old.\" % (name, age))\n"
   ]
  },
  {
   "cell_type": "code",
   "execution_count": 22,
   "id": "bbe348c4-4494-47df-865a-eacbc94d1551",
   "metadata": {},
   "outputs": [
    {
     "name": "stdout",
     "output_type": "stream",
     "text": [
      "My name is Hamza and I am 18 years old.\n"
     ]
    }
   ],
   "source": [
    "# Using % formatting\n",
    "name = \"Hamza\"\n",
    "age = 18\n",
    "\n",
    "print(\"My name is %s and I am %d years old.\" % (name, age))\n"
   ]
  },
  {
   "cell_type": "markdown",
   "id": "8fcb492a-9972-46ca-acc4-97b735706ebf",
   "metadata": {},
   "source": [
    "###  Topic 4: Lists\n",
    "\n",
    "A **list** is a group of items stored in a single variable.  \n",
    "* Lists are written using square brackets `[ ]` and can hold different data types.\n",
    "* Multiple types of data can be stored in list .\n",
    "* List indices starts from 0 just like arrays.\n",
    "\n",
    "\n",
    "####  Example:\n",
    "my_list = ['math', 99, 'physics']\n"
   ]
  },
  {
   "cell_type": "code",
   "execution_count": 5,
   "id": "dab6902e-0d3d-40cc-98d2-58fe8a7e39c0",
   "metadata": {},
   "outputs": [
    {
     "name": "stdout",
     "output_type": "stream",
     "text": [
      "['Imran Khan', '1992']\n"
     ]
    }
   ],
   "source": [
    "list1 = ['Imran Khan','1992']\n",
    "print(list1)"
   ]
  },
  {
   "cell_type": "markdown",
   "id": "dba1bc71-b310-43a0-805d-91d8c5a386ca",
   "metadata": {},
   "source": [
    "### Accessing Values in a List\n",
    "\n",
    "* We use **index numbers** to access list items.\n",
    "* Square brackets are used to access the values of a list.\n",
    "* We can access a specific values or range of values from list.\n",
    "\n",
    "#### Example:\n",
    "\n",
    "subjects = ['math', 'physics', 'chemistry', 'biology']\n"
   ]
  },
  {
   "cell_type": "code",
   "execution_count": 6,
   "id": "eb917248-8941-4d5d-8558-ecd13aba7299",
   "metadata": {},
   "outputs": [
    {
     "name": "stdout",
     "output_type": "stream",
     "text": [
      "list1[0]:  geography\n",
      "list2[1:5]:  [2, 3, 4, 5]\n"
     ]
    }
   ],
   "source": [
    "list1 = ['geography', 'chemistry', 1997, 2000];\n",
    "list2 = [1, 2, 3, 4, 5, 6, 7 ];\n",
    "print (\"list1[0]: \", list1[0])\n",
    "print (\"list2[1:5]: \", list2[1:5])"
   ]
  },
  {
   "cell_type": "markdown",
   "id": "ad9484c3-ac58-4d45-afc5-1233a7e25508",
   "metadata": {},
   "source": [
    "###  Updating List Items\n",
    "\n",
    "* Lists in Python are **mutable**, so we can change their values.\n",
    "* We can update single or mupltiple elements of a list by giving slice on left hand of the assignment operator.\n",
    "* It can also be updated using append() function.\n",
    "\n",
    "**Explaination** :\n",
    "* subjects[0] = 'biology' → changes the first item\n",
    "\n",
    "* subjects[-1] = 'computer' → changes the last item\n",
    "\n",
    "* The list becomes: ['biology', 'physics', 'computer']\n",
    "\n",
    "####  Example:\n",
    "\n",
    "subjects = ['math', 'physics', 'chemistry']\n",
    "subjects[0] = 'biology'\n",
    "subjects[-1] = 'computer'\n"
   ]
  },
  {
   "cell_type": "code",
   "execution_count": 2,
   "id": "bfdea556-5bfe-4696-b0bb-8715324820dc",
   "metadata": {},
   "outputs": [
    {
     "name": "stdout",
     "output_type": "stream",
     "text": [
      "['biology', 'physics', 'computer']\n"
     ]
    }
   ],
   "source": [
    "# Original list\n",
    "subjects = ['math', 'physics', 'chemistry']\n",
    "\n",
    "# Update the first item\n",
    "subjects[0] = 'biology'\n",
    "\n",
    "# Update the last item using negative index\n",
    "subjects[-1] = 'computer'\n",
    "\n",
    "print(subjects)  # Output: ['biology', 'physics', 'computer']\n"
   ]
  },
  {
   "cell_type": "markdown",
   "id": "eef11952-f184-428f-9251-586d10dd8654",
   "metadata": {},
   "source": [
    "###  Deleting Items from a List\n",
    "\n",
    "There are 3 main ways to delete items from a list:\n",
    "\n",
    "* del subjects[1] → Deletes item at index 1 → removes 'physics'\n",
    "\n",
    "* subjects.remove('chemistry') → Removes the item with that value\n",
    "\n",
    "* subjects.pop() → Removes the last item (returns 'biology')\n",
    "####  Note :\n",
    "\n",
    "* del is used with index\n",
    "\n",
    "* remove() is used with value\n",
    "\n",
    "* pop() removes the last item by default (can also use index)"
   ]
  },
  {
   "cell_type": "code",
   "execution_count": 3,
   "id": "90f45762-78a0-4ab5-a2f6-f93e770e0fe6",
   "metadata": {},
   "outputs": [
    {
     "name": "stdout",
     "output_type": "stream",
     "text": [
      "['math']\n",
      "biology\n"
     ]
    }
   ],
   "source": [
    "subjects = ['math', 'physics', 'chemistry', 'biology']\n",
    "\n",
    "# Using del\n",
    "del subjects[1]  # Deletes 'physics'\n",
    "\n",
    "# Using remove()\n",
    "subjects.remove('chemistry')  # Removes item by value\n",
    "\n",
    "# Using pop()\n",
    "last_subject = subjects.pop()  # Removes last item and stores it\n",
    "\n",
    "print(subjects)        # Output: ['math']\n",
    "print(last_subject)    # Output: biology\n"
   ]
  },
  {
   "cell_type": "markdown",
   "id": "1a6db1ef-8b65-444e-aea0-eaefc6181a73",
   "metadata": {},
   "source": [
    "###  Topic 5: Dictionaries\n",
    "\n",
    "Dictionaries in Python store **data as key-value pairs**.  \n",
    "They are written using `{}` and each item is like `\"key\": value`.\n",
    "\n",
    "####  Example:\n",
    "student = {\n",
    "    \"name\": \"Hamza\",\n",
    "    \"age\": 18,\n",
    "    \"course\": \"AI Bootcamp\"\n",
    "}\n"
   ]
  },
  {
   "cell_type": "code",
   "execution_count": 7,
   "id": "929d52d3-2817-4dc4-9d4f-8df9894b297d",
   "metadata": {},
   "outputs": [],
   "source": [
    "# Creating a dictionary\n",
    "student = {\n",
    "    \"name\": \"Hamza\",\n",
    "    \"age\": 18,\n",
    "    \"course\": \"AI Bootcamp\"\n",
    "}"
   ]
  },
  {
   "cell_type": "markdown",
   "id": "1b24217e-4f4b-49ce-974a-90852349b1ec",
   "metadata": {},
   "source": [
    "### Accessing Values in a Dictionary\n",
    "\n",
    "* We can access dictionary values using their **keys**.\n",
    "* We can use the familiar square brackets along with the key to obtain its value. Following is a simple example\n"
   ]
  },
  {
   "cell_type": "code",
   "execution_count": 7,
   "id": "e2af0d70-1856-4b3d-a68a-3eef6ffdc95a",
   "metadata": {},
   "outputs": [
    {
     "name": "stdout",
     "output_type": "stream",
     "text": [
      "BSSE\n"
     ]
    }
   ],
   "source": [
    "dict = {'Name':\"Mehvish\", 'Depart': \"BSSE\", 'Batch': 2014}\n",
    "print (dict['Depart'])"
   ]
  },
  {
   "cell_type": "markdown",
   "id": "3546912b-ecad-4c09-9ecc-0d5ecb00e18c",
   "metadata": {},
   "source": [
    "###  Updating a Dictionary\n",
    "\n",
    "* Dictionaries are **mutable**, so we can change or add values using keys.\n",
    "* We can update already existing value in dictionary.\n",
    "* We can also add a new entry in dictionary.\n",
    "\n",
    "\n"
   ]
  },
  {
   "cell_type": "code",
   "execution_count": 8,
   "id": "a9db7864-c791-4d63-81ac-f216f77d436b",
   "metadata": {},
   "outputs": [
    {
     "name": "stdout",
     "output_type": "stream",
     "text": [
      "{'Name': 'Shaheen', 'Depart': 'BSCS', 'Batch': 2010}\n",
      "{'Name': 'Shaheen', 'Depart': 'BSCS', 'Batch': 'SP14'}\n",
      "{'Name': 'Shaheen', 'Depart': 'BSCS', 'Batch': 'SP14', 'University': 'Nust'}\n"
     ]
    }
   ],
   "source": [
    "dict = {'Name':\"Shaheen\", 'Depart': \"BSCS\", 'Batch': 2010}\n",
    "print (dict)\n",
    "dict['Batch'] = \"SP14\"\n",
    "print (dict)\n",
    "dict['University'] = \"Nust\"\n",
    "print(dict)"
   ]
  },
  {
   "cell_type": "markdown",
   "id": "3adf8e07-8fde-492b-aadd-044fe34ae4af",
   "metadata": {},
   "source": [
    "###  Deleting Items from a Dictionary\n",
    "\n",
    "* You can remove individual key-value pairs or even the entire dictionary.\n",
    "* We can delete individual element of dicitionary and complete content of dictionary.\n",
    "* del is used for individual element removal and clear() function is used to remove entire dictionary.\n",
    "\n",
    "####  Methods:\n",
    "\n",
    "- `del dict[\"key\"]` → Deletes a specific key\n",
    "- `dict.pop(\"key\")` → Removes the key and returns its value\n",
    "- `dict.clear()` → Removes all key-value pairs (empties the dictionary)\n",
    "- `del dict` → Deletes the dictionary completely"
   ]
  },
  {
   "cell_type": "code",
   "execution_count": 9,
   "id": "c2a984c5-2e24-4705-b0bd-ceb16527a04f",
   "metadata": {},
   "outputs": [
    {
     "name": "stdout",
     "output_type": "stream",
     "text": [
      "{'Name': 'Naseem', 'Depart': 'BCAI', 'Batch': 2019}\n",
      "{'Name': 'Naseem', 'Depart': 'BCAI'}\n"
     ]
    }
   ],
   "source": [
    "my_dict = {'Name': \"Naseem\", 'Depart': \"BCAI\", 'Batch': 2019}\n",
    "print(my_dict)\n",
    "\n",
    "del my_dict['Batch']\n",
    "print(my_dict)\n"
   ]
  },
  {
   "cell_type": "code",
   "execution_count": 14,
   "id": "b2c25431-37ac-4f98-8c34-a5640b05c555",
   "metadata": {},
   "outputs": [
    {
     "name": "stdout",
     "output_type": "stream",
     "text": [
      "{}\n"
     ]
    }
   ],
   "source": [
    "my_dict = {'Name': \"Mehvish\", 'Depart': \"BCS\", 'Batch': 2014}\n",
    "my_dict.clear()\n",
    "print(my_dict)\n"
   ]
  },
  {
   "cell_type": "markdown",
   "id": "59480311-6504-47df-af35-45d622fb8198",
   "metadata": {},
   "source": [
    "###  Topic 6: Tuples\n",
    "\n",
    "* Tuples are like lists but **immutable** (they cannot be changed after creation).  \n",
    "* Empty tuple is written using **round brackets `( )`**.\n",
    "* To write a tuple containing a single value, you have to include a comma (,) even though there is only one value. For Example: tup = (40,).\n",
    "* It also has multiple data type values.\n",
    "* Like string indices, tuple indices start at zero, and they can be sliced and so on \n",
    "####  Example:\n",
    "\n",
    "my_tuple = ('math', 'physics', 99, 99)\n"
   ]
  },
  {
   "cell_type": "code",
   "execution_count": 1,
   "id": "85a8bd61-4d9f-44db-a83e-80c4911676e0",
   "metadata": {},
   "outputs": [
    {
     "name": "stdout",
     "output_type": "stream",
     "text": [
      "('Math', '98', 'C programming', '99')\n",
      "98\n",
      "('98', 'C programming')\n"
     ]
    }
   ],
   "source": [
    "tup = ('Math','98', 'C programming', '99')\n",
    "print (tup)\n",
    "print(tup[1])\n",
    "print(tup[1:3])"
   ]
  },
  {
   "cell_type": "markdown",
   "id": "847f4a5e-77d7-425d-b3b4-9e24459f1218",
   "metadata": {},
   "source": [
    "###  \"Updating\" a Tuple\n",
    "\n",
    "Tuples are **immutable**, so you cannot change their items directly.\n",
    "\n",
    "*  This will cause an error:\n",
    "\n",
    "my_tuple = ('math', 'physics')\n",
    "my_tuple[0] = 'biology'  \n"
   ]
  },
  {
   "cell_type": "code",
   "execution_count": 3,
   "id": "a00a177b-b13c-45d4-9576-1c55c8199b07",
   "metadata": {},
   "outputs": [
    {
     "ename": "TypeError",
     "evalue": "'tuple' object does not support item assignment",
     "output_type": "error",
     "traceback": [
      "\u001b[1;31m---------------------------------------------------------------------------\u001b[0m",
      "\u001b[1;31mTypeError\u001b[0m                                 Traceback (most recent call last)",
      "Cell \u001b[1;32mIn[3], line 2\u001b[0m\n\u001b[0;32m      1\u001b[0m my_tuple \u001b[38;5;241m=\u001b[39m (\u001b[38;5;241m1\u001b[39m, \u001b[38;5;241m2\u001b[39m, \u001b[38;5;241m3\u001b[39m)\n\u001b[1;32m----> 2\u001b[0m my_tuple[\u001b[38;5;241m1\u001b[39m] \u001b[38;5;241m=\u001b[39m \u001b[38;5;241m10\u001b[39m\n",
      "\u001b[1;31mTypeError\u001b[0m: 'tuple' object does not support item assignment"
     ]
    }
   ],
   "source": [
    "my_tuple = (1, 2, 3)\n",
    "my_tuple[1] = 10  # Trying to update the second item\n"
   ]
  },
  {
   "cell_type": "markdown",
   "id": "91a690d6-b92a-42bd-ac82-269bce168045",
   "metadata": {},
   "source": [
    "* **instead you can convert into list , update and than convert it back to tuple**"
   ]
  },
  {
   "cell_type": "code",
   "execution_count": 4,
   "id": "6a568f5e-9550-4c0e-9cbf-819c8dadda91",
   "metadata": {},
   "outputs": [
    {
     "name": "stdout",
     "output_type": "stream",
     "text": [
      "Updated tuple: ('biology', 2, 3)\n"
     ]
    }
   ],
   "source": [
    "temp_list = list(my_tuple)\n",
    "temp_list[0] = 'biology'\n",
    "my_tuple = tuple(temp_list)\n",
    "\n",
    "print(\"Updated tuple:\", my_tuple)"
   ]
  },
  {
   "cell_type": "markdown",
   "id": "482b4e9f-47c0-4351-a073-06f50c09f47e",
   "metadata": {},
   "source": [
    "###  Deleting a Tuple\n",
    "\n",
    "* Tuples are **immutable**, so we cannot delete individual items.\n",
    "\n",
    "* But we can delete the **entire tuple** using the `del` keyword.\n",
    "\n",
    "####  Example:\n",
    "\n",
    "my_tuple = ('math', 'physics', 'chemistry')\n",
    "del my_tuple\n"
   ]
  },
  {
   "cell_type": "code",
   "execution_count": 14,
   "id": "9b4fd520-f944-4ecd-ba08-4a1ef1be8a09",
   "metadata": {},
   "outputs": [
    {
     "name": "stdout",
     "output_type": "stream",
     "text": [
      "('physics', 'chemistry', 1997, 2000)\n"
     ]
    },
    {
     "ename": "NameError",
     "evalue": "name 'tup' is not defined",
     "output_type": "error",
     "traceback": [
      "\u001b[1;31m---------------------------------------------------------------------------\u001b[0m",
      "\u001b[1;31mNameError\u001b[0m                                 Traceback (most recent call last)",
      "Cell \u001b[1;32mIn[14], line 4\u001b[0m\n\u001b[0;32m      2\u001b[0m \u001b[38;5;28mprint\u001b[39m (tup);\n\u001b[0;32m      3\u001b[0m \u001b[38;5;28;01mdel\u001b[39;00m tup\n\u001b[1;32m----> 4\u001b[0m \u001b[38;5;28mprint\u001b[39m (tup)\n",
      "\u001b[1;31mNameError\u001b[0m: name 'tup' is not defined"
     ]
    }
   ],
   "source": [
    "tup = ('physics', 'chemistry', 1997, 2000);\n",
    "print (tup);\n",
    "del tup\n",
    "print (tup);"
   ]
  },
  {
   "cell_type": "markdown",
   "id": "c7d587ee-ec82-452a-b6f5-56c3f78d045f",
   "metadata": {},
   "source": [
    "###  Topic: Sets in Python\n",
    "\n",
    "* A **set** is an unordered collection of **unique** items.  \n",
    "* Sets do **not allow duplicates** and do **not support indexing**.\n",
    "\n",
    "####  Explaination :\n",
    "* Every element in **Sets** is immutable and unique . It means no duplicates and no element can be changed.\n",
    "\n",
    "* sets itself are mutable.\n",
    "\n",
    "* Empty sets are written as **{}**\n",
    "\n",
    "* Duplicates are automatically removed → 'math' appears only once\n",
    "\n",
    "* Each item in set will be **comma (,)** seperated.\n",
    "\n",
    "* We can make a set from a list using **set() function**.\n",
    "\n",
    "* Data type can be found using **type() function**.\n",
    "\n",
    "* `my_set.add('biology')` → Adds a new item\n",
    "\n",
    "* `my_set.remove('physics')` → Removes the item\n",
    "\n",
    "* `chemistry' in my_set` → Checks if item exists\n",
    "\n",
    "* `len(my_set)` → Tells the number of items\n",
    "\n",
    "* `discard() and remove()` are used to to delete particular item from set.\n",
    "\n",
    "* `discard()` will not raise an error if item doesn't exists in set.\n",
    "\n",
    "* `remove()` will raise an error if item doesn't exists in set.\n"
   ]
  },
  {
   "cell_type": "code",
   "execution_count": 20,
   "id": "4db64e3b-2ebf-47e6-8658-18bab2364510",
   "metadata": {},
   "outputs": [
    {
     "name": "stdout",
     "output_type": "stream",
     "text": [
      "<class 'list'>\n",
      "{1, 2, 3, 4, 5}\n",
      "<class 'set'>\n",
      "{1, 2, 3}\n",
      "{1, 1.2, 2, 'C', 3, 4, 5, 'D', 'Hello'}\n"
     ]
    },
    {
     "ename": "KeyError",
     "evalue": "'G'",
     "output_type": "error",
     "traceback": [
      "\u001b[1;31m---------------------------------------------------------------------------\u001b[0m",
      "\u001b[1;31mKeyError\u001b[0m                                  Traceback (most recent call last)",
      "Cell \u001b[1;32mIn[20], line 18\u001b[0m\n\u001b[0;32m     16\u001b[0m \u001b[38;5;28mprint\u001b[39m (my_set)\n\u001b[0;32m     17\u001b[0m my_set\u001b[38;5;241m.\u001b[39mdiscard(\u001b[38;5;124m'\u001b[39m\u001b[38;5;124mG\u001b[39m\u001b[38;5;124m'\u001b[39m)\n\u001b[1;32m---> 18\u001b[0m my_set\u001b[38;5;241m.\u001b[39mremove(\u001b[38;5;124m'\u001b[39m\u001b[38;5;124mG\u001b[39m\u001b[38;5;124m'\u001b[39m)\n",
      "\u001b[1;31mKeyError\u001b[0m: 'G'"
     ]
    }
   ],
   "source": [
    " #list\n",
    "list1 = [1,2,3,4,5]\n",
    "print (type(list1))\n",
    "my_set = set(list1)\n",
    "print(my_set) \n",
    "print(type(my_set))\n",
    "#set of integers\n",
    "my_set = {1,2,3}\n",
    "print (my_set)\n",
    "#set of mixed data types\n",
    "my_set = {1,\"Hello\", 1.2,'C'}\n",
    "#adding a single value\n",
    "my_set.add('D')\n",
    "#adding multiple values\n",
    "my_set.update(list1)\n",
    "print (my_set)\n",
    "my_set.discard('G')\n",
    "my_set.remove('G') # it will raise an error because it dose'nt consist in the set"
   ]
  },
  {
   "cell_type": "markdown",
   "id": "20bd134b-562d-49b3-8502-e7b7075d3ae8",
   "metadata": {},
   "source": [
    "### Topic 7: Comparison Operators in Python\n",
    "\n",
    "* Comparison operators are used to compare two values (strings or numbers).  \n",
    "* They return `True` or `False` depending on the result.\n",
    "\n",
    "####  Example:\n",
    "```python\n",
    "a = 10\n",
    "b = 5\n"
   ]
  },
  {
   "cell_type": "code",
   "execution_count": 21,
   "id": "94aa50a8-9ca0-45b1-b4e0-47a1b763de78",
   "metadata": {},
   "outputs": [
    {
     "name": "stdout",
     "output_type": "stream",
     "text": [
      "False\n",
      "True\n",
      "True\n",
      "False\n",
      "True\n",
      "False\n"
     ]
    }
   ],
   "source": [
    "a = 10\n",
    "b = 5\n",
    "\n",
    "print(a == b)   \n",
    "print(a != b)   \n",
    "print(a > b)    \n",
    "print(a < b)    \n",
    "print(a >= b)   \n",
    "print(a <= b)   \n"
   ]
  },
  {
   "cell_type": "markdown",
   "id": "bce28cce-c20f-4ba5-8d41-6f55db498f22",
   "metadata": {},
   "source": [
    "---\n",
    "\n",
    "#  Control Flow in Python :\n",
    "\n",
    "Control flow helps the program **decide what to do next** based on conditions.  \n",
    "It includes:\n",
    "- `if`, `elif`, `else` statements for decisions\n",
    "- `for` and `while` loops for repeating actions\n",
    "\n",
    "We’ll explore each one with examples.\n",
    "\n",
    "---\n"
   ]
  },
  {
   "cell_type": "markdown",
   "id": "94113fb1-d6be-4995-8eed-eb6361a32cda",
   "metadata": {},
   "source": [
    "### Topic 1: If-Else Statements\n",
    "\n",
    "* `if` and `else`  statments are used to control the flow of a program.\n",
    "\n",
    "* `if` block if the codition is true otherwise `else` block \n",
    "\n",
    "###  Example:\n",
    "\n",
    "age = 18\n",
    "\n",
    "if age < 18:\n",
    "    print(\"You are underage.\")\n",
    "elif age == 18:\n",
    "    print(\"You just became an adult!\")\n",
    "else:\n",
    "    print(\"You are an adult.\")\n"
   ]
  },
  {
   "cell_type": "code",
   "execution_count": 24,
   "id": "2946e810-d88a-437a-9c88-129a761d48e6",
   "metadata": {},
   "outputs": [
    {
     "name": "stdout",
     "output_type": "stream",
     "text": [
      "You are an adult\n"
     ]
    }
   ],
   "source": [
    "age = 23\n",
    "if age < 18:\n",
    "    print('You are underage')\n",
    "else:\n",
    "    print('You are an adult')\n"
   ]
  },
  {
   "cell_type": "markdown",
   "id": "9e88e3b8-da64-465f-996f-053626ef4a1b",
   "metadata": {},
   "source": [
    "###  Topic 2: Loops in python: \n",
    "\n",
    "* Loops in python let you repeat action without writting code multiplte times\n",
    "\n",
    "### For Loop in Python:\n",
    "\n",
    "A `for` loop is used to **repeat a block of code** for every item in a list, string, or range.\n",
    "\n",
    "### While loop in pyton:\n",
    "\n",
    "A `while` loop in python runs **as long as the condition is true**\n",
    "\n"
   ]
  },
  {
   "cell_type": "code",
   "execution_count": 31,
   "id": "32f5dde8-dd7e-4aaa-99ae-092ade1bfc33",
   "metadata": {},
   "outputs": [
    {
     "name": "stdout",
     "output_type": "stream",
     "text": [
      "Factorial of 5 is 120\n"
     ]
    }
   ],
   "source": [
    "#example of for loop\n",
    "fact = 1\n",
    "N = 5\n",
    "for i in range(1, N+1):\n",
    "    fact = fact * i\n",
    "print(\"Factorial of\", N, \"is\", fact)\n",
    "\n"
   ]
  },
  {
   "cell_type": "code",
   "execution_count": 32,
   "id": "260912bc-f162-49f0-b558-5e51dcc64130",
   "metadata": {},
   "outputs": [
    {
     "name": "stdout",
     "output_type": "stream",
     "text": [
      "1\n",
      "2\n",
      "3\n",
      "4\n",
      "5\n"
     ]
    }
   ],
   "source": [
    "# example of while loop \n",
    "i = 1\n",
    "while i <= 5:\n",
    "    print(i)\n",
    "    i += 1\n"
   ]
  },
  {
   "cell_type": "markdown",
   "id": "acaa5374-51f8-4d07-99ae-7a159264eff5",
   "metadata": {},
   "source": [
    "---\n",
    "\n",
    "#  Functional Programming in Python\n",
    "\n",
    "In Python, **functions** are reusable blocks of code that perform a specific task.  \n",
    "This section covers:\n",
    "- Defining and calling functions\n",
    "- Using anonymous functions (`lambda`)\n",
    "- Applying functions to collections with `map()` and `filter()`\n",
    "\n",
    "---\n",
    "### The syntax is:\n",
    "\n",
    "*  def functionname( parameters ):\n",
    "* \"function_docstring\"\n",
    "* function_suite\n",
    "* return [expression]"
   ]
  },
  {
   "cell_type": "code",
   "execution_count": 34,
   "id": "3426e20a-124d-4fd4-ba3d-76ddd4393f7a",
   "metadata": {},
   "outputs": [
    {
     "name": "stdout",
     "output_type": "stream",
     "text": [
      "Hello Hamza\n",
      "Hello Kashif\n"
     ]
    }
   ],
   "source": [
    "# Define a function\n",
    "def greet(name):\n",
    "    print(\"Hello\", name)\n",
    "\n",
    "# Call the function\n",
    "greet(\"Hamza\")\n",
    "greet(\"Kashif\")\n"
   ]
  },
  {
   "cell_type": "markdown",
   "id": "734e15a9-39ec-4d09-a953-41426a4188ab",
   "metadata": {},
   "source": [
    "### Topic 1: Lambda Functions\n",
    "\n",
    "* A `lambda` function is a small, anonymous function with **no name**.  \n",
    "* It can take any number of arguments but has only **one expression**.\n",
    "* Lambda function doesn't include return statement, it always contains an expression which is returned.\n",
    "* This piece of code shows the difference between a normal function definition (\"f\") and a lambda function (\"g\"):\n",
    "\n"
   ]
  },
  {
   "cell_type": "code",
   "execution_count": 38,
   "id": "0e4ec63b-bc38-44d5-9eca-31ad28da0169",
   "metadata": {},
   "outputs": [
    {
     "data": {
      "text/plain": [
       "30"
      ]
     },
     "execution_count": 38,
     "metadata": {},
     "output_type": "execute_result"
    }
   ],
   "source": [
    "times3 = lambda var:var*3 # lambda function \n",
    "times3(10)                # lambda expression: another way to write lambda function "
   ]
  },
  {
   "cell_type": "markdown",
   "id": "cf726ae1-32a9-4b46-964c-0b591cf7596f",
   "metadata": {},
   "source": [
    "###  Topic 2 : Map() in Python\n",
    "\n",
    "* The `map()` function applies a function to **every item** in a list.\n",
    "\n",
    "* Map() function is used with two arguments. Just like: r = map(func, seq)\n",
    "\n",
    "* The first argument func is the name of a function and the second a sequence (e.g. a list).\n",
    "\n",
    "* Seq. map() applies the function func to all the elements of the sequence seq. It returns a new list with the elements changed by func.\n",
    "\n",
    "\n"
   ]
  },
  {
   "cell_type": "code",
   "execution_count": 39,
   "id": "b53b9935-cbe8-4c8a-8727-88951be02c35",
   "metadata": {},
   "outputs": [
    {
     "name": "stdout",
     "output_type": "stream",
     "text": [
      "Squares: [1, 4, 9, 16, 25]\n"
     ]
    }
   ],
   "source": [
    "# List of numbers\n",
    "nums = [1, 2, 3, 4, 5]\n",
    "\n",
    "# Using map with a lambda to square each number\n",
    "squares = list(map(lambda x: x**2, nums))\n",
    "print(\"Squares:\", squares)  # Output: [1, 4, 9, 16, 25]\n"
   ]
  },
  {
   "cell_type": "markdown",
   "id": "9fe8335c-dd43-4970-b9b3-ce8d6467dba2",
   "metadata": {},
   "source": [
    "###  Filters in Python\n",
    "\n",
    "* The function filter(function, list) offers an elegant way to filter out all the elements of a list.\n",
    "\n",
    "* The function filter(f,l) needs a function f as its first argument. f returns a Boolean value, i.e. either True or False.\n",
    "\n",
    "* This function will be applied to every element of the list l.\n",
    "\n",
    "* Only if f returns True will the element of the list be included in the result list.\n",
    "\n",
    "\n"
   ]
  },
  {
   "cell_type": "code",
   "execution_count": 40,
   "id": "5d9c0877-ea9c-4afa-b7a5-bd1f7b16a347",
   "metadata": {},
   "outputs": [
    {
     "name": "stdout",
     "output_type": "stream",
     "text": [
      "Even numbers: [2, 4, 6]\n"
     ]
    }
   ],
   "source": [
    "# List of numbers\n",
    "nums = [1, 2, 3, 4, 5, 6]\n",
    "\n",
    "# Using filter to keep even numbers only\n",
    "evens = list(filter(lambda x: x % 2 == 0, nums))\n",
    "\n",
    "print(\"Even numbers:\", evens)  \n"
   ]
  },
  {
   "cell_type": "markdown",
   "id": "d643f699-0207-4c5c-92c9-cf4481dfa6d0",
   "metadata": {},
   "source": [
    "---\n",
    "\n",
    "#  File I/O in Python\n",
    "\n",
    "This section covers how to:\n",
    "- Open and read text files\n",
    "- Write data into files\n",
    "- Work with file positions using `seek()` and `tell()`\n",
    "- Use the `os` module for file system operations\n",
    "\n",
    "---\n"
   ]
  },
  {
   "cell_type": "markdown",
   "id": "fdce5075-a223-4d4a-9a8f-556ce26e98ac",
   "metadata": {},
   "source": [
    "###  Reading Input from Keyboard\n",
    "\n",
    "* Python uses the `input()` function to take input from the user.\n",
    "\n",
    "* For reading input from keyboard, **raw_input()** mehod is used .\n",
    "\n",
    "* It reads only one line from standard input and returns it as a string.\n",
    "\n"
   ]
  },
  {
   "cell_type": "code",
   "execution_count": 2,
   "id": "97eaa139-4fc7-41cb-8795-e9c5fdd41d09",
   "metadata": {},
   "outputs": [
    {
     "name": "stdin",
     "output_type": "stream",
     "text": [
      "Enter your name:  hamza \n"
     ]
    },
    {
     "name": "stdout",
     "output_type": "stream",
     "text": [
      "hamza \n"
     ]
    }
   ],
   "source": [
    " from six.moves import input\n",
    "string = input(\"Enter your name: \");\n",
    "print(string)"
   ]
  },
  {
   "cell_type": "markdown",
   "id": "a30b22a6-a06e-4d9f-9c9a-dfe682bc52a0",
   "metadata": {},
   "source": [
    "###  I/O from and to Text Files\n",
    "\n",
    "Python lets you **store and read data** from `.txt` files using the `open()` function.\n",
    "\n",
    "####  Explaination\n",
    "\n",
    "* `\"w\"` → write mode (creates or overwrites file)\n",
    "\n",
    "* `\"r\"` → read mode\n",
    "\n",
    "* `write()` → writes text to file\n",
    "\n",
    "* `read()` → reads full file content\n",
    "\n",
    "* `for` line in file: → reads line by line\n",
    "\n",
    "* `strip()` → removes newline \\n from each line\n",
    "\n",
    "* `a `opens a file in append mode\n",
    "\n",
    "* `a+` opens a file in append and read mode.\n"
   ]
  },
  {
   "cell_type": "code",
   "execution_count": 23,
   "id": "63cacf8f-f3dc-4022-ae38-ae525fcfba3e",
   "metadata": {},
   "outputs": [
    {
     "name": "stdout",
     "output_type": "stream",
     "text": [
      "Name: Hamza Kashif\n",
      "Department: BSCS Information Technology Lahore\n",
      "\n"
     ]
    }
   ],
   "source": [
    "# Open a file to read and write\n",
    "fileOpen = open(\"file.txt\", \"r+\")\n",
    "\n",
    "# To read specific content from start you can use read(12). It will read 12 characters from the start of the file\n",
    "content = fileOpen.read()  # or use fileOpen.read(12) to read first 12 characters\n",
    "print(content)\n",
    "\n",
    "# Close opened file\n",
    "fileOpen.close()\n",
    "\n"
   ]
  },
  {
   "cell_type": "code",
   "execution_count": 26,
   "id": "c6642c24-8964-4576-83e3-79cb0a787167",
   "metadata": {},
   "outputs": [
    {
     "name": "stdout",
     "output_type": "stream",
     "text": [
      "File content:\n",
      " Name: Hamza Kashif\n",
      "Department: BSCS Information Technology Lahore\n",
      "Information Technology Lahore\n",
      "\n"
     ]
    }
   ],
   "source": [
    "# Open a file to append\n",
    "fileOpen = open(\"file.txt\", \"a+\")\n",
    "fileOpen.write(\"Information Technology Lahore\\n\")  # \\n for a new line\n",
    "fileOpen.close()\n",
    "\n",
    "# Open the file in read mode\n",
    "fileOpen = open(\"file.txt\", \"r+\")\n",
    "\n",
    "# To read specific content from the start, use read(12) to read first 12 characters\n",
    "content = fileOpen.read()\n",
    "print(\"File content:\\n\", content)\n",
    "\n",
    "# Close the opened file\n",
    "fileOpen.close()\n"
   ]
  },
  {
   "cell_type": "markdown",
   "id": "6c5e10bd-6e82-46df-b6c9-bdfdab2332aa",
   "metadata": {},
   "source": [
    "###  File  Position – `tell()` and `seek()`\n",
    "\n",
    "Python lets you **check and change** where the file is being read from using:\n",
    "\n",
    "- `tell()` → shows the current file pointer position\n",
    "- `seek(n)` → method changes the current file location\n",
    "#### Example:\n",
    "\n",
    "file = open(\"pointer_demo.txt\", \"r\")\n",
    "\n",
    "* file.tell()        # Shows current byte position\n",
    "\n",
    "* file.seek(0)       # Moves pointer to beginning\n"
   ]
  },
  {
   "cell_type": "code",
   "execution_count": 27,
   "id": "eb4f5563-de8a-4dc3-8671-220f2bc675ba",
   "metadata": {},
   "outputs": [
    {
     "name": "stdout",
     "output_type": "stream",
     "text": [
      "ReadStringis:\n",
      " Name: Hamz\n",
      "Currentfileposition:\n",
      " 10\n",
      "AgainreadStringis:\n",
      " Name: Hamz\n"
     ]
    }
   ],
   "source": [
    "# Open a file\n",
    "fo = open(\"file.txt\", \"r+\")\n",
    "str = fo.read(10);\n",
    "print(\"ReadStringis:\\n\",str)\n",
    "# Check current position\n",
    "position = fo.tell();\n",
    "print(\"Currentfileposition:\\n\", position)\n",
    "#Repositionpointeratthebeginning once again\n",
    "position = fo.seek(0, 0);\n",
    "str = fo.read(10);\n",
    "print(\"AgainreadStringis:\\n\", str)\n",
    "# Close opend file\n",
    "fo.close()\n"
   ]
  },
  {
   "cell_type": "code",
   "execution_count": 28,
   "id": "27fbe62d-f512-43b7-ae8a-a063bbbcf16e",
   "metadata": {},
   "outputs": [],
   "source": [
    "import os\n",
    "# renameafile\n",
    "os.rename(\"file.txt\",\"newfile.txt\")"
   ]
  },
  {
   "cell_type": "code",
   "execution_count": 29,
   "id": "737f7a9f-4331-47bc-81a9-7c9cab2e2ddb",
   "metadata": {},
   "outputs": [],
   "source": [
    "#remove file\n",
    "os.remove(\"newfile.txt\")"
   ]
  },
  {
   "cell_type": "markdown",
   "id": "b2eefbfd-32ff-46d0-9417-f96096e7b0ed",
   "metadata": {},
   "source": [
    "---\n",
    "\n",
    "# Introduction to Pandas\n",
    "\n",
    "Pandas is a powerful Python library built on top of NumPY . Its used for:\n",
    "- Data analysis\n",
    "- Data cleaning\n",
    "- Working with tabular data (like Excel or CSV)\n",
    "- It also has built-in visualization features\n",
    "- It can work with data from a wide variety of sources\n",
    "\n",
    "In this section, we’ll learn:\n",
    "- What is a `Series`\n",
    "- What is a `DataFrame`\n",
    "- How to create and manipulate them\n",
    "\n",
    "---\n"
   ]
  },
  {
   "cell_type": "markdown",
   "id": "38ba6a81-0c17-43b1-a137-bc6ce7703ac8",
   "metadata": {},
   "source": [
    "---\n",
    "\n",
    "# Series :\n",
    "- Series is very similar to NumPY array .\n",
    "\n",
    "-  A Series is like a column in Excel or a table.\n",
    "\n",
    "- It is a one-dimensional list-like structure.\n",
    "\n",
    "- It can hold any type of data — numbers, text, etc.\n",
    "\n",
    "- It comes with labels (indexes) by default.\n",
    "\n",
    "- It is part of the Pandas library (used for data analysis)."
   ]
  },
  {
   "cell_type": "markdown",
   "id": "79f163c1-95d4-487e-96c5-6ebd9a0bb063",
   "metadata": {},
   "source": [
    "### Topic 1 : from ndarray :\n",
    "\n",
    "- ndarray stands for N-dimensional array.\n",
    "\n",
    "- It comes from the NumPy library (used for numerical computing in Python).\n",
    "\n",
    "- It is used to store large collections of numbers in a grid or table-like structure.\n",
    "\n",
    "- It can be 1D, 2D, 3D, or even higher dimensions.\n",
    "\n",
    "- It is faster and more memory efficient than Python lists.\n",
    "\n",
    "### Explaination : \n",
    "\n",
    "- If data is an ndarray, index must be the same length as **data**\n",
    "\n",
    "- If no index is passed, one will be created having values"
   ]
  },
  {
   "cell_type": "code",
   "execution_count": 5,
   "id": "8dce35a9-10c3-470e-8bc9-f7f0b2d68b12",
   "metadata": {},
   "outputs": [
    {
     "data": {
      "text/plain": [
       "a   -0.191725\n",
       "b   -0.196255\n",
       "c    1.409578\n",
       "d    0.774689\n",
       "e   -0.406107\n",
       "dtype: float64"
      ]
     },
     "execution_count": 5,
     "metadata": {},
     "output_type": "execute_result"
    }
   ],
   "source": [
    "import pandas as pd\n",
    "import numpy as np\n",
    "import matplotlib.pyplot as plt\n",
    "\n",
    "\"\"\"Following a function from pandas to create series.\n",
    "Data would be 5 random values and indexes are assigned a-e.\"\"\"\n",
    "s = pd.Series(np.random.randn(5), index=['a', 'b', 'c', 'd', 'e'])\n",
    "s\n"
   ]
  },
  {
   "cell_type": "code",
   "execution_count": 6,
   "id": "821a3a84-43ac-425a-b701-6a20dddaefcf",
   "metadata": {},
   "outputs": [
    {
     "data": {
      "text/plain": [
       "Index(['a', 'b', 'c', 'd', 'e'], dtype='object')"
      ]
     },
     "execution_count": 6,
     "metadata": {},
     "output_type": "execute_result"
    }
   ],
   "source": [
    "# The following fuction will print the index and its data type\n",
    "s.index"
   ]
  },
  {
   "cell_type": "code",
   "execution_count": 7,
   "id": "bd6af8ac-e18d-414c-9445-d29c94406539",
   "metadata": {},
   "outputs": [
    {
     "data": {
      "text/plain": [
       "0   -1.616634\n",
       "1   -0.741171\n",
       "2    0.166439\n",
       "3    0.824701\n",
       "4   -1.308730\n",
       "dtype: float64"
      ]
     },
     "execution_count": 7,
     "metadata": {},
     "output_type": "execute_result"
    }
   ],
   "source": [
    "\"\"\"If we don't assign the index then it will of length having values [0......len(data-1)\"\"\"\n",
    "pd.Series(np.random.randn(5))"
   ]
  },
  {
   "cell_type": "markdown",
   "id": "6607305b-8147-44bd-847c-f40ed8952795",
   "metadata": {},
   "source": [
    "### Topic 2: Creating a Pandas Series from a Dictionary\n",
    "\n",
    "- A dictionary contains key–value pairs.\n",
    "- When passed into `pd.Series()`, the **keys become indexes**, and **values become data**.\n",
    "\n",
    "Example:\n",
    "```python\n",
    "data = {'a': 10, 'b': 20, 'c': 30}\n",
    "s = pd.Series(data)\n"
   ]
  },
  {
   "cell_type": "code",
   "execution_count": 10,
   "id": "2010d8e6-216f-4700-89f4-37ab7e37fb32",
   "metadata": {},
   "outputs": [
    {
     "ename": "AttributeError",
     "evalue": "module 'pandas' has no attribute 'series'",
     "output_type": "error",
     "traceback": [
      "\u001b[1;31m---------------------------------------------------------------------------\u001b[0m",
      "\u001b[1;31mAttributeError\u001b[0m                            Traceback (most recent call last)",
      "Cell \u001b[1;32mIn[10], line 3\u001b[0m\n\u001b[0;32m      1\u001b[0m \u001b[38;5;66;03m# in following example , index are not given to it is constructed from sorted key of dictionary .\u001b[39;00m\n\u001b[0;32m      2\u001b[0m d \u001b[38;5;241m=\u001b[39m {\u001b[38;5;124m'\u001b[39m\u001b[38;5;124ma\u001b[39m\u001b[38;5;124m'\u001b[39m : \u001b[38;5;241m0.\u001b[39m, \u001b[38;5;124m'\u001b[39m\u001b[38;5;124mb\u001b[39m\u001b[38;5;124m'\u001b[39m: \u001b[38;5;241m1.\u001b[39m, \u001b[38;5;124m'\u001b[39m\u001b[38;5;124mc\u001b[39m\u001b[38;5;124m'\u001b[39m : \u001b[38;5;241m2.\u001b[39m} \u001b[38;5;66;03m# a python dic \u001b[39;00m\n\u001b[1;32m----> 3\u001b[0m s\u001b[38;5;241m=\u001b[39m pd\u001b[38;5;241m.\u001b[39mseries(d)\n\u001b[0;32m      4\u001b[0m \u001b[38;5;28mprint\u001b[39m (s)\n",
      "\u001b[1;31mAttributeError\u001b[0m: module 'pandas' has no attribute 'series'"
     ]
    }
   ],
   "source": [
    "# in following example , index are not given to it is constructed from sorted key of dictionary .\n",
    "d = {'a' : 0., 'b': 1., 'c' : 2.} # a python dic \n",
    "s= pd.series(d)\n",
    "print (s)"
   ]
  },
  {
   "cell_type": "markdown",
   "id": "11fdd2a3-5170-4bc8-af42-7c4180f7b292",
   "metadata": {},
   "source": [
    "**The  error is shown because we did'nt import pandas . This is correct form of code**"
   ]
  },
  {
   "cell_type": "code",
   "execution_count": 11,
   "id": "40f34637-4ca4-4969-b4c7-a43c3520bd36",
   "metadata": {},
   "outputs": [
    {
     "name": "stdout",
     "output_type": "stream",
     "text": [
      "a    0.0\n",
      "b    1.0\n",
      "c    2.0\n",
      "dtype: float64\n"
     ]
    }
   ],
   "source": [
    "import pandas as pd\n",
    "\n",
    "d = {'a': 0., 'b': 1., 'c': 2.}  # A Python dictionary\n",
    "s = pd.Series(d)\n",
    "print(s)\n"
   ]
  },
  {
   "cell_type": "code",
   "execution_count": 19,
   "id": "ecb88e7f-3efa-477d-a0d8-1e320dde87ba",
   "metadata": {},
   "outputs": [
    {
     "data": {
      "text/plain": [
       "b    1.0\n",
       "c    2.0\n",
       "d    NaN\n",
       "a    0.0\n",
       "dtype: float64"
      ]
     },
     "execution_count": 19,
     "metadata": {},
     "output_type": "execute_result"
    }
   ],
   "source": [
    "#\"\"In following example, index are given, so the values in data corresponding in the index will be pulled out\"\"\"\n",
    "\n",
    "pd.Series(d, index=['b', 'c', 'd', 'a'])"
   ]
  },
  {
   "cell_type": "markdown",
   "id": "3bf2d9bf-5cdf-4720-9ec2-bd1ac30f3a5f",
   "metadata": {},
   "source": [
    "###  Topic 3: Creating a Series from a Scalar Value\n",
    "\n",
    "- A scalar value is a single number or string.\n",
    "- If we provide a scalar and a list of indexes, Pandas repeats the value for each index.\n",
    "\n",
    "Example:\n",
    "```python\n",
    "pd.Series(100, index=['a', 'b', 'c', 'd'])\n"
   ]
  },
  {
   "cell_type": "code",
   "execution_count": 20,
   "id": "1529f682-cbb1-47db-bfc8-ac59b927cb16",
   "metadata": {},
   "outputs": [
    {
     "data": {
      "text/plain": [
       "a    5.0\n",
       "b    5.0\n",
       "c    5.0\n",
       "d    5.0\n",
       "e    5.0\n",
       "dtype: float64"
      ]
     },
     "execution_count": 20,
     "metadata": {},
     "output_type": "execute_result"
    }
   ],
   "source": [
    "# in the following example , a scalar value is given as a data so it will be repeated to match the lenth of the index\n",
    "\n",
    "pd.Series(5., index=['a','b','c','d','e'])"
   ]
  },
  {
   "cell_type": "markdown",
   "id": "c498edf6-a5f7-49e0-aa99-99e19910cbf6",
   "metadata": {},
   "source": [
    "### Topic 4: Series is ndarray-like\n",
    "\n",
    "A Pandas Series behaves like a NumPy ndarray:\n",
    "\n",
    "- You can access elements using indexes like `s[0]`\n",
    "- You can slice it using `s[1:4]`\n",
    "- You can apply conditions like `s > 0`\n",
    "\n",
    "These operations are fast and efficient due to the underlying NumPy array.\n"
   ]
  },
  {
   "cell_type": "code",
   "execution_count": 26,
   "id": "ca42df19-0133-4f73-afda-f6bda4c80e87",
   "metadata": {},
   "outputs": [
    {
     "data": {
      "text/plain": [
       "np.float64(3.14)"
      ]
     },
     "execution_count": 26,
     "metadata": {},
     "output_type": "execute_result"
    }
   ],
   "source": [
    "#we can access a value just like ndarray\n",
    "#access single value\n",
    "s[0]\n"
   ]
  },
  {
   "cell_type": "code",
   "execution_count": 29,
   "id": "c6452946-843a-4afa-8aa8-8ead97616349",
   "metadata": {},
   "outputs": [
    {
     "data": {
      "text/plain": [
       "a   -0.093998\n",
       "b   -0.468539\n",
       "c   -1.296773\n",
       "d   -0.493565\n",
       "e   -0.208271\n",
       "dtype: float64"
      ]
     },
     "execution_count": 29,
     "metadata": {},
     "output_type": "execute_result"
    }
   ],
   "source": [
    "#access range of values\n",
    "s[:5]"
   ]
  },
  {
   "cell_type": "code",
   "execution_count": 30,
   "id": "703007ed-ba74-493b-9d93-d4af11a43a6e",
   "metadata": {},
   "outputs": [
    {
     "data": {
      "text/plain": [
       "a   -0.093998\n",
       "e   -0.208271\n",
       "dtype: float64"
      ]
     },
     "execution_count": 30,
     "metadata": {},
     "output_type": "execute_result"
    }
   ],
   "source": [
    "\"\"\" Following example will return a range of values in series whose value is greater than the median of series\"\"\"\n",
    "\n",
    "s[s > s.median()]"
   ]
  },
  {
   "cell_type": "code",
   "execution_count": 33,
   "id": "1b39ecfc-4bf3-4561-9f87-3bff15941ace",
   "metadata": {},
   "outputs": [
    {
     "data": {
      "text/plain": [
       "e   -0.208271\n",
       "d   -0.493565\n",
       "b   -0.468539\n",
       "dtype: float64"
      ]
     },
     "execution_count": 33,
     "metadata": {},
     "output_type": "execute_result"
    }
   ],
   "source": [
    "\"\"\"Following example is return the values in series with indexes. 4,3,1 are the positions of the indexs\n",
    "For example: the index at 4,3,1 are e,d,b respectively\"\"\"\n",
    "s.iloc[[4, 3, 1]] # for newer version of pandas \n"
   ]
  },
  {
   "cell_type": "code",
   "execution_count": 34,
   "id": "6a83d4b2-ed1f-47bb-b3ea-b9e972312f99",
   "metadata": {},
   "outputs": [
    {
     "data": {
      "text/plain": [
       "a    0.910284\n",
       "b    0.625916\n",
       "c    0.273413\n",
       "d    0.610446\n",
       "e    0.811987\n",
       "dtype: float64"
      ]
     },
     "execution_count": 34,
     "metadata": {},
     "output_type": "execute_result"
    }
   ],
   "source": [
    "\"\"\" Following example returns the exponent values. just like e^a (here a is index and its respective data is\n",
    "placed here)\"\"\"\n",
    "np.exp(s)"
   ]
  },
  {
   "cell_type": "code",
   "execution_count": 35,
   "id": "63efec5a-cdfc-4bf6-913d-ba62bc30284e",
   "metadata": {},
   "outputs": [
    {
     "data": {
      "text/plain": [
       "np.float64(-0.0939982751344544)"
      ]
     },
     "execution_count": 35,
     "metadata": {},
     "output_type": "execute_result"
    }
   ],
   "source": [
    "\"\"\"Following example will get the data of given index\"\"\"\n",
    "s['a']\n"
   ]
  },
  {
   "cell_type": "code",
   "execution_count": 36,
   "id": "c6c67277-bdf3-454d-a1c7-6f0a7ad94fec",
   "metadata": {},
   "outputs": [
    {
     "data": {
      "text/plain": [
       "a    -0.093998\n",
       "b    -0.468539\n",
       "c    -1.296773\n",
       "d    -0.493565\n",
       "e    12.000000\n",
       "dtype: float64"
      ]
     },
     "execution_count": 36,
     "metadata": {},
     "output_type": "execute_result"
    }
   ],
   "source": [
    "\"\"\"Following example will update the data of the given index\"\"\"\n",
    "s['e'] = 12.\n",
    "s "
   ]
  },
  {
   "cell_type": "code",
   "execution_count": 37,
   "id": "6c5db6d9-0500-42b8-b629-02c6679ac10a",
   "metadata": {},
   "outputs": [
    {
     "data": {
      "text/plain": [
       "True"
      ]
     },
     "execution_count": 37,
     "metadata": {},
     "output_type": "execute_result"
    }
   ],
   "source": [
    "\"\"\" Following will return true if 'e' is in the values of index otherwise false\"\"\"\n",
    "'e' in s\n"
   ]
  },
  {
   "cell_type": "code",
   "execution_count": 38,
   "id": "1368c06a-5da7-4b34-ba64-c1c11b9b9b0b",
   "metadata": {},
   "outputs": [
    {
     "ename": "KeyError",
     "evalue": "'f'",
     "output_type": "error",
     "traceback": [
      "\u001b[1;31m---------------------------------------------------------------------------\u001b[0m",
      "\u001b[1;31mKeyError\u001b[0m                                  Traceback (most recent call last)",
      "File \u001b[1;32m~\\anaconda3\\Lib\\site-packages\\pandas\\core\\indexes\\base.py:3805\u001b[0m, in \u001b[0;36mIndex.get_loc\u001b[1;34m(self, key)\u001b[0m\n\u001b[0;32m   3804\u001b[0m \u001b[38;5;28;01mtry\u001b[39;00m:\n\u001b[1;32m-> 3805\u001b[0m     \u001b[38;5;28;01mreturn\u001b[39;00m \u001b[38;5;28mself\u001b[39m\u001b[38;5;241m.\u001b[39m_engine\u001b[38;5;241m.\u001b[39mget_loc(casted_key)\n\u001b[0;32m   3806\u001b[0m \u001b[38;5;28;01mexcept\u001b[39;00m \u001b[38;5;167;01mKeyError\u001b[39;00m \u001b[38;5;28;01mas\u001b[39;00m err:\n",
      "File \u001b[1;32mindex.pyx:167\u001b[0m, in \u001b[0;36mpandas._libs.index.IndexEngine.get_loc\u001b[1;34m()\u001b[0m\n",
      "File \u001b[1;32mindex.pyx:196\u001b[0m, in \u001b[0;36mpandas._libs.index.IndexEngine.get_loc\u001b[1;34m()\u001b[0m\n",
      "File \u001b[1;32mpandas\\\\_libs\\\\hashtable_class_helper.pxi:7081\u001b[0m, in \u001b[0;36mpandas._libs.hashtable.PyObjectHashTable.get_item\u001b[1;34m()\u001b[0m\n",
      "File \u001b[1;32mpandas\\\\_libs\\\\hashtable_class_helper.pxi:7089\u001b[0m, in \u001b[0;36mpandas._libs.hashtable.PyObjectHashTable.get_item\u001b[1;34m()\u001b[0m\n",
      "\u001b[1;31mKeyError\u001b[0m: 'f'",
      "\nThe above exception was the direct cause of the following exception:\n",
      "\u001b[1;31mKeyError\u001b[0m                                  Traceback (most recent call last)",
      "Cell \u001b[1;32mIn[38], line 2\u001b[0m\n\u001b[0;32m      1\u001b[0m \u001b[38;5;124;03m\"\"\"If a label is not contained and you are trying to access its data, an exception is raised: \"\"\"\u001b[39;00m\n\u001b[1;32m----> 2\u001b[0m s[\u001b[38;5;124m'\u001b[39m\u001b[38;5;124mf\u001b[39m\u001b[38;5;124m'\u001b[39m]\n",
      "File \u001b[1;32m~\\anaconda3\\Lib\\site-packages\\pandas\\core\\series.py:1121\u001b[0m, in \u001b[0;36mSeries.__getitem__\u001b[1;34m(self, key)\u001b[0m\n\u001b[0;32m   1118\u001b[0m     \u001b[38;5;28;01mreturn\u001b[39;00m \u001b[38;5;28mself\u001b[39m\u001b[38;5;241m.\u001b[39m_values[key]\n\u001b[0;32m   1120\u001b[0m \u001b[38;5;28;01melif\u001b[39;00m key_is_scalar:\n\u001b[1;32m-> 1121\u001b[0m     \u001b[38;5;28;01mreturn\u001b[39;00m \u001b[38;5;28mself\u001b[39m\u001b[38;5;241m.\u001b[39m_get_value(key)\n\u001b[0;32m   1123\u001b[0m \u001b[38;5;66;03m# Convert generator to list before going through hashable part\u001b[39;00m\n\u001b[0;32m   1124\u001b[0m \u001b[38;5;66;03m# (We will iterate through the generator there to check for slices)\u001b[39;00m\n\u001b[0;32m   1125\u001b[0m \u001b[38;5;28;01mif\u001b[39;00m is_iterator(key):\n",
      "File \u001b[1;32m~\\anaconda3\\Lib\\site-packages\\pandas\\core\\series.py:1237\u001b[0m, in \u001b[0;36mSeries._get_value\u001b[1;34m(self, label, takeable)\u001b[0m\n\u001b[0;32m   1234\u001b[0m     \u001b[38;5;28;01mreturn\u001b[39;00m \u001b[38;5;28mself\u001b[39m\u001b[38;5;241m.\u001b[39m_values[label]\n\u001b[0;32m   1236\u001b[0m \u001b[38;5;66;03m# Similar to Index.get_value, but we do not fall back to positional\u001b[39;00m\n\u001b[1;32m-> 1237\u001b[0m loc \u001b[38;5;241m=\u001b[39m \u001b[38;5;28mself\u001b[39m\u001b[38;5;241m.\u001b[39mindex\u001b[38;5;241m.\u001b[39mget_loc(label)\n\u001b[0;32m   1239\u001b[0m \u001b[38;5;28;01mif\u001b[39;00m is_integer(loc):\n\u001b[0;32m   1240\u001b[0m     \u001b[38;5;28;01mreturn\u001b[39;00m \u001b[38;5;28mself\u001b[39m\u001b[38;5;241m.\u001b[39m_values[loc]\n",
      "File \u001b[1;32m~\\anaconda3\\Lib\\site-packages\\pandas\\core\\indexes\\base.py:3812\u001b[0m, in \u001b[0;36mIndex.get_loc\u001b[1;34m(self, key)\u001b[0m\n\u001b[0;32m   3807\u001b[0m     \u001b[38;5;28;01mif\u001b[39;00m \u001b[38;5;28misinstance\u001b[39m(casted_key, \u001b[38;5;28mslice\u001b[39m) \u001b[38;5;129;01mor\u001b[39;00m (\n\u001b[0;32m   3808\u001b[0m         \u001b[38;5;28misinstance\u001b[39m(casted_key, abc\u001b[38;5;241m.\u001b[39mIterable)\n\u001b[0;32m   3809\u001b[0m         \u001b[38;5;129;01mand\u001b[39;00m \u001b[38;5;28many\u001b[39m(\u001b[38;5;28misinstance\u001b[39m(x, \u001b[38;5;28mslice\u001b[39m) \u001b[38;5;28;01mfor\u001b[39;00m x \u001b[38;5;129;01min\u001b[39;00m casted_key)\n\u001b[0;32m   3810\u001b[0m     ):\n\u001b[0;32m   3811\u001b[0m         \u001b[38;5;28;01mraise\u001b[39;00m InvalidIndexError(key)\n\u001b[1;32m-> 3812\u001b[0m     \u001b[38;5;28;01mraise\u001b[39;00m \u001b[38;5;167;01mKeyError\u001b[39;00m(key) \u001b[38;5;28;01mfrom\u001b[39;00m\u001b[38;5;250m \u001b[39m\u001b[38;5;21;01merr\u001b[39;00m\n\u001b[0;32m   3813\u001b[0m \u001b[38;5;28;01mexcept\u001b[39;00m \u001b[38;5;167;01mTypeError\u001b[39;00m:\n\u001b[0;32m   3814\u001b[0m     \u001b[38;5;66;03m# If we have a listlike key, _check_indexing_error will raise\u001b[39;00m\n\u001b[0;32m   3815\u001b[0m     \u001b[38;5;66;03m#  InvalidIndexError. Otherwise we fall through and re-raise\u001b[39;00m\n\u001b[0;32m   3816\u001b[0m     \u001b[38;5;66;03m#  the TypeError.\u001b[39;00m\n\u001b[0;32m   3817\u001b[0m     \u001b[38;5;28mself\u001b[39m\u001b[38;5;241m.\u001b[39m_check_indexing_error(key)\n",
      "\u001b[1;31mKeyError\u001b[0m: 'f'"
     ]
    }
   ],
   "source": [
    "\"\"\"If a label is not contained and you are trying to access its data, an exception is raised: \"\"\"\n",
    "s['f']\n",
    "# This will create error"
   ]
  },
  {
   "cell_type": "code",
   "execution_count": 39,
   "id": "c217f773-f63d-42fc-b4d4-4dd6e761686c",
   "metadata": {},
   "outputs": [
    {
     "data": {
      "text/plain": [
       "nan"
      ]
     },
     "execution_count": 39,
     "metadata": {},
     "output_type": "execute_result"
    }
   ],
   "source": [
    "\"\"\"Using the get method, a missing label will return None or specified default\"\"\"\n",
    "s.get('f') #it will return none\n",
    "s.get('f', np.nan) #it will return default value"
   ]
  },
  {
   "cell_type": "markdown",
   "id": "58854620-887b-45aa-ab8b-231d7b60ef60",
   "metadata": {},
   "source": [
    "### Topic 5: Vectorized Operations & Label Alignment in Series\n",
    "\n",
    "####  Vectorized Operation:\n",
    "You can perform operations like `+`, `-`, `*`, `/` on entire Series — no loop needed.\n",
    "\n",
    "####  Label Alignment:\n",
    "When two Series have **different indexes**, Pandas **matches by label**, not by position.\n",
    "\n",
    "####  Example:\n",
    "\n",
    "s1 = pd.Series([10, 20, 30], index=[\"a\", \"b\", \"c\"])\n",
    "s2 = pd.Series([1, 2, 3], index=[\"b\", \"c\", \"d\"])\n",
    "result = s1 + s2\n"
   ]
  },
  {
   "cell_type": "code",
   "execution_count": 40,
   "id": "15ea01d3-6f8a-4e71-a293-3e140de7c6f5",
   "metadata": {},
   "outputs": [
    {
     "data": {
      "text/plain": [
       "a    -0.187997\n",
       "b    -0.937078\n",
       "c    -2.593546\n",
       "d    -0.987129\n",
       "e    24.000000\n",
       "dtype: float64"
      ]
     },
     "execution_count": 40,
     "metadata": {},
     "output_type": "execute_result"
    }
   ],
   "source": [
    "\"\"\"following will add the data of respective values of indexes. For example, in given output, it is calculate\n",
    "d as: a = s['a'] +\n",
    "s['a'] b = s['b'] +\n",
    "s['b'] c = s['c'] +\n",
    "s['c'] d = s['d'] +\n",
    "s['d'] e = s['e'] +\n",
    "s['e']\n",
    "\"\"\"\n",
    "s + s"
   ]
  },
  {
   "cell_type": "code",
   "execution_count": 41,
   "id": "af6dc417-e518-4398-8367-20a7c23b8f7c",
   "metadata": {},
   "outputs": [
    {
     "data": {
      "text/plain": [
       "a    -0.187997\n",
       "b    -0.937078\n",
       "c    -2.593546\n",
       "d    -0.987129\n",
       "e    24.000000\n",
       "dtype: float64"
      ]
     },
     "execution_count": 41,
     "metadata": {},
     "output_type": "execute_result"
    }
   ],
   "source": [
    "\"\"\"following will multiply the data of each values of indexes, with 2. For example, in given output, it is calculated as:\n",
    "a = s['a'] *2\n",
    "b = s['b'] *2\n",
    "c = s['c'] *2\n",
    "d = s['d'] *2\n",
    "e = s['e'] *2\"\"\"\n",
    "s * 2"
   ]
  },
  {
   "cell_type": "code",
   "execution_count": 42,
   "id": "fe608898-0f23-4648-bad1-a91d4d90049c",
   "metadata": {},
   "outputs": [
    {
     "data": {
      "text/plain": [
       "0    0.538428\n",
       "1   -0.378590\n",
       "2   -1.585063\n",
       "3    1.367985\n",
       "4    1.320546\n",
       "Name: something, dtype: float64"
      ]
     },
     "execution_count": 42,
     "metadata": {},
     "output_type": "execute_result"
    }
   ],
   "source": [
    " s = pd.Series(np.random.randn(5), name='something')\n",
    "s"
   ]
  },
  {
   "cell_type": "code",
   "execution_count": 43,
   "id": "098840a1-642a-47b5-ad31-da34fd3a9550",
   "metadata": {},
   "outputs": [
    {
     "data": {
      "text/plain": [
       "'something'"
      ]
     },
     "execution_count": 43,
     "metadata": {},
     "output_type": "execute_result"
    }
   ],
   "source": [
    "# This will print the name attribute of series\n",
    "s.name"
   ]
  },
  {
   "cell_type": "code",
   "execution_count": 44,
   "id": "8bfd5dff-f871-4d49-b09f-bc8d7a80af5b",
   "metadata": {},
   "outputs": [
    {
     "data": {
      "text/plain": [
       "'different'"
      ]
     },
     "execution_count": 44,
     "metadata": {},
     "output_type": "execute_result"
    }
   ],
   "source": [
    "#rename the series name attribute and assign to s2 object. Note that s and s2 refer to different objects.\n",
    "s2 = s.rename(\"different\")\n",
    "s2.name"
   ]
  },
  {
   "cell_type": "markdown",
   "id": "b012a46f-ed1e-43a9-9aa1-f47869841c9a",
   "metadata": {},
   "source": [
    "---\n",
    "\n",
    "# What is a DataFrame?\n",
    "\n",
    "A **DataFrame** in Pandas is a powerful data structure that:\n",
    "\n",
    "-  Is **2-dimensional** (rows and columns)\n",
    "-  Stores **tabular data** (like Excel or CSV)\n",
    "-  Is built from **Series objects** (each column is a Series)\n",
    "-  Each column can have a **different data type**\n",
    "-  Comes with **automatic indexing** (0, 1, 2, …)\n",
    "-  Supports many data sources (dictionaries, lists, arrays, CSV files, etc.)\n",
    "-  Provides easy tools to **filter, analyze, and clean** data\n",
    "-  Ideal for **real-world datasets** like surveys, logs, student records, etc.\n",
    "\n",
    "> In short: **A DataFrame = spreadsheet in code.**\n"
   ]
  },
  {
   "cell_type": "markdown",
   "id": "b05621d2-e2fe-4fef-a942-67ec1b03d0c2",
   "metadata": {},
   "source": [
    "###  Topic 1 : Creating DataFrame from Dict of Series or Dicts\n",
    "\n",
    "You can build a DataFrame using:\n",
    "\n",
    "#### Dictionary of Series:\n",
    "* Each **Series becomes a column**, and their **indexes become rows**.\n",
    "* The result index will be the union of the indexes of the various Series.\n",
    "* If there are any nested dicts, these will be first converted to Series.\n",
    "* If no columns are passed, the columns will be the sorted list of dict keys.\n",
    "### Example :\n",
    "\n",
    "* name_series = pd.Series([\"Hamza\", \"Ali\", \"Sara\"], index=[101, 102, 103])\n",
    "* age_series = pd.Series([23, 25, 22], index=[101, 102, 103])\n",
    "* df = pd.DataFrame({\"Name\": name_series, \"Age\": age_series})\n"
   ]
  },
  {
   "cell_type": "code",
   "execution_count": 45,
   "id": "0db09005-a5f7-48a2-aef2-ec7589f21209",
   "metadata": {},
   "outputs": [
    {
     "data": {
      "text/html": [
       "<div>\n",
       "<style scoped>\n",
       "    .dataframe tbody tr th:only-of-type {\n",
       "        vertical-align: middle;\n",
       "    }\n",
       "\n",
       "    .dataframe tbody tr th {\n",
       "        vertical-align: top;\n",
       "    }\n",
       "\n",
       "    .dataframe thead th {\n",
       "        text-align: right;\n",
       "    }\n",
       "</style>\n",
       "<table border=\"1\" class=\"dataframe\">\n",
       "  <thead>\n",
       "    <tr style=\"text-align: right;\">\n",
       "      <th></th>\n",
       "      <th>one</th>\n",
       "      <th>two</th>\n",
       "    </tr>\n",
       "  </thead>\n",
       "  <tbody>\n",
       "    <tr>\n",
       "      <th>a</th>\n",
       "      <td>1.0</td>\n",
       "      <td>1.0</td>\n",
       "    </tr>\n",
       "    <tr>\n",
       "      <th>b</th>\n",
       "      <td>2.0</td>\n",
       "      <td>2.0</td>\n",
       "    </tr>\n",
       "    <tr>\n",
       "      <th>c</th>\n",
       "      <td>3.0</td>\n",
       "      <td>3.0</td>\n",
       "    </tr>\n",
       "    <tr>\n",
       "      <th>d</th>\n",
       "      <td>NaN</td>\n",
       "      <td>4.0</td>\n",
       "    </tr>\n",
       "  </tbody>\n",
       "</table>\n",
       "</div>"
      ],
      "text/plain": [
       "   one  two\n",
       "a  1.0  1.0\n",
       "b  2.0  2.0\n",
       "c  3.0  3.0\n",
       "d  NaN  4.0"
      ]
     },
     "execution_count": 45,
     "metadata": {},
     "output_type": "execute_result"
    }
   ],
   "source": [
    "\"\"\" A dict is created \"\"\"\n",
    "d = {\n",
    "'one' : pd.Series([1., 2., 3.], index=['a', 'b', 'c']),\n",
    "'two' : pd.Series([1., 2., 3., 4.], index=['a', 'b', 'c', 'd'])\n",
    "}\n",
    "\"\"\"create a dataframe. row label will be the indes of a series. As coloum labels are not given so it\n",
    "will be sorted list of dict keys\"\"\"\n",
    "df=pd.DataFrame(d)\n",
    "df"
   ]
  },
  {
   "cell_type": "code",
   "execution_count": 5,
   "id": "2227948d-cb29-46b4-b371-469a9474f476",
   "metadata": {},
   "outputs": [
    {
     "name": "stdout",
     "output_type": "stream",
     "text": [
      "   one  two\n",
      "d  NaN    4\n",
      "b  2.0    2\n",
      "a  1.0    1\n"
     ]
    }
   ],
   "source": [
    "import pandas as pd\n",
    "\n",
    "# A dict is created\n",
    "d = {\n",
    "    'one': pd.Series([1, 2, 3], index=['a', 'b', 'c']),\n",
    "    'two': pd.Series([1, 2, 3, 4], index=['a', 'b', 'c', 'd'])\n",
    "}\n",
    "\n",
    "# create a dataframe, row label will be the index of a series\n",
    "df = pd.DataFrame(d)\n",
    "\n",
    "# a data frame will be constructed for given row labels\n",
    "df = pd.DataFrame(d, index=['d', 'b', 'a'])\n",
    "\n",
    "print(df)"
   ]
  },
  {
   "cell_type": "code",
   "execution_count": 6,
   "id": "d7460c09-0902-482b-b0bf-fbd557007b4a",
   "metadata": {},
   "outputs": [
    {
     "data": {
      "text/html": [
       "<div>\n",
       "<style scoped>\n",
       "    .dataframe tbody tr th:only-of-type {\n",
       "        vertical-align: middle;\n",
       "    }\n",
       "\n",
       "    .dataframe tbody tr th {\n",
       "        vertical-align: top;\n",
       "    }\n",
       "\n",
       "    .dataframe thead th {\n",
       "        text-align: right;\n",
       "    }\n",
       "</style>\n",
       "<table border=\"1\" class=\"dataframe\">\n",
       "  <thead>\n",
       "    <tr style=\"text-align: right;\">\n",
       "      <th></th>\n",
       "      <th>two</th>\n",
       "      <th>three</th>\n",
       "    </tr>\n",
       "  </thead>\n",
       "  <tbody>\n",
       "    <tr>\n",
       "      <th>d</th>\n",
       "      <td>4</td>\n",
       "      <td>NaN</td>\n",
       "    </tr>\n",
       "    <tr>\n",
       "      <th>b</th>\n",
       "      <td>2</td>\n",
       "      <td>NaN</td>\n",
       "    </tr>\n",
       "    <tr>\n",
       "      <th>a</th>\n",
       "      <td>1</td>\n",
       "      <td>NaN</td>\n",
       "    </tr>\n",
       "  </tbody>\n",
       "</table>\n",
       "</div>"
      ],
      "text/plain": [
       "   two three\n",
       "d    4   NaN\n",
       "b    2   NaN\n",
       "a    1   NaN"
      ]
     },
     "execution_count": 6,
     "metadata": {},
     "output_type": "execute_result"
    }
   ],
   "source": [
    "\"\"\"following example shows a data frame when we give coloumn labels\"\"\"\n",
    "pd.DataFrame(d, index=['d', 'b', 'a'], columns=['two', 'three'])\n"
   ]
  },
  {
   "cell_type": "code",
   "execution_count": 7,
   "id": "eeca120a-5a7d-4451-913b-fb5c85c8ff68",
   "metadata": {},
   "outputs": [
    {
     "data": {
      "text/plain": [
       "Index(['one', 'two'], dtype='object')"
      ]
     },
     "execution_count": 7,
     "metadata": {},
     "output_type": "execute_result"
    }
   ],
   "source": [
    "df.columns"
   ]
  },
  {
   "cell_type": "markdown",
   "id": "20be8470-7380-4445-ad41-74852bed795d",
   "metadata": {},
   "source": [
    "### Topic 2: Creating DataFrame from Dictionary of Lists / Arrays\n",
    "\n",
    "* This is the most common way to create a DataFrame.\n",
    "\n",
    "*If an index is passed, it must clearly also be the same length as the arrays.\n",
    "\n",
    "*If no index is passed, the result will be range(n), where n is the array length.\n",
    "\n",
    "####  Format:\n",
    "\n",
    "data = {\n",
    "   \n",
    "    \"Name\": [\"Hamza\", \"Ali\", \"Sara\"],\n",
    "    \"Age\": [23, 25, 22],\n",
    "    \"City\": [\"Lahore\", \"Karachi\", \"Islamabad\"]\n",
    "}\n",
    "df = pd.DataFrame(data)\n"
   ]
  },
  {
   "cell_type": "code",
   "execution_count": 8,
   "id": "25aee95b-78e7-4066-8091-22865b390a01",
   "metadata": {},
   "outputs": [
    {
     "name": "stdout",
     "output_type": "stream",
     "text": [
      "    Name  Age       City\n",
      "0  Hamza   23     Lahore\n",
      "1    Ali   25    Karachi\n",
      "2   Sara   22  Islamabad\n"
     ]
    }
   ],
   "source": [
    "import pandas as pd\n",
    "\n",
    "# Using dictionary of lists\n",
    "data = {\n",
    "    \"Name\": [\"Hamza\", \"Ali\", \"Sara\"],\n",
    "    \"Age\": [23, 25, 22],\n",
    "    \"City\": [\"Lahore\", \"Karachi\", \"Islamabad\"]\n",
    "}\n",
    "\n",
    "df = pd.DataFrame(data)\n",
    "print(df)\n"
   ]
  },
  {
   "cell_type": "code",
   "execution_count": 12,
   "id": "0333725c-8298-4040-b6fb-829f3ce67aaf",
   "metadata": {},
   "outputs": [
    {
     "name": "stdout",
     "output_type": "stream",
     "text": [
      "       0   1          2\n",
      "0  Hamza  23     Lahore\n",
      "1    Ali  25    Karachi\n",
      "2   Sara  22  Islamabad\n"
     ]
    }
   ],
   "source": [
    "# \"\"\"column labels are not given sothe result will be range(n), where n is the array length\"\"\"\n",
    "\n",
    "import pandas as pd\n",
    "\n",
    "# List of lists without column labels\n",
    "data = [\n",
    "    [\"Hamza\", 23, \"Lahore\"],\n",
    "    [\"Ali\", 25, \"Karachi\"],\n",
    "    [\"Sara\", 22, \"Islamabad\"]\n",
    "]\n",
    "\n",
    "df = pd.DataFrame(data)\n",
    "\n",
    "print(df)\n"
   ]
  },
  {
   "cell_type": "code",
   "execution_count": 13,
   "id": "a3cd970d-924b-46ad-8eaa-7f6285ad4885",
   "metadata": {},
   "outputs": [
    {
     "name": "stdout",
     "output_type": "stream",
     "text": [
      "    Name  Age\n",
      "a  Hamza   23\n",
      "b    Ali   25\n",
      "c   Sara   22\n"
     ]
    }
   ],
   "source": [
    "#\"\"\"If indexs are given then it would be same length as arrays\"\"\"\n",
    "\n",
    "import pandas as pd\n",
    "\n",
    "# Dictionary of equal-length lists\n",
    "data = {\n",
    "    \"Name\": [\"Hamza\", \"Ali\", \"Sara\"],\n",
    "    \"Age\": [23, 25, 22]\n",
    "}\n",
    "\n",
    "# Custom index of same length (3 items)\n",
    "index_labels = [\"a\", \"b\", \"c\"]\n",
    "\n",
    "df = pd.DataFrame(data, index=index_labels)\n",
    "print(df)\n"
   ]
  },
  {
   "cell_type": "markdown",
   "id": "f526a24a-5a30-4754-8d1c-77dbda6dfd63",
   "metadata": {},
   "source": [
    "###  Topic 3 : Creating DataFrame from List of Dictionaries\n",
    "\n",
    "You can pass a **list of dictionaries** to create a DataFrame.  \n",
    "Each dictionary becomes a **row**, and keys become **column names**.\n",
    "\n",
    "####  Example:\n",
    "\n",
    "data = [\n",
    " \n",
    "    {\"Name\": \"Hamza\", \"Age\": 23, \"City\": \"Lahore\"},\n",
    "    {\"Name\": \"Ali\", \"Age\": 25},\n",
    "    {\"Name\": \"Sara\", \"Age\": 22, \"City\": \"Islamabad\"}\n",
    "]\n",
    "df = pd.DataFrame(data)\n"
   ]
  },
  {
   "cell_type": "code",
   "execution_count": 3,
   "id": "63a8b627-2e91-4975-ba18-2d2b8ca1add1",
   "metadata": {},
   "outputs": [
    {
     "name": "stdout",
     "output_type": "stream",
     "text": [
      "   a   b     c\n",
      "0  1   2   NaN\n",
      "1  5  10  20.0\n"
     ]
    }
   ],
   "source": [
    "\"\"\"constructing data frame from a list of dicts\"\"\"\n",
    "\n",
    "import pandas as pd\n",
    "\n",
    "# Constructing DataFrame from list of dictionaries\n",
    "data2 = [{'a': 1, 'b': 2}, {'a': 5, 'b': 10, 'c': 20}]\n",
    "df = pd.DataFrame(data2)\n",
    "\n",
    "print(df)\n"
   ]
  },
  {
   "cell_type": "code",
   "execution_count": 4,
   "id": "dffc74e2-d21b-474b-932c-bcfa8d09fc32",
   "metadata": {},
   "outputs": [
    {
     "data": {
      "text/html": [
       "<div>\n",
       "<style scoped>\n",
       "    .dataframe tbody tr th:only-of-type {\n",
       "        vertical-align: middle;\n",
       "    }\n",
       "\n",
       "    .dataframe tbody tr th {\n",
       "        vertical-align: top;\n",
       "    }\n",
       "\n",
       "    .dataframe thead th {\n",
       "        text-align: right;\n",
       "    }\n",
       "</style>\n",
       "<table border=\"1\" class=\"dataframe\">\n",
       "  <thead>\n",
       "    <tr style=\"text-align: right;\">\n",
       "      <th></th>\n",
       "      <th>a</th>\n",
       "      <th>b</th>\n",
       "      <th>c</th>\n",
       "    </tr>\n",
       "  </thead>\n",
       "  <tbody>\n",
       "    <tr>\n",
       "      <th>first</th>\n",
       "      <td>1</td>\n",
       "      <td>2</td>\n",
       "      <td>NaN</td>\n",
       "    </tr>\n",
       "    <tr>\n",
       "      <th>second</th>\n",
       "      <td>5</td>\n",
       "      <td>10</td>\n",
       "      <td>20.0</td>\n",
       "    </tr>\n",
       "  </tbody>\n",
       "</table>\n",
       "</div>"
      ],
      "text/plain": [
       "        a   b     c\n",
       "first   1   2   NaN\n",
       "second  5  10  20.0"
      ]
     },
     "execution_count": 4,
     "metadata": {},
     "output_type": "execute_result"
    }
   ],
   "source": [
    "\"\"\"passing list of dicts as data and indexes (row labels)\"\"\"\n",
    "pd.DataFrame(data2, index=['first', 'second'])"
   ]
  },
  {
   "cell_type": "code",
   "execution_count": 5,
   "id": "d6fb0ca5-eaf6-4a41-b63d-6072d0c1d360",
   "metadata": {},
   "outputs": [
    {
     "data": {
      "text/html": [
       "<div>\n",
       "<style scoped>\n",
       "    .dataframe tbody tr th:only-of-type {\n",
       "        vertical-align: middle;\n",
       "    }\n",
       "\n",
       "    .dataframe tbody tr th {\n",
       "        vertical-align: top;\n",
       "    }\n",
       "\n",
       "    .dataframe thead th {\n",
       "        text-align: right;\n",
       "    }\n",
       "</style>\n",
       "<table border=\"1\" class=\"dataframe\">\n",
       "  <thead>\n",
       "    <tr style=\"text-align: right;\">\n",
       "      <th></th>\n",
       "      <th>a</th>\n",
       "      <th>b</th>\n",
       "    </tr>\n",
       "  </thead>\n",
       "  <tbody>\n",
       "    <tr>\n",
       "      <th>0</th>\n",
       "      <td>1</td>\n",
       "      <td>2</td>\n",
       "    </tr>\n",
       "    <tr>\n",
       "      <th>1</th>\n",
       "      <td>5</td>\n",
       "      <td>10</td>\n",
       "    </tr>\n",
       "  </tbody>\n",
       "</table>\n",
       "</div>"
      ],
      "text/plain": [
       "   a   b\n",
       "0  1   2\n",
       "1  5  10"
      ]
     },
     "execution_count": 5,
     "metadata": {},
     "output_type": "execute_result"
    }
   ],
   "source": [
    "\"\"\"passing list of dicts as data and columns (columns labels)\"\"\"\n",
    "pd.DataFrame(data2, columns=['a', 'b'])"
   ]
  },
  {
   "cell_type": "markdown",
   "id": "cedd681a-4175-487f-adfa-8fac2c398661",
   "metadata": {},
   "source": [
    "###  Topic 4 : Creating DataFrame from Dict of Tuples\n",
    "\n",
    "* There are two ways this works depending on structure.\n",
    "\n",
    "- You can create a DataFrame from a **dictionary where each value is a tuple**.\n",
    "\n",
    "- The behavior of the DataFrame depends on the structure of the dictionary.\n",
    "\n",
    "- You can automatically create a multi-indexed frame by passing a tuples dictionary"
   ]
  },
  {
   "cell_type": "code",
   "execution_count": 6,
   "id": "e6cbf3a3-8297-4b92-8b89-18ce5dfdd5e1",
   "metadata": {},
   "outputs": [
    {
     "data": {
      "text/html": [
       "<div>\n",
       "<style scoped>\n",
       "    .dataframe tbody tr th:only-of-type {\n",
       "        vertical-align: middle;\n",
       "    }\n",
       "\n",
       "    .dataframe tbody tr th {\n",
       "        vertical-align: top;\n",
       "    }\n",
       "\n",
       "    .dataframe thead tr th {\n",
       "        text-align: left;\n",
       "    }\n",
       "</style>\n",
       "<table border=\"1\" class=\"dataframe\">\n",
       "  <thead>\n",
       "    <tr>\n",
       "      <th></th>\n",
       "      <th></th>\n",
       "      <th colspan=\"3\" halign=\"left\">a</th>\n",
       "      <th colspan=\"2\" halign=\"left\">b</th>\n",
       "    </tr>\n",
       "    <tr>\n",
       "      <th></th>\n",
       "      <th></th>\n",
       "      <th>b</th>\n",
       "      <th>a</th>\n",
       "      <th>c</th>\n",
       "      <th>a</th>\n",
       "      <th>b</th>\n",
       "    </tr>\n",
       "  </thead>\n",
       "  <tbody>\n",
       "    <tr>\n",
       "      <th rowspan=\"3\" valign=\"top\">A</th>\n",
       "      <th>B</th>\n",
       "      <td>1.0</td>\n",
       "      <td>4.0</td>\n",
       "      <td>5.0</td>\n",
       "      <td>8.0</td>\n",
       "      <td>10.0</td>\n",
       "    </tr>\n",
       "    <tr>\n",
       "      <th>C</th>\n",
       "      <td>2.0</td>\n",
       "      <td>3.0</td>\n",
       "      <td>6.0</td>\n",
       "      <td>7.0</td>\n",
       "      <td>NaN</td>\n",
       "    </tr>\n",
       "    <tr>\n",
       "      <th>D</th>\n",
       "      <td>NaN</td>\n",
       "      <td>NaN</td>\n",
       "      <td>NaN</td>\n",
       "      <td>NaN</td>\n",
       "      <td>9.0</td>\n",
       "    </tr>\n",
       "  </tbody>\n",
       "</table>\n",
       "</div>"
      ],
      "text/plain": [
       "       a              b      \n",
       "       b    a    c    a     b\n",
       "A B  1.0  4.0  5.0  8.0  10.0\n",
       "  C  2.0  3.0  6.0  7.0   NaN\n",
       "  D  NaN  NaN  NaN  NaN   9.0"
      ]
     },
     "execution_count": 6,
     "metadata": {},
     "output_type": "execute_result"
    }
   ],
   "source": [
    "pd.DataFrame({('a', 'b'): {('A', 'B'): 1, ('A', 'C'): 2},\n",
    "('a', 'a'): {('A', 'C'): 3, ('A', 'B'): 4},\n",
    "('a', 'c'): {('A', 'B'): 5, ('A', 'C'): 6},\n",
    "('b', 'a'): {('A', 'C'): 7, ('A', 'B'): 8},\n",
    "('b', 'b'): {('A', 'D'): 9, ('A', 'B'): 10}})\n",
    "#\"NaN shows missing data"
   ]
  },
  {
   "cell_type": "markdown",
   "id": "b1452f89-55bd-421b-a815-c768b2bb753b",
   "metadata": {},
   "source": [
    "### Topic 5 : Alternate Constructors \n",
    "\n",
    "* Alternate constructors are **special methods** used to create DataFrames from structured data sources.\n",
    "\n",
    "**Data Frames from_Dict** :\n",
    "\n",
    "* **Data Frame from dicts** take a dict if array-like sequence and returns it to data frame.\n",
    "\n",
    "* It operates like Data Frame constructor , except for the orient parameter which is 'columns' by default, but which can be set to 'index' in order to use the dict key as row lables.\n",
    "\n",
    "* **Data frame from_records** :\n",
    "\n",
    "* **DataFrame.from_records** takes a list of tuples or an ndarray with structured dtype.\n",
    "\n",
    "* Works analogously to the normal DataFrame constructor, except that index maybe be a specific field of the structured dtype to use as the\n",
    "index. \n",
    "\n"
   ]
  },
  {
   "cell_type": "code",
   "execution_count": 9,
   "id": "a0ba7ee9-5927-49ba-b341-d61eb7fec74e",
   "metadata": {},
   "outputs": [
    {
     "name": "stdout",
     "output_type": "stream",
     "text": [
      "[(0, 0., b'') (0, 0., b'')]\n"
     ]
    }
   ],
   "source": [
    "import numpy as np\n",
    "\n",
    "# Use 'S' instead of deprecated 'a'\n",
    "data = np.zeros((2,), dtype=[('A', 'i4'), ('B', 'f4'), ('C', 'S10')])\n",
    "print(data)\n"
   ]
  },
  {
   "cell_type": "code",
   "execution_count": 10,
   "id": "535429a0-8333-41b1-b8c5-c3b97a46cc6e",
   "metadata": {},
   "outputs": [
    {
     "data": {
      "text/html": [
       "<div>\n",
       "<style scoped>\n",
       "    .dataframe tbody tr th:only-of-type {\n",
       "        vertical-align: middle;\n",
       "    }\n",
       "\n",
       "    .dataframe tbody tr th {\n",
       "        vertical-align: top;\n",
       "    }\n",
       "\n",
       "    .dataframe thead th {\n",
       "        text-align: right;\n",
       "    }\n",
       "</style>\n",
       "<table border=\"1\" class=\"dataframe\">\n",
       "  <thead>\n",
       "    <tr style=\"text-align: right;\">\n",
       "      <th></th>\n",
       "      <th>A</th>\n",
       "      <th>B</th>\n",
       "    </tr>\n",
       "    <tr>\n",
       "      <th>C</th>\n",
       "      <th></th>\n",
       "      <th></th>\n",
       "    </tr>\n",
       "  </thead>\n",
       "  <tbody>\n",
       "    <tr>\n",
       "      <th>b''</th>\n",
       "      <td>0</td>\n",
       "      <td>0.0</td>\n",
       "    </tr>\n",
       "    <tr>\n",
       "      <th>b''</th>\n",
       "      <td>0</td>\n",
       "      <td>0.0</td>\n",
       "    </tr>\n",
       "  </tbody>\n",
       "</table>\n",
       "</div>"
      ],
      "text/plain": [
       "     A    B\n",
       "C          \n",
       "b''  0  0.0\n",
       "b''  0  0.0"
      ]
     },
     "execution_count": 10,
     "metadata": {},
     "output_type": "execute_result"
    }
   ],
   "source": [
    "pd.DataFrame.from_records(data, index='C')"
   ]
  },
  {
   "cell_type": "markdown",
   "id": "37ed621f-fbbf-4f84-9e86-9e1723ff8b77",
   "metadata": {},
   "source": [
    "**DataFrame.from_items**:\n",
    "\n",
    "* **DataFrame.from_itemsworks** analogously to the form of the dict constructor that takes a sequence of (key, value) pairs, where the keys are\n",
    "column (or row, in the case of orient='index') names, and the value are the column values (or row values).\n",
    "\n",
    "* This can be useful for constructing a DataFrame with the columns in a particular order without having to pass an explicit list of columns"
   ]
  },
  {
   "cell_type": "code",
   "execution_count": 14,
   "id": "0ddd4e20-e22d-4f40-827a-2238edd15752",
   "metadata": {},
   "outputs": [
    {
     "name": "stdout",
     "output_type": "stream",
     "text": [
      "   A  B\n",
      "0  4  7\n",
      "1  5  8\n",
      "2  6  9\n"
     ]
    }
   ],
   "source": [
    "from collections import OrderedDict\n",
    "import pandas as pd\n",
    "\n",
    "df = pd.DataFrame(OrderedDict([('A', [4, 5, 6]), ('B', [7, 8, 9])]))\n",
    "print(df)\n"
   ]
  },
  {
   "cell_type": "code",
   "execution_count": 16,
   "id": "8caea999-3278-41ef-8154-f025030ac56e",
   "metadata": {},
   "outputs": [
    {
     "name": "stdout",
     "output_type": "stream",
     "text": [
      "   one  two  three\n",
      "A    4    5      6\n",
      "B    7    8      9\n"
     ]
    }
   ],
   "source": [
    "from collections import OrderedDict\n",
    "import pandas as pd\n",
    "\n",
    "data = OrderedDict([\n",
    "    ('A', [4, 5, 6]),\n",
    "    ('B', [7, 8, 9])\n",
    "])\n",
    "\n",
    "df = pd.DataFrame.from_dict(data, orient='index', columns=['one', 'two', 'three'])\n",
    "print(df)\n"
   ]
  },
  {
   "cell_type": "markdown",
   "id": "1780b279-d73e-4955-962e-a592779290e2",
   "metadata": {},
   "source": [
    "### Topic 6:  Column Selection, Addition, and Deletion :\n",
    "\n",
    "* DataFrame can be treated semantically like a dict of like-indexed Series objects. Getting, setting, and deleting columns works with the same\n",
    "syntax as the analogous dict operations .\n",
    "\n",
    "####  Selection\n",
    "- `df['Name']` → selects one column\n",
    "- `df[['Name', 'Marks']]` → selects multiple columns\n",
    "\n",
    "####  Addition\n",
    "- `df['Grade'] = ['A', 'A+', 'B']` → adds new column\n",
    "- `df['Bonus'] = df['Marks'] + 5` → adds calculated column\n",
    "\n",
    "####  Deletion\n",
    "- `del df['Bonus']` → deletes column in-place\n",
    "- `df = df.drop('Grade', axis=1)` → deletes column and returns new DataFrame\n"
   ]
  },
  {
   "cell_type": "code",
   "execution_count": 17,
   "id": "b97c311a-83b4-4d88-88e7-fe98d456e4d6",
   "metadata": {},
   "outputs": [
    {
     "data": {
      "text/plain": [
       "A    4\n",
       "B    7\n",
       "Name: one, dtype: int64"
      ]
     },
     "execution_count": 17,
     "metadata": {},
     "output_type": "execute_result"
    }
   ],
   "source": [
    "df['one'] # it is displaying data under coloumn 'one'"
   ]
  },
  {
   "cell_type": "code",
   "execution_count": 18,
   "id": "9d3bac17-34fd-479e-8691-d1f1ae675150",
   "metadata": {},
   "outputs": [],
   "source": [
    "df['three'] = df['one'] * df['two'] # assigning values to a colomn named 'three' after calculation"
   ]
  },
  {
   "cell_type": "code",
   "execution_count": 19,
   "id": "de3221ba-dab9-46cc-a758-bd7b8ca45b61",
   "metadata": {},
   "outputs": [],
   "source": [
    "df['flag'] = df['one'] > 2 #check if value at column 'one' is > 2 then assign True otherwise false"
   ]
  },
  {
   "cell_type": "code",
   "execution_count": 20,
   "id": "e33cb97e-5911-4946-8cc7-fe33a1477738",
   "metadata": {},
   "outputs": [
    {
     "data": {
      "text/html": [
       "<div>\n",
       "<style scoped>\n",
       "    .dataframe tbody tr th:only-of-type {\n",
       "        vertical-align: middle;\n",
       "    }\n",
       "\n",
       "    .dataframe tbody tr th {\n",
       "        vertical-align: top;\n",
       "    }\n",
       "\n",
       "    .dataframe thead th {\n",
       "        text-align: right;\n",
       "    }\n",
       "</style>\n",
       "<table border=\"1\" class=\"dataframe\">\n",
       "  <thead>\n",
       "    <tr style=\"text-align: right;\">\n",
       "      <th></th>\n",
       "      <th>one</th>\n",
       "      <th>two</th>\n",
       "      <th>three</th>\n",
       "      <th>flag</th>\n",
       "    </tr>\n",
       "  </thead>\n",
       "  <tbody>\n",
       "    <tr>\n",
       "      <th>A</th>\n",
       "      <td>4</td>\n",
       "      <td>5</td>\n",
       "      <td>20</td>\n",
       "      <td>True</td>\n",
       "    </tr>\n",
       "    <tr>\n",
       "      <th>B</th>\n",
       "      <td>7</td>\n",
       "      <td>8</td>\n",
       "      <td>56</td>\n",
       "      <td>True</td>\n",
       "    </tr>\n",
       "  </tbody>\n",
       "</table>\n",
       "</div>"
      ],
      "text/plain": [
       "   one  two  three  flag\n",
       "A    4    5     20  True\n",
       "B    7    8     56  True"
      ]
     },
     "execution_count": 20,
     "metadata": {},
     "output_type": "execute_result"
    }
   ],
   "source": [
    "df #print a complete data frame"
   ]
  },
  {
   "cell_type": "markdown",
   "id": "0ee20db3-f7b7-40f1-acc8-d069da8fc823",
   "metadata": {},
   "source": [
    "* **Columuns** can be deleted or popped like with a dict :"
   ]
  },
  {
   "cell_type": "code",
   "execution_count": 21,
   "id": "82afb1e3-bfa9-4a36-ada6-919c2a827cf7",
   "metadata": {},
   "outputs": [],
   "source": [
    "del df['two'] #delete a coloumn 'two' from data frame\n"
   ]
  },
  {
   "cell_type": "code",
   "execution_count": 22,
   "id": "52edb250-db71-4041-93be-9c1c2af707c1",
   "metadata": {},
   "outputs": [],
   "source": [
    "three = df.pop('three') #pop a complete coloumn 'three' from dataframe"
   ]
  },
  {
   "cell_type": "code",
   "execution_count": 23,
   "id": "b89555f6-42b7-4c23-8bc9-458657c15181",
   "metadata": {},
   "outputs": [
    {
     "data": {
      "text/html": [
       "<div>\n",
       "<style scoped>\n",
       "    .dataframe tbody tr th:only-of-type {\n",
       "        vertical-align: middle;\n",
       "    }\n",
       "\n",
       "    .dataframe tbody tr th {\n",
       "        vertical-align: top;\n",
       "    }\n",
       "\n",
       "    .dataframe thead th {\n",
       "        text-align: right;\n",
       "    }\n",
       "</style>\n",
       "<table border=\"1\" class=\"dataframe\">\n",
       "  <thead>\n",
       "    <tr style=\"text-align: right;\">\n",
       "      <th></th>\n",
       "      <th>one</th>\n",
       "      <th>flag</th>\n",
       "    </tr>\n",
       "  </thead>\n",
       "  <tbody>\n",
       "    <tr>\n",
       "      <th>A</th>\n",
       "      <td>4</td>\n",
       "      <td>True</td>\n",
       "    </tr>\n",
       "    <tr>\n",
       "      <th>B</th>\n",
       "      <td>7</td>\n",
       "      <td>True</td>\n",
       "    </tr>\n",
       "  </tbody>\n",
       "</table>\n",
       "</div>"
      ],
      "text/plain": [
       "   one  flag\n",
       "A    4  True\n",
       "B    7  True"
      ]
     },
     "execution_count": 23,
     "metadata": {},
     "output_type": "execute_result"
    }
   ],
   "source": [
    "df"
   ]
  },
  {
   "cell_type": "markdown",
   "id": "7b277f5c-69fa-4f1a-8cdd-9fff637eac02",
   "metadata": {},
   "source": [
    "* When inserting a scalar value, it will naturally be propagated to fill the column:"
   ]
  },
  {
   "cell_type": "code",
   "execution_count": 24,
   "id": "0ccbc1ea-47ba-4ddc-bfa4-4641f03d6f48",
   "metadata": {},
   "outputs": [],
   "source": [
    "df['foo'] = 'bar' #a coloumn 'foo' will be populated with 'bar'"
   ]
  },
  {
   "cell_type": "code",
   "execution_count": 25,
   "id": "45818cad-3143-4101-b375-60073563705d",
   "metadata": {},
   "outputs": [
    {
     "data": {
      "text/html": [
       "<div>\n",
       "<style scoped>\n",
       "    .dataframe tbody tr th:only-of-type {\n",
       "        vertical-align: middle;\n",
       "    }\n",
       "\n",
       "    .dataframe tbody tr th {\n",
       "        vertical-align: top;\n",
       "    }\n",
       "\n",
       "    .dataframe thead th {\n",
       "        text-align: right;\n",
       "    }\n",
       "</style>\n",
       "<table border=\"1\" class=\"dataframe\">\n",
       "  <thead>\n",
       "    <tr style=\"text-align: right;\">\n",
       "      <th></th>\n",
       "      <th>one</th>\n",
       "      <th>flag</th>\n",
       "      <th>foo</th>\n",
       "    </tr>\n",
       "  </thead>\n",
       "  <tbody>\n",
       "    <tr>\n",
       "      <th>A</th>\n",
       "      <td>4</td>\n",
       "      <td>True</td>\n",
       "      <td>bar</td>\n",
       "    </tr>\n",
       "    <tr>\n",
       "      <th>B</th>\n",
       "      <td>7</td>\n",
       "      <td>True</td>\n",
       "      <td>bar</td>\n",
       "    </tr>\n",
       "  </tbody>\n",
       "</table>\n",
       "</div>"
      ],
      "text/plain": [
       "   one  flag  foo\n",
       "A    4  True  bar\n",
       "B    7  True  bar"
      ]
     },
     "execution_count": 25,
     "metadata": {},
     "output_type": "execute_result"
    }
   ],
   "source": [
    "df"
   ]
  },
  {
   "cell_type": "markdown",
   "id": "c6822579-e77a-4e7d-b001-d78efb15fae1",
   "metadata": {},
   "source": [
    "* When inserting a Series that does not have the same index as the DataFrame, it will be conformed to the DataFrame’s index:"
   ]
  },
  {
   "cell_type": "code",
   "execution_count": 26,
   "id": "fb5b4f9e-70c9-4a69-8344-5caa62a59526",
   "metadata": {},
   "outputs": [],
   "source": [
    "\"\"\"following example will take values from coloumn one until give range and will populate the new coloumn\"\"\"\n",
    "df['one_trunc'] = df['one'][:2]"
   ]
  },
  {
   "cell_type": "code",
   "execution_count": 27,
   "id": "ed3c9e73-d125-4ec9-8f76-d3dba669c04b",
   "metadata": {},
   "outputs": [
    {
     "data": {
      "text/html": [
       "<div>\n",
       "<style scoped>\n",
       "    .dataframe tbody tr th:only-of-type {\n",
       "        vertical-align: middle;\n",
       "    }\n",
       "\n",
       "    .dataframe tbody tr th {\n",
       "        vertical-align: top;\n",
       "    }\n",
       "\n",
       "    .dataframe thead th {\n",
       "        text-align: right;\n",
       "    }\n",
       "</style>\n",
       "<table border=\"1\" class=\"dataframe\">\n",
       "  <thead>\n",
       "    <tr style=\"text-align: right;\">\n",
       "      <th></th>\n",
       "      <th>one</th>\n",
       "      <th>flag</th>\n",
       "      <th>foo</th>\n",
       "      <th>one_trunc</th>\n",
       "    </tr>\n",
       "  </thead>\n",
       "  <tbody>\n",
       "    <tr>\n",
       "      <th>A</th>\n",
       "      <td>4</td>\n",
       "      <td>True</td>\n",
       "      <td>bar</td>\n",
       "      <td>4</td>\n",
       "    </tr>\n",
       "    <tr>\n",
       "      <th>B</th>\n",
       "      <td>7</td>\n",
       "      <td>True</td>\n",
       "      <td>bar</td>\n",
       "      <td>7</td>\n",
       "    </tr>\n",
       "  </tbody>\n",
       "</table>\n",
       "</div>"
      ],
      "text/plain": [
       "   one  flag  foo  one_trunc\n",
       "A    4  True  bar          4\n",
       "B    7  True  bar          7"
      ]
     },
     "execution_count": 27,
     "metadata": {},
     "output_type": "execute_result"
    }
   ],
   "source": [
    "df"
   ]
  },
  {
   "cell_type": "markdown",
   "id": "d188d7d6-687b-430b-be9f-987461844a57",
   "metadata": {},
   "source": [
    "* By default, columns get inserted at the end. The insert function is available to insert at a particular location in the columns:"
   ]
  },
  {
   "cell_type": "code",
   "execution_count": 28,
   "id": "e5e2ff43-8cab-471f-8881-8cdb7e579d8d",
   "metadata": {},
   "outputs": [],
   "source": [
    "\"\"\"following function has three arguments.\n",
    "First argument: index where new coloumn will be inserted.\n",
    "Second argument: label or title of a new coloumn\n",
    "Third argument: it will create a coloumn at specified position\"\"\"\n",
    "df.insert(1, 'bar2', df['one'])"
   ]
  },
  {
   "cell_type": "code",
   "execution_count": 29,
   "id": "a1a5dc52-632e-4615-845b-1f41494072cf",
   "metadata": {},
   "outputs": [
    {
     "data": {
      "text/html": [
       "<div>\n",
       "<style scoped>\n",
       "    .dataframe tbody tr th:only-of-type {\n",
       "        vertical-align: middle;\n",
       "    }\n",
       "\n",
       "    .dataframe tbody tr th {\n",
       "        vertical-align: top;\n",
       "    }\n",
       "\n",
       "    .dataframe thead th {\n",
       "        text-align: right;\n",
       "    }\n",
       "</style>\n",
       "<table border=\"1\" class=\"dataframe\">\n",
       "  <thead>\n",
       "    <tr style=\"text-align: right;\">\n",
       "      <th></th>\n",
       "      <th>one</th>\n",
       "      <th>bar2</th>\n",
       "      <th>flag</th>\n",
       "      <th>foo</th>\n",
       "      <th>one_trunc</th>\n",
       "    </tr>\n",
       "  </thead>\n",
       "  <tbody>\n",
       "    <tr>\n",
       "      <th>A</th>\n",
       "      <td>4</td>\n",
       "      <td>4</td>\n",
       "      <td>True</td>\n",
       "      <td>bar</td>\n",
       "      <td>4</td>\n",
       "    </tr>\n",
       "    <tr>\n",
       "      <th>B</th>\n",
       "      <td>7</td>\n",
       "      <td>7</td>\n",
       "      <td>True</td>\n",
       "      <td>bar</td>\n",
       "      <td>7</td>\n",
       "    </tr>\n",
       "  </tbody>\n",
       "</table>\n",
       "</div>"
      ],
      "text/plain": [
       "   one  bar2  flag  foo  one_trunc\n",
       "A    4     4  True  bar          4\n",
       "B    7     7  True  bar          7"
      ]
     },
     "execution_count": 29,
     "metadata": {},
     "output_type": "execute_result"
    }
   ],
   "source": [
    "df"
   ]
  },
  {
   "cell_type": "markdown",
   "id": "85da43d0-1075-4d79-892c-4dc436d7a49f",
   "metadata": {},
   "source": [
    "###  Topic 7: Indexing and Selection:\n",
    "\n",
    "Row selection, for example, returns a Series whose index is the columns of the DataFrame.\n",
    "\n",
    "####  Access Columns\n",
    "- `df['Name']` → Single column\n",
    "- `df[['Name', 'Marks']]` → Multiple columns\n",
    "\n",
    "####  Access Rows\n",
    "- `df.loc['a']` → Access by label\n",
    "- `df.iloc[0]` → Access by position\n",
    "\n",
    "####  Access Specific Cell\n",
    "- `df.loc['a', 'Marks']` → By label\n",
    "- `df.iloc[0, 1]` → By position\n",
    "\n",
    "####  Slice Rows\n",
    "- `df[0:2]` → First two rows\n",
    "- `df.loc['a':'b']` → Rows from 'a' to 'b'\n"
   ]
  },
  {
   "cell_type": "code",
   "execution_count": 33,
   "id": "8e5f2003-b4ff-48e7-80d4-a9ba2125fb00",
   "metadata": {},
   "outputs": [
    {
     "data": {
      "text/plain": [
       "one             7\n",
       "bar2            7\n",
       "flag         True\n",
       "foo           bar\n",
       "one_trunc       7\n",
       "Name: B, dtype: object"
      ]
     },
     "execution_count": 33,
     "metadata": {},
     "output_type": "execute_result"
    }
   ],
   "source": [
    "df.loc['B'] #it will return the coloumn labels and values on row label 'b'"
   ]
  },
  {
   "cell_type": "code",
   "execution_count": 35,
   "id": "4feb2a5c-964c-4255-b059-a09aa3e1c30b",
   "metadata": {},
   "outputs": [
    {
     "data": {
      "text/plain": [
       "one             7\n",
       "bar2            7\n",
       "flag         True\n",
       "foo           bar\n",
       "one_trunc       7\n",
       "Name: B, dtype: object"
      ]
     },
     "execution_count": 35,
     "metadata": {},
     "output_type": "execute_result"
    }
   ],
   "source": [
    " df.iloc[1] #it will return the values of those coloumns that is > than 2"
   ]
  },
  {
   "cell_type": "markdown",
   "id": "07ce3f4a-42ba-45e7-992c-dc739cb0487c",
   "metadata": {},
   "source": [
    "###  Topic 8: Data Alignment & Arithmetic in DataFrames\n",
    "\n",
    "* Pandas aligns **both rows and columns by label** when performing arithmetic operations between DataFrames.\n",
    "* Data alignment between DataFrame objects automatically align on both the columns and the index (row labels).\n",
    "* Again, the resulting object will have the union of the column and row labels.\n"
   ]
  },
  {
   "cell_type": "code",
   "execution_count": 36,
   "id": "1a1aec9c-86fb-4de4-ab3a-3d15afa0f797",
   "metadata": {},
   "outputs": [],
   "source": [
    "df = pd.DataFrame(np.random.randn(10, 4), columns=['A', 'B', 'C', 'D'])"
   ]
  },
  {
   "cell_type": "code",
   "execution_count": 37,
   "id": "fc790140-ece7-4d9b-a97a-f729ecfc7a37",
   "metadata": {},
   "outputs": [],
   "source": [
    "df2 = pd.DataFrame(np.random.randn(7, 3), columns=['A', 'B', 'C'])"
   ]
  },
  {
   "cell_type": "code",
   "execution_count": 38,
   "id": "f87c4dd9-d8e8-4979-a5db-54cb98888c45",
   "metadata": {},
   "outputs": [
    {
     "data": {
      "text/html": [
       "<div>\n",
       "<style scoped>\n",
       "    .dataframe tbody tr th:only-of-type {\n",
       "        vertical-align: middle;\n",
       "    }\n",
       "\n",
       "    .dataframe tbody tr th {\n",
       "        vertical-align: top;\n",
       "    }\n",
       "\n",
       "    .dataframe thead th {\n",
       "        text-align: right;\n",
       "    }\n",
       "</style>\n",
       "<table border=\"1\" class=\"dataframe\">\n",
       "  <thead>\n",
       "    <tr style=\"text-align: right;\">\n",
       "      <th></th>\n",
       "      <th>A</th>\n",
       "      <th>B</th>\n",
       "      <th>C</th>\n",
       "      <th>D</th>\n",
       "    </tr>\n",
       "  </thead>\n",
       "  <tbody>\n",
       "    <tr>\n",
       "      <th>0</th>\n",
       "      <td>0.571587</td>\n",
       "      <td>0.242891</td>\n",
       "      <td>1.098381</td>\n",
       "      <td>NaN</td>\n",
       "    </tr>\n",
       "    <tr>\n",
       "      <th>1</th>\n",
       "      <td>-0.589415</td>\n",
       "      <td>-2.069065</td>\n",
       "      <td>0.511396</td>\n",
       "      <td>NaN</td>\n",
       "    </tr>\n",
       "    <tr>\n",
       "      <th>2</th>\n",
       "      <td>-1.460503</td>\n",
       "      <td>0.640814</td>\n",
       "      <td>0.983695</td>\n",
       "      <td>NaN</td>\n",
       "    </tr>\n",
       "    <tr>\n",
       "      <th>3</th>\n",
       "      <td>1.845109</td>\n",
       "      <td>0.988191</td>\n",
       "      <td>-0.473760</td>\n",
       "      <td>NaN</td>\n",
       "    </tr>\n",
       "    <tr>\n",
       "      <th>4</th>\n",
       "      <td>0.109613</td>\n",
       "      <td>-1.487350</td>\n",
       "      <td>0.459597</td>\n",
       "      <td>NaN</td>\n",
       "    </tr>\n",
       "    <tr>\n",
       "      <th>5</th>\n",
       "      <td>1.954520</td>\n",
       "      <td>0.417492</td>\n",
       "      <td>1.789018</td>\n",
       "      <td>NaN</td>\n",
       "    </tr>\n",
       "    <tr>\n",
       "      <th>6</th>\n",
       "      <td>1.389170</td>\n",
       "      <td>-3.059659</td>\n",
       "      <td>-1.352074</td>\n",
       "      <td>NaN</td>\n",
       "    </tr>\n",
       "    <tr>\n",
       "      <th>7</th>\n",
       "      <td>NaN</td>\n",
       "      <td>NaN</td>\n",
       "      <td>NaN</td>\n",
       "      <td>NaN</td>\n",
       "    </tr>\n",
       "    <tr>\n",
       "      <th>8</th>\n",
       "      <td>NaN</td>\n",
       "      <td>NaN</td>\n",
       "      <td>NaN</td>\n",
       "      <td>NaN</td>\n",
       "    </tr>\n",
       "    <tr>\n",
       "      <th>9</th>\n",
       "      <td>NaN</td>\n",
       "      <td>NaN</td>\n",
       "      <td>NaN</td>\n",
       "      <td>NaN</td>\n",
       "    </tr>\n",
       "  </tbody>\n",
       "</table>\n",
       "</div>"
      ],
      "text/plain": [
       "          A         B         C   D\n",
       "0  0.571587  0.242891  1.098381 NaN\n",
       "1 -0.589415 -2.069065  0.511396 NaN\n",
       "2 -1.460503  0.640814  0.983695 NaN\n",
       "3  1.845109  0.988191 -0.473760 NaN\n",
       "4  0.109613 -1.487350  0.459597 NaN\n",
       "5  1.954520  0.417492  1.789018 NaN\n",
       "6  1.389170 -3.059659 -1.352074 NaN\n",
       "7       NaN       NaN       NaN NaN\n",
       "8       NaN       NaN       NaN NaN\n",
       "9       NaN       NaN       NaN NaN"
      ]
     },
     "execution_count": 38,
     "metadata": {},
     "output_type": "execute_result"
    }
   ],
   "source": [
    "df + df2 # add values of respective coloumn labels"
   ]
  },
  {
   "cell_type": "markdown",
   "id": "8f499995-1a19-444f-b23a-637cdf085419",
   "metadata": {},
   "source": [
    "* When doing an operation between DataFrame and Series, the default behavior is to align the Series index on the DataFrame columns. For Example:"
   ]
  },
  {
   "cell_type": "code",
   "execution_count": 39,
   "id": "1542b386-81d1-4977-b950-834d804d29c5",
   "metadata": {},
   "outputs": [
    {
     "data": {
      "text/html": [
       "<div>\n",
       "<style scoped>\n",
       "    .dataframe tbody tr th:only-of-type {\n",
       "        vertical-align: middle;\n",
       "    }\n",
       "\n",
       "    .dataframe tbody tr th {\n",
       "        vertical-align: top;\n",
       "    }\n",
       "\n",
       "    .dataframe thead th {\n",
       "        text-align: right;\n",
       "    }\n",
       "</style>\n",
       "<table border=\"1\" class=\"dataframe\">\n",
       "  <thead>\n",
       "    <tr style=\"text-align: right;\">\n",
       "      <th></th>\n",
       "      <th>A</th>\n",
       "      <th>B</th>\n",
       "      <th>C</th>\n",
       "      <th>D</th>\n",
       "    </tr>\n",
       "  </thead>\n",
       "  <tbody>\n",
       "    <tr>\n",
       "      <th>0</th>\n",
       "      <td>0.000000</td>\n",
       "      <td>0.000000</td>\n",
       "      <td>0.000000</td>\n",
       "      <td>0.000000</td>\n",
       "    </tr>\n",
       "    <tr>\n",
       "      <th>1</th>\n",
       "      <td>-2.181150</td>\n",
       "      <td>-0.808237</td>\n",
       "      <td>2.130582</td>\n",
       "      <td>-1.617624</td>\n",
       "    </tr>\n",
       "    <tr>\n",
       "      <th>2</th>\n",
       "      <td>-2.195594</td>\n",
       "      <td>-0.983505</td>\n",
       "      <td>0.986787</td>\n",
       "      <td>1.429948</td>\n",
       "    </tr>\n",
       "    <tr>\n",
       "      <th>3</th>\n",
       "      <td>-1.504762</td>\n",
       "      <td>-1.174795</td>\n",
       "      <td>2.258893</td>\n",
       "      <td>-0.454176</td>\n",
       "    </tr>\n",
       "    <tr>\n",
       "      <th>4</th>\n",
       "      <td>-0.933641</td>\n",
       "      <td>-1.304956</td>\n",
       "      <td>2.525425</td>\n",
       "      <td>0.436265</td>\n",
       "    </tr>\n",
       "    <tr>\n",
       "      <th>5</th>\n",
       "      <td>0.391504</td>\n",
       "      <td>-1.257995</td>\n",
       "      <td>2.469039</td>\n",
       "      <td>-1.048214</td>\n",
       "    </tr>\n",
       "    <tr>\n",
       "      <th>6</th>\n",
       "      <td>-1.386845</td>\n",
       "      <td>-2.576266</td>\n",
       "      <td>-0.158712</td>\n",
       "      <td>-0.515423</td>\n",
       "    </tr>\n",
       "    <tr>\n",
       "      <th>7</th>\n",
       "      <td>-1.232739</td>\n",
       "      <td>-1.274511</td>\n",
       "      <td>0.900509</td>\n",
       "      <td>-1.149099</td>\n",
       "    </tr>\n",
       "    <tr>\n",
       "      <th>8</th>\n",
       "      <td>-2.301157</td>\n",
       "      <td>-2.954864</td>\n",
       "      <td>2.364490</td>\n",
       "      <td>0.721083</td>\n",
       "    </tr>\n",
       "    <tr>\n",
       "      <th>9</th>\n",
       "      <td>-1.300159</td>\n",
       "      <td>-1.440829</td>\n",
       "      <td>0.996095</td>\n",
       "      <td>0.433566</td>\n",
       "    </tr>\n",
       "  </tbody>\n",
       "</table>\n",
       "</div>"
      ],
      "text/plain": [
       "          A         B         C         D\n",
       "0  0.000000  0.000000  0.000000  0.000000\n",
       "1 -2.181150 -0.808237  2.130582 -1.617624\n",
       "2 -2.195594 -0.983505  0.986787  1.429948\n",
       "3 -1.504762 -1.174795  2.258893 -0.454176\n",
       "4 -0.933641 -1.304956  2.525425  0.436265\n",
       "5  0.391504 -1.257995  2.469039 -1.048214\n",
       "6 -1.386845 -2.576266 -0.158712 -0.515423\n",
       "7 -1.232739 -1.274511  0.900509 -1.149099\n",
       "8 -2.301157 -2.954864  2.364490  0.721083\n",
       "9 -1.300159 -1.440829  0.996095  0.433566"
      ]
     },
     "execution_count": 39,
     "metadata": {},
     "output_type": "execute_result"
    }
   ],
   "source": [
    "df - df.iloc[0]"
   ]
  },
  {
   "cell_type": "code",
   "execution_count": 40,
   "id": "ea0cc145-917d-4a28-8f10-1aa64ec60a8b",
   "metadata": {},
   "outputs": [
    {
     "data": {
      "text/html": [
       "<div>\n",
       "<style scoped>\n",
       "    .dataframe tbody tr th:only-of-type {\n",
       "        vertical-align: middle;\n",
       "    }\n",
       "\n",
       "    .dataframe tbody tr th {\n",
       "        vertical-align: top;\n",
       "    }\n",
       "\n",
       "    .dataframe thead th {\n",
       "        text-align: right;\n",
       "    }\n",
       "</style>\n",
       "<table border=\"1\" class=\"dataframe\">\n",
       "  <thead>\n",
       "    <tr style=\"text-align: right;\">\n",
       "      <th></th>\n",
       "      <th>A</th>\n",
       "      <th>B</th>\n",
       "      <th>C</th>\n",
       "      <th>D</th>\n",
       "    </tr>\n",
       "  </thead>\n",
       "  <tbody>\n",
       "    <tr>\n",
       "      <th>0</th>\n",
       "      <td>9.882689</td>\n",
       "      <td>8.066970</td>\n",
       "      <td>-6.200534</td>\n",
       "      <td>3.967827</td>\n",
       "    </tr>\n",
       "    <tr>\n",
       "      <th>1</th>\n",
       "      <td>-1.023059</td>\n",
       "      <td>4.025783</td>\n",
       "      <td>4.452378</td>\n",
       "      <td>-4.120291</td>\n",
       "    </tr>\n",
       "    <tr>\n",
       "      <th>2</th>\n",
       "      <td>-1.095283</td>\n",
       "      <td>3.149445</td>\n",
       "      <td>-1.266599</td>\n",
       "      <td>11.117566</td>\n",
       "    </tr>\n",
       "    <tr>\n",
       "      <th>3</th>\n",
       "      <td>2.358881</td>\n",
       "      <td>2.192995</td>\n",
       "      <td>5.093929</td>\n",
       "      <td>1.696946</td>\n",
       "    </tr>\n",
       "    <tr>\n",
       "      <th>4</th>\n",
       "      <td>5.214485</td>\n",
       "      <td>1.542188</td>\n",
       "      <td>6.426590</td>\n",
       "      <td>6.149149</td>\n",
       "    </tr>\n",
       "    <tr>\n",
       "      <th>5</th>\n",
       "      <td>11.840207</td>\n",
       "      <td>1.776992</td>\n",
       "      <td>6.144662</td>\n",
       "      <td>-1.273242</td>\n",
       "    </tr>\n",
       "    <tr>\n",
       "      <th>6</th>\n",
       "      <td>2.948465</td>\n",
       "      <td>-4.814360</td>\n",
       "      <td>-6.994093</td>\n",
       "      <td>1.390712</td>\n",
       "    </tr>\n",
       "    <tr>\n",
       "      <th>7</th>\n",
       "      <td>3.718996</td>\n",
       "      <td>1.694413</td>\n",
       "      <td>-1.697988</td>\n",
       "      <td>-1.777669</td>\n",
       "    </tr>\n",
       "    <tr>\n",
       "      <th>8</th>\n",
       "      <td>-1.623095</td>\n",
       "      <td>-6.707351</td>\n",
       "      <td>5.621916</td>\n",
       "      <td>7.573242</td>\n",
       "    </tr>\n",
       "    <tr>\n",
       "      <th>9</th>\n",
       "      <td>3.381893</td>\n",
       "      <td>0.862823</td>\n",
       "      <td>-1.220059</td>\n",
       "      <td>6.135658</td>\n",
       "    </tr>\n",
       "  </tbody>\n",
       "</table>\n",
       "</div>"
      ],
      "text/plain": [
       "           A         B         C          D\n",
       "0   9.882689  8.066970 -6.200534   3.967827\n",
       "1  -1.023059  4.025783  4.452378  -4.120291\n",
       "2  -1.095283  3.149445 -1.266599  11.117566\n",
       "3   2.358881  2.192995  5.093929   1.696946\n",
       "4   5.214485  1.542188  6.426590   6.149149\n",
       "5  11.840207  1.776992  6.144662  -1.273242\n",
       "6   2.948465 -4.814360 -6.994093   1.390712\n",
       "7   3.718996  1.694413 -1.697988  -1.777669\n",
       "8  -1.623095 -6.707351  5.621916   7.573242\n",
       "9   3.381893  0.862823 -1.220059   6.135658"
      ]
     },
     "execution_count": 40,
     "metadata": {},
     "output_type": "execute_result"
    }
   ],
   "source": [
    "df*5+2"
   ]
  },
  {
   "cell_type": "code",
   "execution_count": 41,
   "id": "47c5c7a0-70a5-4dc8-95e2-2721a70ae0f0",
   "metadata": {},
   "outputs": [
    {
     "data": {
      "text/html": [
       "<div>\n",
       "<style scoped>\n",
       "    .dataframe tbody tr th:only-of-type {\n",
       "        vertical-align: middle;\n",
       "    }\n",
       "\n",
       "    .dataframe tbody tr th {\n",
       "        vertical-align: top;\n",
       "    }\n",
       "\n",
       "    .dataframe thead th {\n",
       "        text-align: right;\n",
       "    }\n",
       "</style>\n",
       "<table border=\"1\" class=\"dataframe\">\n",
       "  <thead>\n",
       "    <tr style=\"text-align: right;\">\n",
       "      <th></th>\n",
       "      <th>A</th>\n",
       "      <th>B</th>\n",
       "      <th>C</th>\n",
       "      <th>D</th>\n",
       "    </tr>\n",
       "  </thead>\n",
       "  <tbody>\n",
       "    <tr>\n",
       "      <th>0</th>\n",
       "      <td>0.634301</td>\n",
       "      <td>0.824135</td>\n",
       "      <td>-0.609716</td>\n",
       "      <td>2.540874</td>\n",
       "    </tr>\n",
       "    <tr>\n",
       "      <th>1</th>\n",
       "      <td>-1.653954</td>\n",
       "      <td>2.468181</td>\n",
       "      <td>2.038837</td>\n",
       "      <td>-0.816955</td>\n",
       "    </tr>\n",
       "    <tr>\n",
       "      <th>2</th>\n",
       "      <td>-1.615361</td>\n",
       "      <td>4.349926</td>\n",
       "      <td>-1.530644</td>\n",
       "      <td>0.548392</td>\n",
       "    </tr>\n",
       "    <tr>\n",
       "      <th>3</th>\n",
       "      <td>13.932180</td>\n",
       "      <td>25.907353</td>\n",
       "      <td>1.616068</td>\n",
       "      <td>-16.498714</td>\n",
       "    </tr>\n",
       "    <tr>\n",
       "      <th>4</th>\n",
       "      <td>1.555459</td>\n",
       "      <td>-10.921510</td>\n",
       "      <td>1.129538</td>\n",
       "      <td>1.205066</td>\n",
       "    </tr>\n",
       "    <tr>\n",
       "      <th>5</th>\n",
       "      <td>0.508119</td>\n",
       "      <td>-22.420743</td>\n",
       "      <td>1.206371</td>\n",
       "      <td>-1.527537</td>\n",
       "    </tr>\n",
       "    <tr>\n",
       "      <th>6</th>\n",
       "      <td>5.271676</td>\n",
       "      <td>-0.733745</td>\n",
       "      <td>-0.555920</td>\n",
       "      <td>-8.206297</td>\n",
       "    </tr>\n",
       "    <tr>\n",
       "      <th>7</th>\n",
       "      <td>2.908674</td>\n",
       "      <td>-16.361963</td>\n",
       "      <td>-1.352087</td>\n",
       "      <td>-1.323567</td>\n",
       "    </tr>\n",
       "    <tr>\n",
       "      <th>8</th>\n",
       "      <td>-1.380035</td>\n",
       "      <td>-0.574227</td>\n",
       "      <td>1.380485</td>\n",
       "      <td>0.897144</td>\n",
       "    </tr>\n",
       "    <tr>\n",
       "      <th>9</th>\n",
       "      <td>3.618225</td>\n",
       "      <td>-4.396851</td>\n",
       "      <td>-1.552767</td>\n",
       "      <td>1.208997</td>\n",
       "    </tr>\n",
       "  </tbody>\n",
       "</table>\n",
       "</div>"
      ],
      "text/plain": [
       "           A          B         C          D\n",
       "0   0.634301   0.824135 -0.609716   2.540874\n",
       "1  -1.653954   2.468181  2.038837  -0.816955\n",
       "2  -1.615361   4.349926 -1.530644   0.548392\n",
       "3  13.932180  25.907353  1.616068 -16.498714\n",
       "4   1.555459 -10.921510  1.129538   1.205066\n",
       "5   0.508119 -22.420743  1.206371  -1.527537\n",
       "6   5.271676  -0.733745 -0.555920  -8.206297\n",
       "7   2.908674 -16.361963 -1.352087  -1.323567\n",
       "8  -1.380035  -0.574227  1.380485   0.897144\n",
       "9   3.618225  -4.396851 -1.552767   1.208997"
      ]
     },
     "execution_count": 41,
     "metadata": {},
     "output_type": "execute_result"
    }
   ],
   "source": [
    "1 / df"
   ]
  },
  {
   "cell_type": "code",
   "execution_count": 42,
   "id": "38ec03a4-1dc2-4a9b-abc3-e45e4c251dad",
   "metadata": {},
   "outputs": [
    {
     "data": {
      "text/html": [
       "<div>\n",
       "<style scoped>\n",
       "    .dataframe tbody tr th:only-of-type {\n",
       "        vertical-align: middle;\n",
       "    }\n",
       "\n",
       "    .dataframe tbody tr th {\n",
       "        vertical-align: top;\n",
       "    }\n",
       "\n",
       "    .dataframe thead th {\n",
       "        text-align: right;\n",
       "    }\n",
       "</style>\n",
       "<table border=\"1\" class=\"dataframe\">\n",
       "  <thead>\n",
       "    <tr style=\"text-align: right;\">\n",
       "      <th></th>\n",
       "      <th>A</th>\n",
       "      <th>B</th>\n",
       "      <th>C</th>\n",
       "      <th>D</th>\n",
       "    </tr>\n",
       "  </thead>\n",
       "  <tbody>\n",
       "    <tr>\n",
       "      <th>0</th>\n",
       "      <td>6.177568</td>\n",
       "      <td>2.167740</td>\n",
       "      <td>7.235833</td>\n",
       "      <td>0.023992</td>\n",
       "    </tr>\n",
       "    <tr>\n",
       "      <th>1</th>\n",
       "      <td>0.133631</td>\n",
       "      <td>0.026946</td>\n",
       "      <td>0.057872</td>\n",
       "      <td>2.244959</td>\n",
       "    </tr>\n",
       "    <tr>\n",
       "      <th>2</th>\n",
       "      <td>0.146866</td>\n",
       "      <td>0.002793</td>\n",
       "      <td>0.182181</td>\n",
       "      <td>11.056959</td>\n",
       "    </tr>\n",
       "    <tr>\n",
       "      <th>3</th>\n",
       "      <td>0.000027</td>\n",
       "      <td>0.000002</td>\n",
       "      <td>0.146609</td>\n",
       "      <td>0.000013</td>\n",
       "    </tr>\n",
       "    <tr>\n",
       "      <th>4</th>\n",
       "      <td>0.170830</td>\n",
       "      <td>0.000070</td>\n",
       "      <td>0.614324</td>\n",
       "      <td>0.474194</td>\n",
       "    </tr>\n",
       "    <tr>\n",
       "      <th>5</th>\n",
       "      <td>15.001580</td>\n",
       "      <td>0.000004</td>\n",
       "      <td>0.472146</td>\n",
       "      <td>0.183668</td>\n",
       "    </tr>\n",
       "    <tr>\n",
       "      <th>6</th>\n",
       "      <td>0.001295</td>\n",
       "      <td>3.450009</td>\n",
       "      <td>10.470065</td>\n",
       "      <td>0.000221</td>\n",
       "    </tr>\n",
       "    <tr>\n",
       "      <th>7</th>\n",
       "      <td>0.013971</td>\n",
       "      <td>0.000014</td>\n",
       "      <td>0.299214</td>\n",
       "      <td>0.325848</td>\n",
       "    </tr>\n",
       "    <tr>\n",
       "      <th>8</th>\n",
       "      <td>0.275701</td>\n",
       "      <td>9.197381</td>\n",
       "      <td>0.275343</td>\n",
       "      <td>1.543660</td>\n",
       "    </tr>\n",
       "    <tr>\n",
       "      <th>9</th>\n",
       "      <td>0.005835</td>\n",
       "      <td>0.002676</td>\n",
       "      <td>0.172018</td>\n",
       "      <td>0.468057</td>\n",
       "    </tr>\n",
       "  </tbody>\n",
       "</table>\n",
       "</div>"
      ],
      "text/plain": [
       "           A         B          C          D\n",
       "0   6.177568  2.167740   7.235833   0.023992\n",
       "1   0.133631  0.026946   0.057872   2.244959\n",
       "2   0.146866  0.002793   0.182181  11.056959\n",
       "3   0.000027  0.000002   0.146609   0.000013\n",
       "4   0.170830  0.000070   0.614324   0.474194\n",
       "5  15.001580  0.000004   0.472146   0.183668\n",
       "6   0.001295  3.450009  10.470065   0.000221\n",
       "7   0.013971  0.000014   0.299214   0.325848\n",
       "8   0.275701  9.197381   0.275343   1.543660\n",
       "9   0.005835  0.002676   0.172018   0.468057"
      ]
     },
     "execution_count": 42,
     "metadata": {},
     "output_type": "execute_result"
    }
   ],
   "source": [
    "df **4"
   ]
  },
  {
   "cell_type": "markdown",
   "id": "e371b9c1-1af6-4ec4-bb7f-2cd7f39f734f",
   "metadata": {},
   "source": [
    "* Boolean operators work as well:"
   ]
  },
  {
   "cell_type": "code",
   "execution_count": 43,
   "id": "0be482ef-abea-4335-8459-7765a9a25d93",
   "metadata": {},
   "outputs": [],
   "source": [
    "df1 = pd.DataFrame({'a' : [1, 0, 1], 'b' : [0, 1, 1] }, dtype=bool)"
   ]
  },
  {
   "cell_type": "code",
   "execution_count": 44,
   "id": "0d1ef9bb-14b1-4677-98a8-fc58ef4ecf67",
   "metadata": {},
   "outputs": [],
   "source": [
    "df2 = pd.DataFrame({'a' : [0, 1, 1], 'b' : [1, 1, 0] }, dtype=bool)"
   ]
  },
  {
   "cell_type": "code",
   "execution_count": 45,
   "id": "0672faea-b717-4c7c-af09-f301c2d638b9",
   "metadata": {},
   "outputs": [
    {
     "data": {
      "text/html": [
       "<div>\n",
       "<style scoped>\n",
       "    .dataframe tbody tr th:only-of-type {\n",
       "        vertical-align: middle;\n",
       "    }\n",
       "\n",
       "    .dataframe tbody tr th {\n",
       "        vertical-align: top;\n",
       "    }\n",
       "\n",
       "    .dataframe thead th {\n",
       "        text-align: right;\n",
       "    }\n",
       "</style>\n",
       "<table border=\"1\" class=\"dataframe\">\n",
       "  <thead>\n",
       "    <tr style=\"text-align: right;\">\n",
       "      <th></th>\n",
       "      <th>a</th>\n",
       "      <th>b</th>\n",
       "    </tr>\n",
       "  </thead>\n",
       "  <tbody>\n",
       "    <tr>\n",
       "      <th>0</th>\n",
       "      <td>False</td>\n",
       "      <td>True</td>\n",
       "    </tr>\n",
       "    <tr>\n",
       "      <th>1</th>\n",
       "      <td>True</td>\n",
       "      <td>True</td>\n",
       "    </tr>\n",
       "    <tr>\n",
       "      <th>2</th>\n",
       "      <td>True</td>\n",
       "      <td>False</td>\n",
       "    </tr>\n",
       "  </tbody>\n",
       "</table>\n",
       "</div>"
      ],
      "text/plain": [
       "       a      b\n",
       "0  False   True\n",
       "1   True   True\n",
       "2   True  False"
      ]
     },
     "execution_count": 45,
     "metadata": {},
     "output_type": "execute_result"
    }
   ],
   "source": [
    "pd.DataFrame({'a' : [0, 1, 1], 'b' : [1, 1, 0] }, dtype=bool)"
   ]
  },
  {
   "cell_type": "code",
   "execution_count": 46,
   "id": "5ed21343-508c-48a0-b985-940a3dde9ed9",
   "metadata": {},
   "outputs": [
    {
     "data": {
      "text/html": [
       "<div>\n",
       "<style scoped>\n",
       "    .dataframe tbody tr th:only-of-type {\n",
       "        vertical-align: middle;\n",
       "    }\n",
       "\n",
       "    .dataframe tbody tr th {\n",
       "        vertical-align: top;\n",
       "    }\n",
       "\n",
       "    .dataframe thead th {\n",
       "        text-align: right;\n",
       "    }\n",
       "</style>\n",
       "<table border=\"1\" class=\"dataframe\">\n",
       "  <thead>\n",
       "    <tr style=\"text-align: right;\">\n",
       "      <th></th>\n",
       "      <th>a</th>\n",
       "      <th>b</th>\n",
       "    </tr>\n",
       "  </thead>\n",
       "  <tbody>\n",
       "    <tr>\n",
       "      <th>0</th>\n",
       "      <td>False</td>\n",
       "      <td>False</td>\n",
       "    </tr>\n",
       "    <tr>\n",
       "      <th>1</th>\n",
       "      <td>False</td>\n",
       "      <td>True</td>\n",
       "    </tr>\n",
       "    <tr>\n",
       "      <th>2</th>\n",
       "      <td>True</td>\n",
       "      <td>False</td>\n",
       "    </tr>\n",
       "  </tbody>\n",
       "</table>\n",
       "</div>"
      ],
      "text/plain": [
       "       a      b\n",
       "0  False  False\n",
       "1  False   True\n",
       "2   True  False"
      ]
     },
     "execution_count": 46,
     "metadata": {},
     "output_type": "execute_result"
    }
   ],
   "source": [
    "df1 & df2 #and logical operator"
   ]
  },
  {
   "cell_type": "code",
   "execution_count": 47,
   "id": "6391f2d2-0d78-402e-90c5-98ecc67303a0",
   "metadata": {},
   "outputs": [
    {
     "data": {
      "text/html": [
       "<div>\n",
       "<style scoped>\n",
       "    .dataframe tbody tr th:only-of-type {\n",
       "        vertical-align: middle;\n",
       "    }\n",
       "\n",
       "    .dataframe tbody tr th {\n",
       "        vertical-align: top;\n",
       "    }\n",
       "\n",
       "    .dataframe thead th {\n",
       "        text-align: right;\n",
       "    }\n",
       "</style>\n",
       "<table border=\"1\" class=\"dataframe\">\n",
       "  <thead>\n",
       "    <tr style=\"text-align: right;\">\n",
       "      <th></th>\n",
       "      <th>a</th>\n",
       "      <th>b</th>\n",
       "    </tr>\n",
       "  </thead>\n",
       "  <tbody>\n",
       "    <tr>\n",
       "      <th>0</th>\n",
       "      <td>True</td>\n",
       "      <td>True</td>\n",
       "    </tr>\n",
       "    <tr>\n",
       "      <th>1</th>\n",
       "      <td>True</td>\n",
       "      <td>True</td>\n",
       "    </tr>\n",
       "    <tr>\n",
       "      <th>2</th>\n",
       "      <td>True</td>\n",
       "      <td>True</td>\n",
       "    </tr>\n",
       "  </tbody>\n",
       "</table>\n",
       "</div>"
      ],
      "text/plain": [
       "      a     b\n",
       "0  True  True\n",
       "1  True  True\n",
       "2  True  True"
      ]
     },
     "execution_count": 47,
     "metadata": {},
     "output_type": "execute_result"
    }
   ],
   "source": [
    "df1 | df2 # or operator"
   ]
  },
  {
   "cell_type": "code",
   "execution_count": 48,
   "id": "4b8cdb99-4de7-44c6-96f2-817f3e1d64a9",
   "metadata": {},
   "outputs": [
    {
     "data": {
      "text/html": [
       "<div>\n",
       "<style scoped>\n",
       "    .dataframe tbody tr th:only-of-type {\n",
       "        vertical-align: middle;\n",
       "    }\n",
       "\n",
       "    .dataframe tbody tr th {\n",
       "        vertical-align: top;\n",
       "    }\n",
       "\n",
       "    .dataframe thead th {\n",
       "        text-align: right;\n",
       "    }\n",
       "</style>\n",
       "<table border=\"1\" class=\"dataframe\">\n",
       "  <thead>\n",
       "    <tr style=\"text-align: right;\">\n",
       "      <th></th>\n",
       "      <th>a</th>\n",
       "      <th>b</th>\n",
       "    </tr>\n",
       "  </thead>\n",
       "  <tbody>\n",
       "    <tr>\n",
       "      <th>0</th>\n",
       "      <td>False</td>\n",
       "      <td>True</td>\n",
       "    </tr>\n",
       "    <tr>\n",
       "      <th>1</th>\n",
       "      <td>True</td>\n",
       "      <td>False</td>\n",
       "    </tr>\n",
       "    <tr>\n",
       "      <th>2</th>\n",
       "      <td>False</td>\n",
       "      <td>False</td>\n",
       "    </tr>\n",
       "  </tbody>\n",
       "</table>\n",
       "</div>"
      ],
      "text/plain": [
       "       a      b\n",
       "0  False   True\n",
       "1   True  False\n",
       "2  False  False"
      ]
     },
     "execution_count": 48,
     "metadata": {},
     "output_type": "execute_result"
    }
   ],
   "source": [
    "-df1"
   ]
  },
  {
   "cell_type": "markdown",
   "id": "a0aa8550-376c-4f15-94ee-d66f9132124d",
   "metadata": {},
   "source": [
    "###  Topic 9: Transposing a DataFrame\n",
    "\n",
    "To **transpose** a DataFrame (flip rows ↔ columns), use `.T`:\n",
    "It is similar to  an ndarray\n",
    "\n",
    "####  Example:\n",
    "```python\n",
    "df.T\n"
   ]
  },
  {
   "cell_type": "code",
   "execution_count": 49,
   "id": "853243b3-6f86-4dc1-9957-922a9b7caba3",
   "metadata": {},
   "outputs": [
    {
     "data": {
      "text/html": [
       "<div>\n",
       "<style scoped>\n",
       "    .dataframe tbody tr th:only-of-type {\n",
       "        vertical-align: middle;\n",
       "    }\n",
       "\n",
       "    .dataframe tbody tr th {\n",
       "        vertical-align: top;\n",
       "    }\n",
       "\n",
       "    .dataframe thead th {\n",
       "        text-align: right;\n",
       "    }\n",
       "</style>\n",
       "<table border=\"1\" class=\"dataframe\">\n",
       "  <thead>\n",
       "    <tr style=\"text-align: right;\">\n",
       "      <th></th>\n",
       "      <th>0</th>\n",
       "      <th>1</th>\n",
       "      <th>2</th>\n",
       "      <th>3</th>\n",
       "      <th>4</th>\n",
       "      <th>5</th>\n",
       "    </tr>\n",
       "  </thead>\n",
       "  <tbody>\n",
       "    <tr>\n",
       "      <th>A</th>\n",
       "      <td>1.576538</td>\n",
       "      <td>-0.604612</td>\n",
       "      <td>-0.619057</td>\n",
       "      <td>0.071776</td>\n",
       "      <td>0.642897</td>\n",
       "      <td>1.968041</td>\n",
       "    </tr>\n",
       "    <tr>\n",
       "      <th>B</th>\n",
       "      <td>1.213394</td>\n",
       "      <td>0.405157</td>\n",
       "      <td>0.229889</td>\n",
       "      <td>0.038599</td>\n",
       "      <td>-0.091562</td>\n",
       "      <td>-0.044602</td>\n",
       "    </tr>\n",
       "    <tr>\n",
       "      <th>C</th>\n",
       "      <td>-1.640107</td>\n",
       "      <td>0.490476</td>\n",
       "      <td>-0.653320</td>\n",
       "      <td>0.618786</td>\n",
       "      <td>0.885318</td>\n",
       "      <td>0.828932</td>\n",
       "    </tr>\n",
       "    <tr>\n",
       "      <th>D</th>\n",
       "      <td>0.393565</td>\n",
       "      <td>-1.224058</td>\n",
       "      <td>1.823513</td>\n",
       "      <td>-0.060611</td>\n",
       "      <td>0.829830</td>\n",
       "      <td>-0.654648</td>\n",
       "    </tr>\n",
       "  </tbody>\n",
       "</table>\n",
       "</div>"
      ],
      "text/plain": [
       "          0         1         2         3         4         5\n",
       "A  1.576538 -0.604612 -0.619057  0.071776  0.642897  1.968041\n",
       "B  1.213394  0.405157  0.229889  0.038599 -0.091562 -0.044602\n",
       "C -1.640107  0.490476 -0.653320  0.618786  0.885318  0.828932\n",
       "D  0.393565 -1.224058  1.823513 -0.060611  0.829830 -0.654648"
      ]
     },
     "execution_count": 49,
     "metadata": {},
     "output_type": "execute_result"
    }
   ],
   "source": [
    "# only show the first 6 rows\n",
    "df[:6].T"
   ]
  },
  {
   "cell_type": "markdown",
   "id": "185253bf-d4f4-4b94-8619-eac7b96d7e79",
   "metadata": {},
   "source": [
    "* Creating a DataFrame by passing a numpy array, with a datetime index and labeled columns:"
   ]
  },
  {
   "cell_type": "code",
   "execution_count": 52,
   "id": "d2074064-b28d-4c79-832c-e81a78ab0928",
   "metadata": {},
   "outputs": [],
   "source": [
    "dates = pd.date_range('20160101', periods=6)"
   ]
  },
  {
   "cell_type": "code",
   "execution_count": 53,
   "id": "f1040c63-40c8-425a-8b08-fb674d742598",
   "metadata": {},
   "outputs": [
    {
     "data": {
      "text/plain": [
       "DatetimeIndex(['2016-01-01', '2016-01-02', '2016-01-03', '2016-01-04',\n",
       "               '2016-01-05', '2016-01-06'],\n",
       "              dtype='datetime64[ns]', freq='D')"
      ]
     },
     "execution_count": 53,
     "metadata": {},
     "output_type": "execute_result"
    }
   ],
   "source": [
    "dates"
   ]
  },
  {
   "cell_type": "code",
   "execution_count": 54,
   "id": "1ee73f2f-64e0-44b9-83b8-88c6715f4876",
   "metadata": {},
   "outputs": [],
   "source": [
    "df = pd.DataFrame(np.random.randn(6,4), index=dates, columns=list('ABCD'))\n"
   ]
  },
  {
   "cell_type": "code",
   "execution_count": 55,
   "id": "b9ea9602-a5f3-4c18-b700-458edc20874b",
   "metadata": {},
   "outputs": [
    {
     "data": {
      "text/html": [
       "<div>\n",
       "<style scoped>\n",
       "    .dataframe tbody tr th:only-of-type {\n",
       "        vertical-align: middle;\n",
       "    }\n",
       "\n",
       "    .dataframe tbody tr th {\n",
       "        vertical-align: top;\n",
       "    }\n",
       "\n",
       "    .dataframe thead th {\n",
       "        text-align: right;\n",
       "    }\n",
       "</style>\n",
       "<table border=\"1\" class=\"dataframe\">\n",
       "  <thead>\n",
       "    <tr style=\"text-align: right;\">\n",
       "      <th></th>\n",
       "      <th>A</th>\n",
       "      <th>B</th>\n",
       "      <th>C</th>\n",
       "      <th>D</th>\n",
       "    </tr>\n",
       "  </thead>\n",
       "  <tbody>\n",
       "    <tr>\n",
       "      <th>2016-01-01</th>\n",
       "      <td>-0.673657</td>\n",
       "      <td>1.606244</td>\n",
       "      <td>-0.525905</td>\n",
       "      <td>-0.347189</td>\n",
       "    </tr>\n",
       "    <tr>\n",
       "      <th>2016-01-02</th>\n",
       "      <td>1.382708</td>\n",
       "      <td>0.267742</td>\n",
       "      <td>-1.322686</td>\n",
       "      <td>-1.003976</td>\n",
       "    </tr>\n",
       "    <tr>\n",
       "      <th>2016-01-03</th>\n",
       "      <td>-0.177106</td>\n",
       "      <td>0.330812</td>\n",
       "      <td>-0.852325</td>\n",
       "      <td>-1.010773</td>\n",
       "    </tr>\n",
       "    <tr>\n",
       "      <th>2016-01-04</th>\n",
       "      <td>-0.626326</td>\n",
       "      <td>-0.033050</td>\n",
       "      <td>0.649773</td>\n",
       "      <td>-2.402037</td>\n",
       "    </tr>\n",
       "    <tr>\n",
       "      <th>2016-01-05</th>\n",
       "      <td>0.440802</td>\n",
       "      <td>-2.449788</td>\n",
       "      <td>-1.119570</td>\n",
       "      <td>-0.715579</td>\n",
       "    </tr>\n",
       "    <tr>\n",
       "      <th>2016-01-06</th>\n",
       "      <td>-0.044679</td>\n",
       "      <td>-0.776990</td>\n",
       "      <td>0.311611</td>\n",
       "      <td>-2.012203</td>\n",
       "    </tr>\n",
       "  </tbody>\n",
       "</table>\n",
       "</div>"
      ],
      "text/plain": [
       "                   A         B         C         D\n",
       "2016-01-01 -0.673657  1.606244 -0.525905 -0.347189\n",
       "2016-01-02  1.382708  0.267742 -1.322686 -1.003976\n",
       "2016-01-03 -0.177106  0.330812 -0.852325 -1.010773\n",
       "2016-01-04 -0.626326 -0.033050  0.649773 -2.402037\n",
       "2016-01-05  0.440802 -2.449788 -1.119570 -0.715579\n",
       "2016-01-06 -0.044679 -0.776990  0.311611 -2.012203"
      ]
     },
     "execution_count": 55,
     "metadata": {},
     "output_type": "execute_result"
    }
   ],
   "source": [
    "df"
   ]
  },
  {
   "cell_type": "markdown",
   "id": "0711d89c-076e-41c2-81c3-079faef9b56a",
   "metadata": {},
   "source": [
    "* Creating a DataFrame by passing a dict of objects that can be converted to series-like."
   ]
  },
  {
   "cell_type": "code",
   "execution_count": 56,
   "id": "54010450-633e-47c4-ab5d-431d8687588b",
   "metadata": {},
   "outputs": [],
   "source": [
    "df2 = pd.DataFrame({ 'A' : 1.,\n",
    "'B' : pd.Timestamp('20160102'),\n",
    "'C' : pd.Series(1,index=list(range(4)),dtype='float32'),\n",
    "'D' : np.array([3] * 4,dtype='int32'),\n",
    "'E' : pd.Categorical([\"test\",\"train\",\"test\",\"train\"]),\n",
    "'F' : 'foo' })"
   ]
  },
  {
   "cell_type": "code",
   "execution_count": 57,
   "id": "377f7431-3b16-4e66-818b-f8603957e5a7",
   "metadata": {},
   "outputs": [
    {
     "data": {
      "text/html": [
       "<div>\n",
       "<style scoped>\n",
       "    .dataframe tbody tr th:only-of-type {\n",
       "        vertical-align: middle;\n",
       "    }\n",
       "\n",
       "    .dataframe tbody tr th {\n",
       "        vertical-align: top;\n",
       "    }\n",
       "\n",
       "    .dataframe thead th {\n",
       "        text-align: right;\n",
       "    }\n",
       "</style>\n",
       "<table border=\"1\" class=\"dataframe\">\n",
       "  <thead>\n",
       "    <tr style=\"text-align: right;\">\n",
       "      <th></th>\n",
       "      <th>A</th>\n",
       "      <th>B</th>\n",
       "      <th>C</th>\n",
       "      <th>D</th>\n",
       "      <th>E</th>\n",
       "      <th>F</th>\n",
       "    </tr>\n",
       "  </thead>\n",
       "  <tbody>\n",
       "    <tr>\n",
       "      <th>0</th>\n",
       "      <td>1.0</td>\n",
       "      <td>2016-01-02</td>\n",
       "      <td>1.0</td>\n",
       "      <td>3</td>\n",
       "      <td>test</td>\n",
       "      <td>foo</td>\n",
       "    </tr>\n",
       "    <tr>\n",
       "      <th>1</th>\n",
       "      <td>1.0</td>\n",
       "      <td>2016-01-02</td>\n",
       "      <td>1.0</td>\n",
       "      <td>3</td>\n",
       "      <td>train</td>\n",
       "      <td>foo</td>\n",
       "    </tr>\n",
       "    <tr>\n",
       "      <th>2</th>\n",
       "      <td>1.0</td>\n",
       "      <td>2016-01-02</td>\n",
       "      <td>1.0</td>\n",
       "      <td>3</td>\n",
       "      <td>test</td>\n",
       "      <td>foo</td>\n",
       "    </tr>\n",
       "    <tr>\n",
       "      <th>3</th>\n",
       "      <td>1.0</td>\n",
       "      <td>2016-01-02</td>\n",
       "      <td>1.0</td>\n",
       "      <td>3</td>\n",
       "      <td>train</td>\n",
       "      <td>foo</td>\n",
       "    </tr>\n",
       "  </tbody>\n",
       "</table>\n",
       "</div>"
      ],
      "text/plain": [
       "     A          B    C  D      E    F\n",
       "0  1.0 2016-01-02  1.0  3   test  foo\n",
       "1  1.0 2016-01-02  1.0  3  train  foo\n",
       "2  1.0 2016-01-02  1.0  3   test  foo\n",
       "3  1.0 2016-01-02  1.0  3  train  foo"
      ]
     },
     "execution_count": 57,
     "metadata": {},
     "output_type": "execute_result"
    }
   ],
   "source": [
    "df2"
   ]
  },
  {
   "cell_type": "code",
   "execution_count": 59,
   "id": "efc095a5-20b5-47eb-b5f1-6827da973f11",
   "metadata": {},
   "outputs": [
    {
     "data": {
      "text/plain": [
       "A          float64\n",
       "B    datetime64[s]\n",
       "C          float32\n",
       "D            int32\n",
       "E         category\n",
       "F           object\n",
       "dtype: object"
      ]
     },
     "execution_count": 59,
     "metadata": {},
     "output_type": "execute_result"
    }
   ],
   "source": [
    "#Having specific dtypes\n",
    "df2.dtypes"
   ]
  },
  {
   "cell_type": "markdown",
   "id": "39bacefb-79fc-4eef-ba96-deab89153b33",
   "metadata": {},
   "source": [
    "---\n",
    "# Viewing Data :\n",
    "\n",
    "Viewing data means inspecting, exploring, and summarizing the contents of a Pandas DataFrame — especially at the start of your analysis.\n",
    "\n",
    "It helps you:\n",
    "\n",
    "* Understand what your dataset looks like.\n",
    "\n",
    "* Check for missing or incorrect data.\n",
    "\n",
    "* Explore patterns and distributions.\n",
    "\n",
    "* Confirm that data is loaded correctly.\n",
    "\n",
    "### Key Tools :\n",
    "1. `df.head()` → View first 5 rows  \n",
    "2. `df.tail()` → View last 5 rows  \n",
    "3. `df.columns` → List all column names  \n",
    "4. `df.shape` → Show shape (rows, cols)  \n",
    "5. `df.index` → Show row index range  \n",
    "6. `df.dtypes` → Data types of each column  \n",
    "7. `df.info()` → Summary: columns, nulls, types  \n",
    "8. `df.describe()` → Stats for numeric columns  \n",
    "9. `df[\"col\"].value_counts()` → Count of unique values  \n",
    "10. `df[\"col\"].unique()` → Unique values in a column  \n",
    "11. `df[\"col\"].nunique()` → Number of unique values  \n",
    "12. `df.isnull().sum()` → Missing values per column  \n",
    "13. `df[0:3]` → Slice first 3 rows  \n",
    "14. `df[[\"col1\", \"col2\"]]` → View selected columns  \n",
    "15. `df[df[\"col\"] > value]` → Filter rows conditionally\n",
    "\n",
    "\n"
   ]
  },
  {
   "cell_type": "code",
   "execution_count": 4,
   "id": "f0bc9c0c-7801-4892-8a7d-d0b1fbd9a21b",
   "metadata": {},
   "outputs": [
    {
     "name": "stdout",
     "output_type": "stream",
     "text": [
      "First 5 rows:\n",
      "     Name  Age       City\n",
      "0  Hamza   23     Lahore\n",
      "1    Ali   25    Karachi\n",
      "2   Sara   22  Islamabad\n",
      "3  Ahmed   24     Lahore\n",
      "4  Usman   26   Peshawar\n",
      "\n",
      "Last 5 rows:\n",
      "     Name  Age       City\n",
      "1    Ali   25    Karachi\n",
      "2   Sara   22  Islamabad\n",
      "3  Ahmed   24     Lahore\n",
      "4  Usman   26   Peshawar\n",
      "5  Adeel   28     Multan\n",
      "\n",
      "First 3 rows:\n",
      "     Name  Age       City\n",
      "0  Hamza   23     Lahore\n",
      "1    Ali   25    Karachi\n",
      "2   Sara   22  Islamabad\n",
      "\n",
      "Column Names:\n",
      " Index(['Name', 'Age', 'City'], dtype='object')\n",
      "\n",
      "Info:\n",
      "\n",
      "<class 'pandas.core.frame.DataFrame'>\n",
      "RangeIndex: 6 entries, 0 to 5\n",
      "Data columns (total 3 columns):\n",
      " #   Column  Non-Null Count  Dtype \n",
      "---  ------  --------------  ----- \n",
      " 0   Name    6 non-null      object\n",
      " 1   Age     6 non-null      int64 \n",
      " 2   City    6 non-null      object\n",
      "dtypes: int64(1), object(2)\n",
      "memory usage: 276.0+ bytes\n",
      "\n",
      "Descriptive Statistics:\n",
      "              Age\n",
      "count   6.000000\n",
      "mean   24.666667\n",
      "std     2.160247\n",
      "min    22.000000\n",
      "25%    23.250000\n",
      "50%    24.500000\n",
      "75%    25.750000\n",
      "max    28.000000\n"
     ]
    }
   ],
   "source": [
    "import pandas as pd\n",
    "\n",
    "# Sample DataFrame\n",
    "data = {\n",
    "    \"Name\": [\"Hamza\", \"Ali\", \"Sara\", \"Ahmed\", \"Usman\", \"Adeel\"],\n",
    "    \"Age\": [23, 25, 22, 24, 26, 28],\n",
    "    \"City\": [\"Lahore\", \"Karachi\", \"Islamabad\", \"Lahore\", \"Peshawar\", \"Multan\"]\n",
    "}\n",
    "\n",
    "df = pd.DataFrame(data)\n",
    "\n",
    "# View first 5 rows\n",
    "print(\"First 5 rows:\\n\", df.head())\n",
    "\n",
    "# View last 5 rows\n",
    "print(\"\\nLast 5 rows:\\n\", df.tail())\n",
    "\n",
    "# View first 3 rows\n",
    "print(\"\\nFirst 3 rows:\\n\", df.head(3))\n",
    "\n",
    "# View column names\n",
    "print(\"\\nColumn Names:\\n\", df.columns)\n",
    "\n",
    "# Get basic info (types, nulls, etc.)\n",
    "print(\"\\nInfo:\\n\")\n",
    "df.info()\n",
    "\n",
    "# Get descriptive stats\n",
    "print(\"\\nDescriptive Statistics:\\n\", df.describe())\n"
   ]
  },
  {
   "cell_type": "code",
   "execution_count": 6,
   "id": "0990d508-593b-4ba3-a70f-cfa85aecf4b4",
   "metadata": {},
   "outputs": [
    {
     "data": {
      "text/html": [
       "<div>\n",
       "<style scoped>\n",
       "    .dataframe tbody tr th:only-of-type {\n",
       "        vertical-align: middle;\n",
       "    }\n",
       "\n",
       "    .dataframe tbody tr th {\n",
       "        vertical-align: top;\n",
       "    }\n",
       "\n",
       "    .dataframe thead th {\n",
       "        text-align: right;\n",
       "    }\n",
       "</style>\n",
       "<table border=\"1\" class=\"dataframe\">\n",
       "  <thead>\n",
       "    <tr style=\"text-align: right;\">\n",
       "      <th></th>\n",
       "      <th>A</th>\n",
       "      <th>B</th>\n",
       "      <th>C</th>\n",
       "      <th>D</th>\n",
       "    </tr>\n",
       "  </thead>\n",
       "  <tbody>\n",
       "    <tr>\n",
       "      <th>2013-01-04</th>\n",
       "      <td>0.700818</td>\n",
       "      <td>0.868870</td>\n",
       "      <td>-0.345051</td>\n",
       "      <td>-0.022051</td>\n",
       "    </tr>\n",
       "    <tr>\n",
       "      <th>2013-01-05</th>\n",
       "      <td>0.254263</td>\n",
       "      <td>1.334793</td>\n",
       "      <td>-1.945413</td>\n",
       "      <td>0.015426</td>\n",
       "    </tr>\n",
       "    <tr>\n",
       "      <th>2013-01-06</th>\n",
       "      <td>-0.626666</td>\n",
       "      <td>0.377629</td>\n",
       "      <td>0.328876</td>\n",
       "      <td>0.118453</td>\n",
       "    </tr>\n",
       "  </tbody>\n",
       "</table>\n",
       "</div>"
      ],
      "text/plain": [
       "                   A         B         C         D\n",
       "2013-01-04  0.700818  0.868870 -0.345051 -0.022051\n",
       "2013-01-05  0.254263  1.334793 -1.945413  0.015426\n",
       "2013-01-06 -0.626666  0.377629  0.328876  0.118453"
      ]
     },
     "execution_count": 6,
     "metadata": {},
     "output_type": "execute_result"
    }
   ],
   "source": [
    "df.tail(3) #display last 3 records\n"
   ]
  },
  {
   "cell_type": "code",
   "execution_count": 7,
   "id": "4e27f601-651f-4021-9558-3340afbf61eb",
   "metadata": {},
   "outputs": [
    {
     "data": {
      "text/plain": [
       "DatetimeIndex(['2013-01-01', '2013-01-02', '2013-01-03', '2013-01-04',\n",
       "               '2013-01-05', '2013-01-06'],\n",
       "              dtype='datetime64[ns]', freq='D')"
      ]
     },
     "execution_count": 7,
     "metadata": {},
     "output_type": "execute_result"
    }
   ],
   "source": [
    "df.index #display indexes"
   ]
  },
  {
   "cell_type": "code",
   "execution_count": 8,
   "id": "20296a11-bd89-4d86-85b7-1375198c9bfd",
   "metadata": {},
   "outputs": [
    {
     "data": {
      "text/plain": [
       "Index(['A', 'B', 'C', 'D'], dtype='object')"
      ]
     },
     "execution_count": 8,
     "metadata": {},
     "output_type": "execute_result"
    }
   ],
   "source": [
    "df.columns #display coloumns"
   ]
  },
  {
   "cell_type": "code",
   "execution_count": 9,
   "id": "a32204d2-0cc5-469f-b20a-5755fc85f093",
   "metadata": {},
   "outputs": [
    {
     "data": {
      "text/plain": [
       "array([[ 0.9441851 , -1.13927235, -0.48422804,  1.3854395 ],\n",
       "       [-0.97136305,  1.02900877, -1.00140222, -0.09428462],\n",
       "       [ 0.28498348,  1.36390556,  0.57735353,  0.31031256],\n",
       "       [ 0.70081807,  0.86886984, -0.34505057, -0.02205082],\n",
       "       [ 0.25426297,  1.33479294, -1.94541297,  0.01542579],\n",
       "       [-0.62666645,  0.37762879,  0.3288756 ,  0.11845257]])"
      ]
     },
     "execution_count": 9,
     "metadata": {},
     "output_type": "execute_result"
    }
   ],
   "source": [
    "df.values # print values"
   ]
  },
  {
   "cell_type": "code",
   "execution_count": 10,
   "id": "0d0ee18d-ed93-4111-a920-862558230651",
   "metadata": {},
   "outputs": [
    {
     "data": {
      "text/html": [
       "<div>\n",
       "<style scoped>\n",
       "    .dataframe tbody tr th:only-of-type {\n",
       "        vertical-align: middle;\n",
       "    }\n",
       "\n",
       "    .dataframe tbody tr th {\n",
       "        vertical-align: top;\n",
       "    }\n",
       "\n",
       "    .dataframe thead th {\n",
       "        text-align: right;\n",
       "    }\n",
       "</style>\n",
       "<table border=\"1\" class=\"dataframe\">\n",
       "  <thead>\n",
       "    <tr style=\"text-align: right;\">\n",
       "      <th></th>\n",
       "      <th>2013-01-01</th>\n",
       "      <th>2013-01-02</th>\n",
       "      <th>2013-01-03</th>\n",
       "      <th>2013-01-04</th>\n",
       "      <th>2013-01-05</th>\n",
       "      <th>2013-01-06</th>\n",
       "    </tr>\n",
       "  </thead>\n",
       "  <tbody>\n",
       "    <tr>\n",
       "      <th>A</th>\n",
       "      <td>0.944185</td>\n",
       "      <td>-0.971363</td>\n",
       "      <td>0.284983</td>\n",
       "      <td>0.700818</td>\n",
       "      <td>0.254263</td>\n",
       "      <td>-0.626666</td>\n",
       "    </tr>\n",
       "    <tr>\n",
       "      <th>B</th>\n",
       "      <td>-1.139272</td>\n",
       "      <td>1.029009</td>\n",
       "      <td>1.363906</td>\n",
       "      <td>0.868870</td>\n",
       "      <td>1.334793</td>\n",
       "      <td>0.377629</td>\n",
       "    </tr>\n",
       "    <tr>\n",
       "      <th>C</th>\n",
       "      <td>-0.484228</td>\n",
       "      <td>-1.001402</td>\n",
       "      <td>0.577354</td>\n",
       "      <td>-0.345051</td>\n",
       "      <td>-1.945413</td>\n",
       "      <td>0.328876</td>\n",
       "    </tr>\n",
       "    <tr>\n",
       "      <th>D</th>\n",
       "      <td>1.385440</td>\n",
       "      <td>-0.094285</td>\n",
       "      <td>0.310313</td>\n",
       "      <td>-0.022051</td>\n",
       "      <td>0.015426</td>\n",
       "      <td>0.118453</td>\n",
       "    </tr>\n",
       "  </tbody>\n",
       "</table>\n",
       "</div>"
      ],
      "text/plain": [
       "   2013-01-01  2013-01-02  2013-01-03  2013-01-04  2013-01-05  2013-01-06\n",
       "A    0.944185   -0.971363    0.284983    0.700818    0.254263   -0.626666\n",
       "B   -1.139272    1.029009    1.363906    0.868870    1.334793    0.377629\n",
       "C   -0.484228   -1.001402    0.577354   -0.345051   -1.945413    0.328876\n",
       "D    1.385440   -0.094285    0.310313   -0.022051    0.015426    0.118453"
      ]
     },
     "execution_count": 10,
     "metadata": {},
     "output_type": "execute_result"
    }
   ],
   "source": [
    "# Transposing your data\n",
    "df.T"
   ]
  },
  {
   "cell_type": "code",
   "execution_count": 11,
   "id": "69b6096b-98ce-4ddb-941f-30607d4c4d30",
   "metadata": {},
   "outputs": [
    {
     "data": {
      "text/html": [
       "<div>\n",
       "<style scoped>\n",
       "    .dataframe tbody tr th:only-of-type {\n",
       "        vertical-align: middle;\n",
       "    }\n",
       "\n",
       "    .dataframe tbody tr th {\n",
       "        vertical-align: top;\n",
       "    }\n",
       "\n",
       "    .dataframe thead th {\n",
       "        text-align: right;\n",
       "    }\n",
       "</style>\n",
       "<table border=\"1\" class=\"dataframe\">\n",
       "  <thead>\n",
       "    <tr style=\"text-align: right;\">\n",
       "      <th></th>\n",
       "      <th>D</th>\n",
       "      <th>C</th>\n",
       "      <th>B</th>\n",
       "      <th>A</th>\n",
       "    </tr>\n",
       "  </thead>\n",
       "  <tbody>\n",
       "    <tr>\n",
       "      <th>2013-01-01</th>\n",
       "      <td>1.385440</td>\n",
       "      <td>-0.484228</td>\n",
       "      <td>-1.139272</td>\n",
       "      <td>0.944185</td>\n",
       "    </tr>\n",
       "    <tr>\n",
       "      <th>2013-01-02</th>\n",
       "      <td>-0.094285</td>\n",
       "      <td>-1.001402</td>\n",
       "      <td>1.029009</td>\n",
       "      <td>-0.971363</td>\n",
       "    </tr>\n",
       "    <tr>\n",
       "      <th>2013-01-03</th>\n",
       "      <td>0.310313</td>\n",
       "      <td>0.577354</td>\n",
       "      <td>1.363906</td>\n",
       "      <td>0.284983</td>\n",
       "    </tr>\n",
       "    <tr>\n",
       "      <th>2013-01-04</th>\n",
       "      <td>-0.022051</td>\n",
       "      <td>-0.345051</td>\n",
       "      <td>0.868870</td>\n",
       "      <td>0.700818</td>\n",
       "    </tr>\n",
       "    <tr>\n",
       "      <th>2013-01-05</th>\n",
       "      <td>0.015426</td>\n",
       "      <td>-1.945413</td>\n",
       "      <td>1.334793</td>\n",
       "      <td>0.254263</td>\n",
       "    </tr>\n",
       "    <tr>\n",
       "      <th>2013-01-06</th>\n",
       "      <td>0.118453</td>\n",
       "      <td>0.328876</td>\n",
       "      <td>0.377629</td>\n",
       "      <td>-0.626666</td>\n",
       "    </tr>\n",
       "  </tbody>\n",
       "</table>\n",
       "</div>"
      ],
      "text/plain": [
       "                   D         C         B         A\n",
       "2013-01-01  1.385440 -0.484228 -1.139272  0.944185\n",
       "2013-01-02 -0.094285 -1.001402  1.029009 -0.971363\n",
       "2013-01-03  0.310313  0.577354  1.363906  0.284983\n",
       "2013-01-04 -0.022051 -0.345051  0.868870  0.700818\n",
       "2013-01-05  0.015426 -1.945413  1.334793  0.254263\n",
       "2013-01-06  0.118453  0.328876  0.377629 -0.626666"
      ]
     },
     "execution_count": 11,
     "metadata": {},
     "output_type": "execute_result"
    }
   ],
   "source": [
    "#Sorting by an axis\n",
    "df.sort_index(axis=1, ascending=False)"
   ]
  },
  {
   "cell_type": "code",
   "execution_count": 12,
   "id": "a415fe48-3b5a-476b-a3b5-8b93ea60172a",
   "metadata": {},
   "outputs": [
    {
     "data": {
      "text/html": [
       "<div>\n",
       "<style scoped>\n",
       "    .dataframe tbody tr th:only-of-type {\n",
       "        vertical-align: middle;\n",
       "    }\n",
       "\n",
       "    .dataframe tbody tr th {\n",
       "        vertical-align: top;\n",
       "    }\n",
       "\n",
       "    .dataframe thead th {\n",
       "        text-align: right;\n",
       "    }\n",
       "</style>\n",
       "<table border=\"1\" class=\"dataframe\">\n",
       "  <thead>\n",
       "    <tr style=\"text-align: right;\">\n",
       "      <th></th>\n",
       "      <th>A</th>\n",
       "      <th>B</th>\n",
       "      <th>C</th>\n",
       "      <th>D</th>\n",
       "    </tr>\n",
       "  </thead>\n",
       "  <tbody>\n",
       "    <tr>\n",
       "      <th>2013-01-01</th>\n",
       "      <td>0.944185</td>\n",
       "      <td>-1.139272</td>\n",
       "      <td>-0.484228</td>\n",
       "      <td>1.385440</td>\n",
       "    </tr>\n",
       "    <tr>\n",
       "      <th>2013-01-06</th>\n",
       "      <td>-0.626666</td>\n",
       "      <td>0.377629</td>\n",
       "      <td>0.328876</td>\n",
       "      <td>0.118453</td>\n",
       "    </tr>\n",
       "    <tr>\n",
       "      <th>2013-01-04</th>\n",
       "      <td>0.700818</td>\n",
       "      <td>0.868870</td>\n",
       "      <td>-0.345051</td>\n",
       "      <td>-0.022051</td>\n",
       "    </tr>\n",
       "    <tr>\n",
       "      <th>2013-01-02</th>\n",
       "      <td>-0.971363</td>\n",
       "      <td>1.029009</td>\n",
       "      <td>-1.001402</td>\n",
       "      <td>-0.094285</td>\n",
       "    </tr>\n",
       "    <tr>\n",
       "      <th>2013-01-05</th>\n",
       "      <td>0.254263</td>\n",
       "      <td>1.334793</td>\n",
       "      <td>-1.945413</td>\n",
       "      <td>0.015426</td>\n",
       "    </tr>\n",
       "    <tr>\n",
       "      <th>2013-01-03</th>\n",
       "      <td>0.284983</td>\n",
       "      <td>1.363906</td>\n",
       "      <td>0.577354</td>\n",
       "      <td>0.310313</td>\n",
       "    </tr>\n",
       "  </tbody>\n",
       "</table>\n",
       "</div>"
      ],
      "text/plain": [
       "                   A         B         C         D\n",
       "2013-01-01  0.944185 -1.139272 -0.484228  1.385440\n",
       "2013-01-06 -0.626666  0.377629  0.328876  0.118453\n",
       "2013-01-04  0.700818  0.868870 -0.345051 -0.022051\n",
       "2013-01-02 -0.971363  1.029009 -1.001402 -0.094285\n",
       "2013-01-05  0.254263  1.334793 -1.945413  0.015426\n",
       "2013-01-03  0.284983  1.363906  0.577354  0.310313"
      ]
     },
     "execution_count": 12,
     "metadata": {},
     "output_type": "execute_result"
    }
   ],
   "source": [
    "#Sorting by values\n",
    "df.sort_values(by='B')"
   ]
  },
  {
   "cell_type": "code",
   "execution_count": 13,
   "id": "57aa9ffb-df81-48d9-bd06-d97c9cd2a47f",
   "metadata": {},
   "outputs": [
    {
     "data": {
      "text/html": [
       "<div>\n",
       "<style scoped>\n",
       "    .dataframe tbody tr th:only-of-type {\n",
       "        vertical-align: middle;\n",
       "    }\n",
       "\n",
       "    .dataframe tbody tr th {\n",
       "        vertical-align: top;\n",
       "    }\n",
       "\n",
       "    .dataframe thead th {\n",
       "        text-align: right;\n",
       "    }\n",
       "</style>\n",
       "<table border=\"1\" class=\"dataframe\">\n",
       "  <thead>\n",
       "    <tr style=\"text-align: right;\">\n",
       "      <th></th>\n",
       "      <th>A</th>\n",
       "      <th>B</th>\n",
       "      <th>C</th>\n",
       "      <th>D</th>\n",
       "    </tr>\n",
       "  </thead>\n",
       "  <tbody>\n",
       "    <tr>\n",
       "      <th>count</th>\n",
       "      <td>6.000000</td>\n",
       "      <td>6.000000</td>\n",
       "      <td>6.000000</td>\n",
       "      <td>6.000000</td>\n",
       "    </tr>\n",
       "    <tr>\n",
       "      <th>mean</th>\n",
       "      <td>0.097703</td>\n",
       "      <td>0.639156</td>\n",
       "      <td>-0.478311</td>\n",
       "      <td>0.285549</td>\n",
       "    </tr>\n",
       "    <tr>\n",
       "      <th>std</th>\n",
       "      <td>0.749330</td>\n",
       "      <td>0.942882</td>\n",
       "      <td>0.917582</td>\n",
       "      <td>0.556804</td>\n",
       "    </tr>\n",
       "    <tr>\n",
       "      <th>min</th>\n",
       "      <td>-0.971363</td>\n",
       "      <td>-1.139272</td>\n",
       "      <td>-1.945413</td>\n",
       "      <td>-0.094285</td>\n",
       "    </tr>\n",
       "    <tr>\n",
       "      <th>25%</th>\n",
       "      <td>-0.406434</td>\n",
       "      <td>0.500439</td>\n",
       "      <td>-0.872109</td>\n",
       "      <td>-0.012682</td>\n",
       "    </tr>\n",
       "    <tr>\n",
       "      <th>50%</th>\n",
       "      <td>0.269623</td>\n",
       "      <td>0.948939</td>\n",
       "      <td>-0.414639</td>\n",
       "      <td>0.066939</td>\n",
       "    </tr>\n",
       "    <tr>\n",
       "      <th>75%</th>\n",
       "      <td>0.596859</td>\n",
       "      <td>1.258347</td>\n",
       "      <td>0.160394</td>\n",
       "      <td>0.262348</td>\n",
       "    </tr>\n",
       "    <tr>\n",
       "      <th>max</th>\n",
       "      <td>0.944185</td>\n",
       "      <td>1.363906</td>\n",
       "      <td>0.577354</td>\n",
       "      <td>1.385440</td>\n",
       "    </tr>\n",
       "  </tbody>\n",
       "</table>\n",
       "</div>"
      ],
      "text/plain": [
       "              A         B         C         D\n",
       "count  6.000000  6.000000  6.000000  6.000000\n",
       "mean   0.097703  0.639156 -0.478311  0.285549\n",
       "std    0.749330  0.942882  0.917582  0.556804\n",
       "min   -0.971363 -1.139272 -1.945413 -0.094285\n",
       "25%   -0.406434  0.500439 -0.872109 -0.012682\n",
       "50%    0.269623  0.948939 -0.414639  0.066939\n",
       "75%    0.596859  1.258347  0.160394  0.262348\n",
       "max    0.944185  1.363906  0.577354  1.385440"
      ]
     },
     "execution_count": 13,
     "metadata": {},
     "output_type": "execute_result"
    }
   ],
   "source": [
    "# Describe shows a quick statistic summary of your data\n",
    "df.describe()"
   ]
  },
  {
   "cell_type": "code",
   "execution_count": 14,
   "id": "67bfae0d-627e-414d-8dfa-679da0958d35",
   "metadata": {},
   "outputs": [
    {
     "data": {
      "text/plain": [
       "2013-01-01    0.944185\n",
       "2013-01-02   -0.971363\n",
       "2013-01-03    0.284983\n",
       "2013-01-04    0.700818\n",
       "2013-01-05    0.254263\n",
       "2013-01-06   -0.626666\n",
       "Freq: D, Name: A, dtype: float64"
      ]
     },
     "execution_count": 14,
     "metadata": {},
     "output_type": "execute_result"
    }
   ],
   "source": [
    "#Selecting a single column, which yields a Series, equivalent to df.A\n",
    "df['A']\n"
   ]
  },
  {
   "cell_type": "code",
   "execution_count": 15,
   "id": "fbd26a90-0c79-4670-ae64-9cc44611a2f0",
   "metadata": {},
   "outputs": [
    {
     "data": {
      "text/plain": [
       "2013-01-01    0.944185\n",
       "2013-01-02   -0.971363\n",
       "2013-01-03    0.284983\n",
       "2013-01-04    0.700818\n",
       "2013-01-05    0.254263\n",
       "2013-01-06   -0.626666\n",
       "Freq: D, Name: A, dtype: float64"
      ]
     },
     "execution_count": 15,
     "metadata": {},
     "output_type": "execute_result"
    }
   ],
   "source": [
    "#Selecting a single column, which yields a Series, equivalent to df.A\n",
    "df['A']\n"
   ]
  },
  {
   "cell_type": "code",
   "execution_count": 16,
   "id": "f593a1a4-1356-426e-89ba-62e1d0f4f2ab",
   "metadata": {},
   "outputs": [
    {
     "data": {
      "text/html": [
       "<div>\n",
       "<style scoped>\n",
       "    .dataframe tbody tr th:only-of-type {\n",
       "        vertical-align: middle;\n",
       "    }\n",
       "\n",
       "    .dataframe tbody tr th {\n",
       "        vertical-align: top;\n",
       "    }\n",
       "\n",
       "    .dataframe thead th {\n",
       "        text-align: right;\n",
       "    }\n",
       "</style>\n",
       "<table border=\"1\" class=\"dataframe\">\n",
       "  <thead>\n",
       "    <tr style=\"text-align: right;\">\n",
       "      <th></th>\n",
       "      <th>A</th>\n",
       "      <th>B</th>\n",
       "      <th>C</th>\n",
       "      <th>D</th>\n",
       "    </tr>\n",
       "  </thead>\n",
       "  <tbody>\n",
       "    <tr>\n",
       "      <th>2013-01-02</th>\n",
       "      <td>-0.971363</td>\n",
       "      <td>1.029009</td>\n",
       "      <td>-1.001402</td>\n",
       "      <td>-0.094285</td>\n",
       "    </tr>\n",
       "    <tr>\n",
       "      <th>2013-01-03</th>\n",
       "      <td>0.284983</td>\n",
       "      <td>1.363906</td>\n",
       "      <td>0.577354</td>\n",
       "      <td>0.310313</td>\n",
       "    </tr>\n",
       "    <tr>\n",
       "      <th>2013-01-04</th>\n",
       "      <td>0.700818</td>\n",
       "      <td>0.868870</td>\n",
       "      <td>-0.345051</td>\n",
       "      <td>-0.022051</td>\n",
       "    </tr>\n",
       "  </tbody>\n",
       "</table>\n",
       "</div>"
      ],
      "text/plain": [
       "                   A         B         C         D\n",
       "2013-01-02 -0.971363  1.029009 -1.001402 -0.094285\n",
       "2013-01-03  0.284983  1.363906  0.577354  0.310313\n",
       "2013-01-04  0.700818  0.868870 -0.345051 -0.022051"
      ]
     },
     "execution_count": 16,
     "metadata": {},
     "output_type": "execute_result"
    }
   ],
   "source": [
    "df['20130102':'20130104']"
   ]
  },
  {
   "cell_type": "code",
   "execution_count": 17,
   "id": "8faa2100-88a1-4837-afc5-6717ce162f39",
   "metadata": {},
   "outputs": [
    {
     "data": {
      "text/html": [
       "<div>\n",
       "<style scoped>\n",
       "    .dataframe tbody tr th:only-of-type {\n",
       "        vertical-align: middle;\n",
       "    }\n",
       "\n",
       "    .dataframe tbody tr th {\n",
       "        vertical-align: top;\n",
       "    }\n",
       "\n",
       "    .dataframe thead th {\n",
       "        text-align: right;\n",
       "    }\n",
       "</style>\n",
       "<table border=\"1\" class=\"dataframe\">\n",
       "  <thead>\n",
       "    <tr style=\"text-align: right;\">\n",
       "      <th></th>\n",
       "      <th>A</th>\n",
       "      <th>B</th>\n",
       "    </tr>\n",
       "  </thead>\n",
       "  <tbody>\n",
       "    <tr>\n",
       "      <th>2013-01-01</th>\n",
       "      <td>0.944185</td>\n",
       "      <td>-1.139272</td>\n",
       "    </tr>\n",
       "    <tr>\n",
       "      <th>2013-01-02</th>\n",
       "      <td>-0.971363</td>\n",
       "      <td>1.029009</td>\n",
       "    </tr>\n",
       "    <tr>\n",
       "      <th>2013-01-03</th>\n",
       "      <td>0.284983</td>\n",
       "      <td>1.363906</td>\n",
       "    </tr>\n",
       "    <tr>\n",
       "      <th>2013-01-04</th>\n",
       "      <td>0.700818</td>\n",
       "      <td>0.868870</td>\n",
       "    </tr>\n",
       "    <tr>\n",
       "      <th>2013-01-05</th>\n",
       "      <td>0.254263</td>\n",
       "      <td>1.334793</td>\n",
       "    </tr>\n",
       "    <tr>\n",
       "      <th>2013-01-06</th>\n",
       "      <td>-0.626666</td>\n",
       "      <td>0.377629</td>\n",
       "    </tr>\n",
       "  </tbody>\n",
       "</table>\n",
       "</div>"
      ],
      "text/plain": [
       "                   A         B\n",
       "2013-01-01  0.944185 -1.139272\n",
       "2013-01-02 -0.971363  1.029009\n",
       "2013-01-03  0.284983  1.363906\n",
       "2013-01-04  0.700818  0.868870\n",
       "2013-01-05  0.254263  1.334793\n",
       "2013-01-06 -0.626666  0.377629"
      ]
     },
     "execution_count": 17,
     "metadata": {},
     "output_type": "execute_result"
    }
   ],
   "source": [
    "#Selecting on a multi-axis by label\n",
    "df.loc[:,['A','B']]\n"
   ]
  },
  {
   "cell_type": "code",
   "execution_count": 18,
   "id": "c8d417a8-0143-483d-8d65-ff681faabc1d",
   "metadata": {},
   "outputs": [
    {
     "data": {
      "text/plain": [
       "A   -0.971363\n",
       "B    1.029009\n",
       "Name: 2013-01-02 00:00:00, dtype: float64"
      ]
     },
     "execution_count": 18,
     "metadata": {},
     "output_type": "execute_result"
    }
   ],
   "source": [
    "# Reduction in the dimensions of the returned object\n",
    "df.loc['20130102',['A','B']]"
   ]
  },
  {
   "cell_type": "code",
   "execution_count": 19,
   "id": "977d42d3-356a-4a0e-9377-09cd3c7f916e",
   "metadata": {},
   "outputs": [
    {
     "data": {
      "text/plain": [
       "np.float64(0.9441851049655556)"
      ]
     },
     "execution_count": 19,
     "metadata": {},
     "output_type": "execute_result"
    }
   ],
   "source": [
    "# For getting a scalar value\n",
    "df.loc[dates[0],'A']"
   ]
  },
  {
   "cell_type": "code",
   "execution_count": 20,
   "id": "8ab5364b-cf72-436d-9191-74100d61f22a",
   "metadata": {},
   "outputs": [
    {
     "data": {
      "text/plain": [
       "np.float64(0.9441851049655556)"
      ]
     },
     "execution_count": 20,
     "metadata": {},
     "output_type": "execute_result"
    }
   ],
   "source": [
    "# For getting fast access to a scalar\n",
    "df.at[dates[0],'A']"
   ]
  },
  {
   "cell_type": "code",
   "execution_count": 21,
   "id": "03060489-bb51-42a8-b98a-1ddbe959d893",
   "metadata": {},
   "outputs": [
    {
     "data": {
      "text/plain": [
       "A    0.700818\n",
       "B    0.868870\n",
       "C   -0.345051\n",
       "D   -0.022051\n",
       "Name: 2013-01-04 00:00:00, dtype: float64"
      ]
     },
     "execution_count": 21,
     "metadata": {},
     "output_type": "execute_result"
    }
   ],
   "source": [
    "# Select via the position of the passed integers\n",
    "df.iloc[3]\n"
   ]
  },
  {
   "cell_type": "code",
   "execution_count": 22,
   "id": "424dcbae-da07-43cc-b9f8-8eb1f38fc993",
   "metadata": {},
   "outputs": [
    {
     "data": {
      "text/html": [
       "<div>\n",
       "<style scoped>\n",
       "    .dataframe tbody tr th:only-of-type {\n",
       "        vertical-align: middle;\n",
       "    }\n",
       "\n",
       "    .dataframe tbody tr th {\n",
       "        vertical-align: top;\n",
       "    }\n",
       "\n",
       "    .dataframe thead th {\n",
       "        text-align: right;\n",
       "    }\n",
       "</style>\n",
       "<table border=\"1\" class=\"dataframe\">\n",
       "  <thead>\n",
       "    <tr style=\"text-align: right;\">\n",
       "      <th></th>\n",
       "      <th>A</th>\n",
       "      <th>B</th>\n",
       "    </tr>\n",
       "  </thead>\n",
       "  <tbody>\n",
       "    <tr>\n",
       "      <th>2013-01-04</th>\n",
       "      <td>0.700818</td>\n",
       "      <td>0.868870</td>\n",
       "    </tr>\n",
       "    <tr>\n",
       "      <th>2013-01-05</th>\n",
       "      <td>0.254263</td>\n",
       "      <td>1.334793</td>\n",
       "    </tr>\n",
       "  </tbody>\n",
       "</table>\n",
       "</div>"
      ],
      "text/plain": [
       "                   A         B\n",
       "2013-01-04  0.700818  0.868870\n",
       "2013-01-05  0.254263  1.334793"
      ]
     },
     "execution_count": 22,
     "metadata": {},
     "output_type": "execute_result"
    }
   ],
   "source": [
    "# By integer slices, acting similar to numpy/python\n",
    "df.iloc[3:5,0:2]"
   ]
  },
  {
   "cell_type": "code",
   "execution_count": 23,
   "id": "9d63cd1d-73d6-44af-863a-f2df6661ef29",
   "metadata": {},
   "outputs": [
    {
     "data": {
      "text/html": [
       "<div>\n",
       "<style scoped>\n",
       "    .dataframe tbody tr th:only-of-type {\n",
       "        vertical-align: middle;\n",
       "    }\n",
       "\n",
       "    .dataframe tbody tr th {\n",
       "        vertical-align: top;\n",
       "    }\n",
       "\n",
       "    .dataframe thead th {\n",
       "        text-align: right;\n",
       "    }\n",
       "</style>\n",
       "<table border=\"1\" class=\"dataframe\">\n",
       "  <thead>\n",
       "    <tr style=\"text-align: right;\">\n",
       "      <th></th>\n",
       "      <th>A</th>\n",
       "      <th>C</th>\n",
       "    </tr>\n",
       "  </thead>\n",
       "  <tbody>\n",
       "    <tr>\n",
       "      <th>2013-01-02</th>\n",
       "      <td>-0.971363</td>\n",
       "      <td>-1.001402</td>\n",
       "    </tr>\n",
       "    <tr>\n",
       "      <th>2013-01-03</th>\n",
       "      <td>0.284983</td>\n",
       "      <td>0.577354</td>\n",
       "    </tr>\n",
       "    <tr>\n",
       "      <th>2013-01-05</th>\n",
       "      <td>0.254263</td>\n",
       "      <td>-1.945413</td>\n",
       "    </tr>\n",
       "  </tbody>\n",
       "</table>\n",
       "</div>"
      ],
      "text/plain": [
       "                   A         C\n",
       "2013-01-02 -0.971363 -1.001402\n",
       "2013-01-03  0.284983  0.577354\n",
       "2013-01-05  0.254263 -1.945413"
      ]
     },
     "execution_count": 23,
     "metadata": {},
     "output_type": "execute_result"
    }
   ],
   "source": [
    "# By lists of integer position locations, similar to the numpy/python style\n",
    "df.iloc[[1,2,4],[0,2]]\n"
   ]
  },
  {
   "cell_type": "code",
   "execution_count": 24,
   "id": "4e61580d-7e22-4a5f-b7d1-4ddf7822ad9a",
   "metadata": {},
   "outputs": [
    {
     "data": {
      "text/html": [
       "<div>\n",
       "<style scoped>\n",
       "    .dataframe tbody tr th:only-of-type {\n",
       "        vertical-align: middle;\n",
       "    }\n",
       "\n",
       "    .dataframe tbody tr th {\n",
       "        vertical-align: top;\n",
       "    }\n",
       "\n",
       "    .dataframe thead th {\n",
       "        text-align: right;\n",
       "    }\n",
       "</style>\n",
       "<table border=\"1\" class=\"dataframe\">\n",
       "  <thead>\n",
       "    <tr style=\"text-align: right;\">\n",
       "      <th></th>\n",
       "      <th>B</th>\n",
       "      <th>C</th>\n",
       "    </tr>\n",
       "  </thead>\n",
       "  <tbody>\n",
       "    <tr>\n",
       "      <th>2013-01-01</th>\n",
       "      <td>-1.139272</td>\n",
       "      <td>-0.484228</td>\n",
       "    </tr>\n",
       "    <tr>\n",
       "      <th>2013-01-02</th>\n",
       "      <td>1.029009</td>\n",
       "      <td>-1.001402</td>\n",
       "    </tr>\n",
       "    <tr>\n",
       "      <th>2013-01-03</th>\n",
       "      <td>1.363906</td>\n",
       "      <td>0.577354</td>\n",
       "    </tr>\n",
       "    <tr>\n",
       "      <th>2013-01-04</th>\n",
       "      <td>0.868870</td>\n",
       "      <td>-0.345051</td>\n",
       "    </tr>\n",
       "    <tr>\n",
       "      <th>2013-01-05</th>\n",
       "      <td>1.334793</td>\n",
       "      <td>-1.945413</td>\n",
       "    </tr>\n",
       "    <tr>\n",
       "      <th>2013-01-06</th>\n",
       "      <td>0.377629</td>\n",
       "      <td>0.328876</td>\n",
       "    </tr>\n",
       "  </tbody>\n",
       "</table>\n",
       "</div>"
      ],
      "text/plain": [
       "                   B         C\n",
       "2013-01-01 -1.139272 -0.484228\n",
       "2013-01-02  1.029009 -1.001402\n",
       "2013-01-03  1.363906  0.577354\n",
       "2013-01-04  0.868870 -0.345051\n",
       "2013-01-05  1.334793 -1.945413\n",
       "2013-01-06  0.377629  0.328876"
      ]
     },
     "execution_count": 24,
     "metadata": {},
     "output_type": "execute_result"
    }
   ],
   "source": [
    "# For slicing rows explicitly\n",
    "df.iloc[:,1:3]"
   ]
  },
  {
   "cell_type": "code",
   "execution_count": 25,
   "id": "4f18a2b4-d3ae-4b9c-ad57-d89b9eaed2a7",
   "metadata": {},
   "outputs": [
    {
     "data": {
      "text/plain": [
       "np.float64(1.0290087676244732)"
      ]
     },
     "execution_count": 25,
     "metadata": {},
     "output_type": "execute_result"
    }
   ],
   "source": [
    "# For getting a value explicitly\n",
    "df.iloc[1,1]\n"
   ]
  },
  {
   "cell_type": "code",
   "execution_count": 26,
   "id": "03e68528-3555-4b0f-8d68-fae7b188d522",
   "metadata": {},
   "outputs": [
    {
     "data": {
      "text/html": [
       "<div>\n",
       "<style scoped>\n",
       "    .dataframe tbody tr th:only-of-type {\n",
       "        vertical-align: middle;\n",
       "    }\n",
       "\n",
       "    .dataframe tbody tr th {\n",
       "        vertical-align: top;\n",
       "    }\n",
       "\n",
       "    .dataframe thead th {\n",
       "        text-align: right;\n",
       "    }\n",
       "</style>\n",
       "<table border=\"1\" class=\"dataframe\">\n",
       "  <thead>\n",
       "    <tr style=\"text-align: right;\">\n",
       "      <th></th>\n",
       "      <th>A</th>\n",
       "      <th>B</th>\n",
       "      <th>C</th>\n",
       "      <th>D</th>\n",
       "    </tr>\n",
       "  </thead>\n",
       "  <tbody>\n",
       "    <tr>\n",
       "      <th>2013-01-01</th>\n",
       "      <td>0.944185</td>\n",
       "      <td>-1.139272</td>\n",
       "      <td>-0.484228</td>\n",
       "      <td>1.385440</td>\n",
       "    </tr>\n",
       "    <tr>\n",
       "      <th>2013-01-03</th>\n",
       "      <td>0.284983</td>\n",
       "      <td>1.363906</td>\n",
       "      <td>0.577354</td>\n",
       "      <td>0.310313</td>\n",
       "    </tr>\n",
       "    <tr>\n",
       "      <th>2013-01-04</th>\n",
       "      <td>0.700818</td>\n",
       "      <td>0.868870</td>\n",
       "      <td>-0.345051</td>\n",
       "      <td>-0.022051</td>\n",
       "    </tr>\n",
       "    <tr>\n",
       "      <th>2013-01-05</th>\n",
       "      <td>0.254263</td>\n",
       "      <td>1.334793</td>\n",
       "      <td>-1.945413</td>\n",
       "      <td>0.015426</td>\n",
       "    </tr>\n",
       "  </tbody>\n",
       "</table>\n",
       "</div>"
      ],
      "text/plain": [
       "                   A         B         C         D\n",
       "2013-01-01  0.944185 -1.139272 -0.484228  1.385440\n",
       "2013-01-03  0.284983  1.363906  0.577354  0.310313\n",
       "2013-01-04  0.700818  0.868870 -0.345051 -0.022051\n",
       "2013-01-05  0.254263  1.334793 -1.945413  0.015426"
      ]
     },
     "execution_count": 26,
     "metadata": {},
     "output_type": "execute_result"
    }
   ],
   "source": [
    "# Using a single column’s values to select data.\n",
    "df[df.A > 0]"
   ]
  },
  {
   "cell_type": "code",
   "execution_count": 27,
   "id": "99837bed-ba92-46b9-8cee-632d1da9d0b5",
   "metadata": {},
   "outputs": [
    {
     "data": {
      "text/html": [
       "<div>\n",
       "<style scoped>\n",
       "    .dataframe tbody tr th:only-of-type {\n",
       "        vertical-align: middle;\n",
       "    }\n",
       "\n",
       "    .dataframe tbody tr th {\n",
       "        vertical-align: top;\n",
       "    }\n",
       "\n",
       "    .dataframe thead th {\n",
       "        text-align: right;\n",
       "    }\n",
       "</style>\n",
       "<table border=\"1\" class=\"dataframe\">\n",
       "  <thead>\n",
       "    <tr style=\"text-align: right;\">\n",
       "      <th></th>\n",
       "      <th>A</th>\n",
       "      <th>B</th>\n",
       "      <th>C</th>\n",
       "      <th>D</th>\n",
       "    </tr>\n",
       "  </thead>\n",
       "  <tbody>\n",
       "    <tr>\n",
       "      <th>2013-01-01</th>\n",
       "      <td>0.944185</td>\n",
       "      <td>NaN</td>\n",
       "      <td>NaN</td>\n",
       "      <td>1.385440</td>\n",
       "    </tr>\n",
       "    <tr>\n",
       "      <th>2013-01-02</th>\n",
       "      <td>NaN</td>\n",
       "      <td>1.029009</td>\n",
       "      <td>NaN</td>\n",
       "      <td>NaN</td>\n",
       "    </tr>\n",
       "    <tr>\n",
       "      <th>2013-01-03</th>\n",
       "      <td>0.284983</td>\n",
       "      <td>1.363906</td>\n",
       "      <td>0.577354</td>\n",
       "      <td>0.310313</td>\n",
       "    </tr>\n",
       "    <tr>\n",
       "      <th>2013-01-04</th>\n",
       "      <td>0.700818</td>\n",
       "      <td>0.868870</td>\n",
       "      <td>NaN</td>\n",
       "      <td>NaN</td>\n",
       "    </tr>\n",
       "    <tr>\n",
       "      <th>2013-01-05</th>\n",
       "      <td>0.254263</td>\n",
       "      <td>1.334793</td>\n",
       "      <td>NaN</td>\n",
       "      <td>0.015426</td>\n",
       "    </tr>\n",
       "    <tr>\n",
       "      <th>2013-01-06</th>\n",
       "      <td>NaN</td>\n",
       "      <td>0.377629</td>\n",
       "      <td>0.328876</td>\n",
       "      <td>0.118453</td>\n",
       "    </tr>\n",
       "  </tbody>\n",
       "</table>\n",
       "</div>"
      ],
      "text/plain": [
       "                   A         B         C         D\n",
       "2013-01-01  0.944185       NaN       NaN  1.385440\n",
       "2013-01-02       NaN  1.029009       NaN       NaN\n",
       "2013-01-03  0.284983  1.363906  0.577354  0.310313\n",
       "2013-01-04  0.700818  0.868870       NaN       NaN\n",
       "2013-01-05  0.254263  1.334793       NaN  0.015426\n",
       "2013-01-06       NaN  0.377629  0.328876  0.118453"
      ]
     },
     "execution_count": 27,
     "metadata": {},
     "output_type": "execute_result"
    }
   ],
   "source": [
    "# Selecting values from a DataFrame where a boolean condition is met.\n",
    "df[df > 0]"
   ]
  },
  {
   "cell_type": "code",
   "execution_count": 28,
   "id": "9c4e90a6-b350-4cc7-aceb-19875cd39486",
   "metadata": {},
   "outputs": [],
   "source": [
    "# Using the isin() method for filtering:\n",
    "df2 = df.copy()"
   ]
  },
  {
   "cell_type": "code",
   "execution_count": 29,
   "id": "8617ac96-038f-47ca-a0c7-2182e57c958b",
   "metadata": {},
   "outputs": [],
   "source": [
    "df2['E'] = ['one', 'one','two','three','four','three']"
   ]
  },
  {
   "cell_type": "code",
   "execution_count": 30,
   "id": "4e96ec49-077f-499e-9646-adc519292e9f",
   "metadata": {},
   "outputs": [
    {
     "data": {
      "text/html": [
       "<div>\n",
       "<style scoped>\n",
       "    .dataframe tbody tr th:only-of-type {\n",
       "        vertical-align: middle;\n",
       "    }\n",
       "\n",
       "    .dataframe tbody tr th {\n",
       "        vertical-align: top;\n",
       "    }\n",
       "\n",
       "    .dataframe thead th {\n",
       "        text-align: right;\n",
       "    }\n",
       "</style>\n",
       "<table border=\"1\" class=\"dataframe\">\n",
       "  <thead>\n",
       "    <tr style=\"text-align: right;\">\n",
       "      <th></th>\n",
       "      <th>A</th>\n",
       "      <th>B</th>\n",
       "      <th>C</th>\n",
       "      <th>D</th>\n",
       "      <th>E</th>\n",
       "    </tr>\n",
       "  </thead>\n",
       "  <tbody>\n",
       "    <tr>\n",
       "      <th>2013-01-01</th>\n",
       "      <td>0.944185</td>\n",
       "      <td>-1.139272</td>\n",
       "      <td>-0.484228</td>\n",
       "      <td>1.385440</td>\n",
       "      <td>one</td>\n",
       "    </tr>\n",
       "    <tr>\n",
       "      <th>2013-01-02</th>\n",
       "      <td>-0.971363</td>\n",
       "      <td>1.029009</td>\n",
       "      <td>-1.001402</td>\n",
       "      <td>-0.094285</td>\n",
       "      <td>one</td>\n",
       "    </tr>\n",
       "    <tr>\n",
       "      <th>2013-01-03</th>\n",
       "      <td>0.284983</td>\n",
       "      <td>1.363906</td>\n",
       "      <td>0.577354</td>\n",
       "      <td>0.310313</td>\n",
       "      <td>two</td>\n",
       "    </tr>\n",
       "    <tr>\n",
       "      <th>2013-01-04</th>\n",
       "      <td>0.700818</td>\n",
       "      <td>0.868870</td>\n",
       "      <td>-0.345051</td>\n",
       "      <td>-0.022051</td>\n",
       "      <td>three</td>\n",
       "    </tr>\n",
       "    <tr>\n",
       "      <th>2013-01-05</th>\n",
       "      <td>0.254263</td>\n",
       "      <td>1.334793</td>\n",
       "      <td>-1.945413</td>\n",
       "      <td>0.015426</td>\n",
       "      <td>four</td>\n",
       "    </tr>\n",
       "    <tr>\n",
       "      <th>2013-01-06</th>\n",
       "      <td>-0.626666</td>\n",
       "      <td>0.377629</td>\n",
       "      <td>0.328876</td>\n",
       "      <td>0.118453</td>\n",
       "      <td>three</td>\n",
       "    </tr>\n",
       "  </tbody>\n",
       "</table>\n",
       "</div>"
      ],
      "text/plain": [
       "                   A         B         C         D      E\n",
       "2013-01-01  0.944185 -1.139272 -0.484228  1.385440    one\n",
       "2013-01-02 -0.971363  1.029009 -1.001402 -0.094285    one\n",
       "2013-01-03  0.284983  1.363906  0.577354  0.310313    two\n",
       "2013-01-04  0.700818  0.868870 -0.345051 -0.022051  three\n",
       "2013-01-05  0.254263  1.334793 -1.945413  0.015426   four\n",
       "2013-01-06 -0.626666  0.377629  0.328876  0.118453  three"
      ]
     },
     "execution_count": 30,
     "metadata": {},
     "output_type": "execute_result"
    }
   ],
   "source": [
    "df2"
   ]
  },
  {
   "cell_type": "code",
   "execution_count": null,
   "id": "25ecdf80-0128-4ba2-9395-ad92c4fa638f",
   "metadata": {},
   "outputs": [],
   "source": []
  }
 ],
 "metadata": {
  "kernelspec": {
   "display_name": "Python [conda env:base] *",
   "language": "python",
   "name": "conda-base-py"
  },
  "language_info": {
   "codemirror_mode": {
    "name": "ipython",
    "version": 3
   },
   "file_extension": ".py",
   "mimetype": "text/x-python",
   "name": "python",
   "nbconvert_exporter": "python",
   "pygments_lexer": "ipython3",
   "version": "3.13.5"
  }
 },
 "nbformat": 4,
 "nbformat_minor": 5
}
